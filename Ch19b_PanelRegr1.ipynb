{
 "cells": [
  {
   "cell_type": "markdown",
   "metadata": {},
   "source": [
    "# Panel Regressions\n"
   ]
  },
  {
   "cell_type": "markdown",
   "metadata": {},
   "source": [
    "## Loading Packages"
   ]
  },
  {
   "cell_type": "code",
   "execution_count": 1,
   "metadata": {},
   "outputs": [
    {
     "data": {
      "text/plain": [
       "exciseFn (generic function with 1 method)"
      ]
     },
     "execution_count": 1,
     "metadata": {},
     "output_type": "execute_result"
    }
   ],
   "source": [
    "using Dates, DelimitedFiles, Statistics, LinearAlgebra\n",
    "\n",
    "include(\"jlFiles/printmat.jl\")\n",
    "include(\"jlFiles/NWFn.jl\")\n",
    "include(\"jlFiles/OlsFn.jl\")\n",
    "include(\"jlFiles/lagnFn.jl\")\n",
    "include(\"jlFiles/exciseFn.jl\")"
   ]
  },
  {
   "cell_type": "markdown",
   "metadata": {},
   "source": [
    "## Loading Data"
   ]
  },
  {
   "cell_type": "code",
   "execution_count": 2,
   "metadata": {},
   "outputs": [
    {
     "name": "stdout",
     "output_type": "stream",
     "text": [
      "T=5 and N=716\n"
     ]
    }
   ],
   "source": [
    "x = readdlm(\"Data/nls_panelEd.txt\",skipstart=1)\n",
    "\n",
    "NT = size(x,1)\n",
    "c  = ones(NT)\n",
    "\n",
    "T = 5                 #number of time periods\n",
    "N = round(Int,NT/T)   #number of individuals         \n",
    "\n",
    "(id,year,lnwage)   = (x[:,1],x[:,2],x[:,3])\n",
    "(exper,exper2)     = (x[:,15],x[:,16])\n",
    "(tenure,tenure2)   = (x[:,17],x[:,18])\n",
    "(south,tradeunion) = (x[:,12],x[:,14])\n",
    "\n",
    "println(\"T=$T and N=$N\")"
   ]
  },
  {
   "cell_type": "markdown",
   "metadata": {},
   "source": [
    "## Creating Variables for the Regressions\n",
    "\n",
    "The next cell creates a matrix $yx$ which has the dependent variable as the first column and the regressors as the remaining columns.\n",
    "\n",
    "The subsequent cell makes a \"within transformation\" by creating \n",
    "\n",
    "$\n",
    "yx^*_{it} = yx_{it} - \\bar{yx}_{it}, \n",
    "$\n",
    "\n",
    "where $\\bar{yx}_{it}$ is a row vector with the averages of each column of $yx$ for individual $i$."
   ]
  },
  {
   "cell_type": "code",
   "execution_count": 3,
   "metadata": {},
   "outputs": [
    {
     "data": {
      "text/plain": [
       "7"
      ]
     },
     "execution_count": 3,
     "metadata": {},
     "output_type": "execute_result"
    }
   ],
   "source": [
    "xNames = [\"exper/100\",\"exper^2/100\",\"tenure/100\",\"tenure^2/100\",\"south\",\"union\"]\n",
    "yx = [lnwage c exper/100 exper2/100 tenure/100 tenure2/100 south tradeunion]\n",
    "K  = size(yx,2) - 1"
   ]
  },
  {
   "cell_type": "code",
   "execution_count": 4,
   "metadata": {},
   "outputs": [],
   "source": [
    "id_uniq = unique(id)\n",
    "N       = length(id_uniq)\n",
    "\n",
    "yxStar = fill(NaN,size(yx))\n",
    "yxbar = fill(NaN,(N,1+K))\n",
    "for i = 1:N                          #loop over individuals\n",
    "    local vv_i\n",
    "    vv_i          = id .== id_uniq[i]                #locate rows in yx which refer to individual i\n",
    "    yxbar[i,:]    = mean(yx[vv_i,:],dims=1)          #averages for individual i\n",
    "    yxStar[vv_i,:] = yx[vv_i,:] .- yxbar[i:i,:]      #i:i to keep it a row vector\n",
    "end"
   ]
  },
  {
   "cell_type": "markdown",
   "metadata": {},
   "source": [
    "## Pooled OLS, FE, and Between Estimations"
   ]
  },
  {
   "cell_type": "code",
   "execution_count": 5,
   "metadata": {},
   "outputs": [
    {
     "name": "stdout",
     "output_type": "stream",
     "text": [
      "Pooled OLS (coef and t-stat)\n",
      "     7.837     8.954\n",
      "    -0.201    -5.264\n",
      "     1.206     2.346\n",
      "    -0.024    -0.828\n",
      "    -0.196   -13.247\n",
      "     0.110     6.928\n",
      "\n",
      "FE\n",
      "     4.108     5.917\n",
      "    -0.041    -1.466\n",
      "     1.391     3.975\n",
      "    -0.090    -4.136\n",
      "    -0.016    -0.367\n",
      "     0.064     4.181\n",
      "\n",
      "Between\n",
      "    10.641     4.573\n",
      "    -0.317    -3.054\n",
      "     1.247     0.883\n",
      "    -0.016    -0.198\n",
      "    -0.201    -6.519\n",
      "     0.121     3.102\n",
      "\n"
     ]
    }
   ],
   "source": [
    "(b,res,yhat,Covb,R2,) = OlsFn(yx[:,1],yx[:,2:end])           #LS\n",
    "xutLS = hcat(b,b./sqrt.(diag(Covb)))\n",
    "xutLS = xutLS[2:end,:]\n",
    "\n",
    "\n",
    "(b,res,yhat,Covb,R2,) = OlsFn(yxStar[:,1],yxStar[:,3:end])    #fixed effect\n",
    "xutFE = hcat(b,b./sqrt.(diag(Covb))*sqrt(NT-N-2)/sqrt(NT-2))\n",
    "s2_e  = sum(res.^2)/(NT-N-(K-1))\n",
    "\n",
    "\n",
    "(b,res,yhat,Covb,R2,) = OlsFn(yxbar[:,1],yxbar[:,2:end])      #between estimator\n",
    "xutB = hcat(b,b./sqrt.(diag(Covb)))\n",
    "xutB = xutB[2:end,:]\n",
    "s2_u = max(0,sum(res.^2)/(N-K) - s2_e/T)\n",
    "\n",
    "println(\"Pooled OLS (coef and t-stat)\")\n",
    "printmat(xutLS)\n",
    "println(\"FE\")\n",
    "printmat(xutFE)\n",
    "println(\"Between\")\n",
    "printmat(xutB)"
   ]
  },
  {
   "cell_type": "markdown",
   "metadata": {},
   "source": [
    "## First-Difference Model\n",
    "\n",
    "To estimate the first-difference model, we first need to calculate the differences (over two time periods) for the same individual. \n",
    "\n",
    "In the cell below, we call on the function `lagnFn` which lags the data once (as a default). For the first time period, the result is a NaN (as there are no earlier values). After the loop we locate and delete all rows that include some NaNs. This means that we will have only $T-1$ data points for each individual. Finally, we replace the zeros created "
   ]
  },
  {
   "cell_type": "code",
   "execution_count": 6,
   "metadata": {},
   "outputs": [
    {
     "name": "stdout",
     "output_type": "stream",
     "text": [
      "size of yxStarΔ: (2864, 8)\n"
     ]
    }
   ],
   "source": [
    "yxStarΔ = fill(NaN,size(yx))\n",
    "for i = 1:N                          #loop over individuals\n",
    "    local vv_i\n",
    "    vv_i            = id .== id_uniq[i]   #rows in yx which refer to individual i\n",
    "    yxStarΔ[vv_i,:] = yx[vv_i,:] - lagnFn(yx[vv_i,:])\n",
    "end\n",
    "\n",
    "yxStarΔ = exciseFn(yxStarΔ)          #cut out rows with NaNs\n",
    "yxStarΔ[:,2] .= 1                    #constant  \n",
    "\n",
    "println(\"size of yxStarΔ: \",size(yxStarΔ))"
   ]
  },
  {
   "cell_type": "code",
   "execution_count": 7,
   "metadata": {},
   "outputs": [
    {
     "name": "stdout",
     "output_type": "stream",
     "text": [
      "1-st difference estimations\n",
      "     3.548     2.277\n",
      "    -0.045    -0.933\n",
      "     1.293     2.527\n",
      "    -0.083    -2.329\n",
      "    -0.024    -0.395\n",
      "     0.044     3.115\n",
      "\n"
     ]
    }
   ],
   "source": [
    "(b,res,yhat,Covb,R2,) = OlsFn(yxStarΔ[:,1],yxStarΔ[:,2:end])\n",
    "xutΔ = hcat(b,b./sqrt.(diag(Covb)))\n",
    "xutΔ = xutΔ[2:end,:]\n",
    "\n",
    "println(\"1-st difference estimations\")\n",
    "printmat(xutΔ)"
   ]
  },
  {
   "cell_type": "markdown",
   "metadata": {},
   "source": [
    "## GLS of Random Effects Model (extra)"
   ]
  },
  {
   "cell_type": "code",
   "execution_count": 8,
   "metadata": {},
   "outputs": [
    {
     "name": "stdout",
     "output_type": "stream",
     "text": [
      "GLS\n",
      "     4.570     7.111\n",
      "    -0.063    -2.387\n",
      "     1.380     4.032\n",
      "    -0.074    -3.575\n",
      "    -0.132    -5.255\n",
      "     0.075     5.611\n",
      "\n"
     ]
    }
   ],
   "source": [
    "ϑ = 1 - sqrt(s2_e)/sqrt(T*s2_u+s2_e)                       #GLS\n",
    "yxStar_ϑ = fill(NaN,size(yx))\n",
    "for i = 1:N\n",
    "    local vv_i\n",
    "    vv_i             = id .== id_uniq[i]\n",
    "    yxStar_ϑ[vv_i,:] = yx[vv_i,:] .- ϑ*yxbar[i:i,:]       #\n",
    "end\n",
    "(b,res,yhat,Covb,R2,) = OlsFn(yxStar_ϑ[:,1],yxStar_ϑ[:,2:end])\n",
    "xutGLS = hcat(b,b./sqrt.(diag(Covb)))\n",
    "xutGLS = xutGLS[2:end,:]\n",
    "\n",
    "println(\"GLS\")\n",
    "printmat(xutGLS)"
   ]
  },
  {
   "cell_type": "code",
   "execution_count": null,
   "metadata": {},
   "outputs": [],
   "source": []
  }
 ],
 "metadata": {
  "anaconda-cloud": {},
  "kernelspec": {
   "display_name": "Julia 1.1.0",
   "language": "julia",
   "name": "julia-1.1"
  },
  "language_info": {
   "file_extension": ".jl",
   "mimetype": "application/julia",
   "name": "julia",
   "version": "1.1.0"
  }
 },
 "nbformat": 4,
 "nbformat_minor": 1
}
