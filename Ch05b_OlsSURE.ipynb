{
 "cells": [
  {
   "cell_type": "markdown",
   "metadata": {},
   "source": [
    "# OLS on a System of Regressions\n",
    "\n",
    "\n",
    "This notebook illustrates how we estimate a system of regressions with OLS - and test (coefficients) across the regressions. "
   ]
  },
  {
   "cell_type": "markdown",
   "metadata": {},
   "source": [
    "## Loading Packages"
   ]
  },
  {
   "cell_type": "code",
   "execution_count": 1,
   "metadata": {},
   "outputs": [
    {
     "data": {
      "text/plain": [
       "NWFn"
      ]
     },
     "execution_count": 1,
     "metadata": {},
     "output_type": "execute_result"
    }
   ],
   "source": [
    "using Dates, DelimitedFiles, Statistics, LinearAlgebra\n",
    "\n",
    "include(\"jlFiles/printmat.jl\")\n",
    "include(\"jlFiles/NWFn.jl\")"
   ]
  },
  {
   "cell_type": "markdown",
   "metadata": {},
   "source": [
    "## Loading Data"
   ]
  },
  {
   "cell_type": "code",
   "execution_count": 2,
   "metadata": {},
   "outputs": [
    {
     "data": {
      "text/plain": [
       "388"
      ]
     },
     "execution_count": 2,
     "metadata": {},
     "output_type": "execute_result"
    }
   ],
   "source": [
    "x = readdlm(\"Data/FFmFactorsPs.csv\",',',skipstart=1)\n",
    "\n",
    "                #yearmonth, market, small minus big, high minus low\n",
    "(ym,Rme,RSMB,RHML) = (x[:,1],x[:,2]/100,x[:,3]/100,x[:,4]/100) \n",
    "x = nothing                   \n",
    "\n",
    "T = size(Rme,1)"
   ]
  },
  {
   "cell_type": "markdown",
   "metadata": {
    "collapsed": true
   },
   "source": [
    "# A Function for Joint Estimation of Several Regressions (OLS)\n",
    "\n",
    "\n",
    "Consider the linear regression\n",
    "\n",
    "$\n",
    "y_{it}=\\beta_i^{\\prime}x_{t}+\\varepsilon_{it}, \n",
    "$\n",
    "\n",
    "where $i=1,2,..,n$ indicates $n$ different dependent variables. The regressors are the *same* across the regressions. \n",
    "\n",
    "The next cell defines a function for this estimation. The subsequent cell tests if the intercepts (alphas) are the same across regressions."
   ]
  },
  {
   "cell_type": "code",
   "execution_count": 3,
   "metadata": {},
   "outputs": [
    {
     "data": {
      "text/plain": [
       "OlsSureFn"
      ]
     },
     "execution_count": 3,
     "metadata": {},
     "output_type": "execute_result"
    }
   ],
   "source": [
    "\"\"\"\n",
    "    OlsSureFn(y,x,m=0)\n",
    "\n",
    "LS of y on x; for one n dependent variables, same regressors\n",
    "\n",
    "# Usage\n",
    "(b,res,yhat,Covb,R2a) = OlsSureFn(y,x,m)\n",
    "\n",
    "# Input\n",
    "- `y::Array`:     Txn, the n dependent variables\n",
    "- `x::Array`:     Txk matrix of regressors (including deterministic ones)\n",
    "- `m::Int`:       scalar, bandwidth in Newey-West  \n",
    "\n",
    "# Output\n",
    "- `b::Array`:     n*kx1, regression coefficients\n",
    "- `u::Array`:     Txn, residuals y - yhat\n",
    "- `yhat::Array`:  Txn, fitted values x*b\n",
    "- `V::Array`:     matrix, covariance matrix of vec(b)\n",
    "- `R2a::Number`:  n vector, R2 value\n",
    "\n",
    "\"\"\"\n",
    "function OlsSureFn(y,x,m=0)\n",
    "    (T,n) = (size(y,1),size(y,2))\n",
    "    k     = size(x,2)\n",
    "    b     = x\\y\n",
    "    yhat  = x*b\n",
    "    u     = y - yhat   \n",
    "    g     = zeros(T,n*k)\n",
    "    for i = 1:n                      \n",
    "      vv      = (1+(i-1)*k):(i*k)   #1:k,(1+k):2k,...\n",
    "      g[:,vv] = x.*u[:,i]           #moment conditions for y[:,i] regression\n",
    "    end    \n",
    "    S0    = NWFn(g,m)            #Newey-West covariance matrix\n",
    "    Sxxi  = -x'x/T \n",
    "    Sxx_1 = kron(Matrix(1.0I,n,n),inv(Sxxi))\n",
    "    V     = Sxx_1 * S0 * Sxx_1/T\n",
    "    R2a   = 1.0 .- var(u,dims=1)./var(y,dims=1)   \n",
    "    return b,u,yhat,V,R2a\n",
    "end"
   ]
  },
  {
   "cell_type": "code",
   "execution_count": 4,
   "metadata": {},
   "outputs": [
    {
     "name": "stdout",
     "output_type": "stream",
     "text": [
      "regressing [RSMB RHML] on Rme: regression i is in column i\n",
      "Regression Coeffs\n",
      "     0.001     0.005\n",
      "     0.164    -0.230\n",
      "\n",
      "std\n",
      "     0.001     0.002\n",
      "     0.034     0.051\n",
      "\n",
      "test-statictic of alpha1=alpha2 and 10% critical value of chi-square(1)\n",
      "     2.112     2.710\n",
      "\n"
     ]
    }
   ],
   "source": [
    "println(\"regressing [RSMB RHML] on Rme: regression i is in column i\")\n",
    "(b,u,yhat,V,R2a) = OlsSureFn([RSMB RHML],[ones(T) Rme],1)\n",
    "println(\"Regression Coeffs\")\n",
    "printmat(b)\n",
    "println(\"std\")\n",
    "printmat(sqrt.(reshape(diag(V),2,2)))\n",
    "\n",
    "\n",
    "R = [1 0 -1 0]                               #Testing if the alphas are the same\n",
    "Γ = R*V*R'\n",
    "test_stat = (R*vec(b))'inv(Γ)*(R*vec(b))\n",
    "println(\"test-statictic of alpha1=alpha2 and 10% critical value of chi-square(1)\")\n",
    "printmat([test_stat 2.71])"
   ]
  },
  {
   "cell_type": "code",
   "execution_count": null,
   "metadata": {},
   "outputs": [],
   "source": []
  }
 ],
 "metadata": {
  "@webio": {
   "lastCommId": null,
   "lastKernelId": null
  },
  "anaconda-cloud": {},
  "kernelspec": {
   "display_name": "Julia 1.1.0",
   "language": "julia",
   "name": "julia-1.1"
  },
  "language_info": {
   "file_extension": ".jl",
   "mimetype": "application/julia",
   "name": "julia",
   "version": "1.1.0"
  }
 },
 "nbformat": 4,
 "nbformat_minor": 1
}
