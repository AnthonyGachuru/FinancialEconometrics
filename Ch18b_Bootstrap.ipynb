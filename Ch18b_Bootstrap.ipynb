{
 "cells": [
  {
   "cell_type": "markdown",
   "metadata": {},
   "source": [
    "# Bootstrapping a Linear Regression"
   ]
  },
  {
   "cell_type": "markdown",
   "metadata": {},
   "source": [
    "## Loading Packages"
   ]
  },
  {
   "cell_type": "code",
   "execution_count": 1,
   "metadata": {},
   "outputs": [
    {
     "data": {
      "text/plain": [
       "NWFn"
      ]
     },
     "execution_count": 1,
     "metadata": {},
     "output_type": "execute_result"
    }
   ],
   "source": [
    "using Dates, DelimitedFiles, Statistics, LinearAlgebra, Random\n",
    "\n",
    "include(\"jlFiles/printmat.jl\")\n",
    "include(\"jlFiles/OlsFn.jl\")\n",
    "include(\"jlFiles/NWFn.jl\")"
   ]
  },
  {
   "cell_type": "markdown",
   "metadata": {},
   "source": [
    "## Loading Data\n",
    "\n",
    "The regressions used below are of the type\n",
    "\n",
    "$\n",
    "y_t = x_t'b + u_t\n",
    "$\n",
    "\n",
    "where $y_t$ are monthly data on 1-year excess returns on a bond and $x_t$ are lagged (12 months) forward rates. "
   ]
  },
  {
   "cell_type": "code",
   "execution_count": 2,
   "metadata": {},
   "outputs": [
    {
     "name": "stdout",
     "output_type": "stream",
     "text": [
      "T = 580, n = 1, K = 6\n"
     ]
    }
   ],
   "source": [
    "xx  = readdlm(\"Data/BondPremiaPs.csv\",',',skipstart=1)   \n",
    "rx  = xx[:,5]                     #bond excess returns\n",
    "f   = xx[:,6:end]                 #forward rates\n",
    "\n",
    "x = [ones(size(f,1)-12) f[1:end-12,:]]   #regressors\n",
    "y = rx[13:end]                           #dependent variable\n",
    "\n",
    "\n",
    "(T,n) = (size(y,1),size(y,2))            #no. obs and no. test assets\n",
    "K     = size(x,2)                        #no. regressors\n",
    "\n",
    "println(\"T = $T, n = $n, K = $K\")"
   ]
  },
  {
   "cell_type": "markdown",
   "metadata": {},
   "source": [
    "## Point Estimates"
   ]
  },
  {
   "cell_type": "code",
   "execution_count": 3,
   "metadata": {},
   "outputs": [
    {
     "name": "stdout",
     "output_type": "stream",
     "text": [
      "\u001b[34m\u001b[1mPoint estimates\u001b[22m\u001b[39m\n",
      "LS coeffs      std\n",
      "    -3.306     0.943\n",
      "    -4.209     0.583\n",
      "    10.627     4.378\n",
      "   -14.397    13.989\n",
      "     7.096    18.094\n",
      "     1.284     8.058\n",
      "\n"
     ]
    }
   ],
   "source": [
    "(bLS,u,yhat,Covb,) = OlsFn(y,x)              #OLS estimate and classical std errors\n",
    "StdbLS = sqrt.(diag(Covb))                   #Covb is Cov(sqrt(T)b) \n",
    "\n",
    "printstyled(\"Point estimates\\n\",color=:blue,bold=:true)\n",
    "println(\"LS coeffs      std\")\n",
    "printmat([bLS  StdbLS])"
   ]
  },
  {
   "cell_type": "markdown",
   "metadata": {},
   "source": [
    "## Bootstrap\n",
    "\n",
    "In each loop, a new series of residuals, $\\tilde{u}_{t}$, is created by drawing values from the fitted residuals. Then,simulated values of the dependent variable are created as $\\tilde{y}_{t}=x_{t}^{\\prime}\\beta+\\tilde{u}_{t}$ and we redo the estimation on ($\\tilde{y}_{t},x_{t}$).\n",
    "\n",
    "This is repeated `NSim` times."
   ]
  },
  {
   "cell_type": "code",
   "execution_count": 4,
   "metadata": {},
   "outputs": [
    {
     "name": "stdout",
     "output_type": "stream",
     "text": [
      "\n",
      "\u001b[34m\u001b[1mAverage bootstrap estimates and bootstrapped std\u001b[22m\u001b[39m\n",
      "    -3.322     0.831\n",
      "    -4.238     0.711\n",
      "    10.803     4.582\n",
      "   -14.763    13.108\n",
      "     7.401    16.073\n",
      "     1.200     6.960\n",
      "\n",
      "\n",
      "\u001b[34m\u001b[1mbootstrapped std/OLS std\u001b[22m\u001b[39m\n",
      "     0.882\n",
      "     1.221\n",
      "     1.047\n",
      "     0.937\n",
      "     0.888\n",
      "     0.864\n",
      "\n"
     ]
    }
   ],
   "source": [
    "NSim      = 2000                 #no. of simulations\n",
    "Random.seed!(123)\n",
    "\n",
    "bBoot   = fill(NaN,(NSim,K))  \n",
    "for i = 1:NSim                                       #loop over simulations\n",
    "  #local t_i, vv_i, utilde, ytilde, b_i              #only needed in REPL/script\n",
    "  t_i        = rand(1:T,T)                           #T random numbers from 1:T (with replacement)\n",
    "  #println(t_i)                                      #uncomment to see which rows that are picked out\n",
    "  utilde     = u[t_i]\n",
    "  ytilde     = x*bLS + utilde[1:T]\n",
    "  b_i,       = OlsFn(ytilde,x)                       #,skips the remaining outputs\n",
    "  bBoot[i,:] = b_i\n",
    "end\n",
    "\n",
    "printstyled(\"\\nAverage bootstrap estimates and bootstrapped std\\n\",color=:blue,bold=:true)\n",
    "printmat([mean(bBoot,dims=1)' std(bBoot,dims=1)'])          \n",
    "\n",
    "printstyled(\"\\nbootstrapped std/OLS std\\n\",color=:blue,bold=:true)\n",
    "printmat(std(bBoot,dims=1)'./StdbLS)                        "
   ]
  },
  {
   "cell_type": "markdown",
   "metadata": {},
   "source": [
    "## Block Bootstrap (extra)\n",
    "\n",
    "To handle autocorrrelated residuals, we now consider a *block bootstrap*.\n",
    "\n",
    "\n",
    "In each loop, we initially define a random starting point (row number) of each block (by using the rand() function)---and create a vector of all rows that are in a block. For instance, suppose we randomly draw that the blocks should start on rows $27$ and $35$ (...assuming only two blocks in each simulation) and that we have decided that each block should contain $10$ rows, then the artificial sample will pick out rows $27-36$ and $35-44$. Clearly, some rows can be in several blocks. Once we have $T$ rows, we define a new series of residuals, $\\tilde{u}_{t}$.\n",
    "\n",
    "Then, new values of the dependent variable are created as $\\tilde{y}_{t}=x_{t}^{\\prime}\\beta+\\tilde{u}_{t}$ and we redo the estimation on ($\\tilde{y}_{t},x_{t}$)."
   ]
  },
  {
   "cell_type": "code",
   "execution_count": 5,
   "metadata": {},
   "outputs": [
    {
     "name": "stdout",
     "output_type": "stream",
     "text": [
      "\n",
      "\u001b[34m\u001b[1mAverage bootstrap estimates and bootstrapped std\u001b[22m\u001b[39m\n",
      "    -3.268     2.066\n",
      "    -4.235     1.398\n",
      "    10.838     8.301\n",
      "   -14.877    23.732\n",
      "     7.586    29.594\n",
      "     1.088    13.115\n",
      "\n",
      "\n",
      "\u001b[34m\u001b[1mbootstrapped std/OLS std\u001b[22m\u001b[39m\n",
      "     2.192\n",
      "     2.399\n",
      "     1.896\n",
      "     1.696\n",
      "     1.636\n",
      "     1.628\n",
      "\n"
     ]
    }
   ],
   "source": [
    "BlockSize = 10                   #size of blocks\n",
    "NSim      = 2000                 #no. of simulations\n",
    "Random.seed!(123)\n",
    "\n",
    "nBlocks = round(Int,ceil(T/BlockSize))             #number of blocks, rounded up\n",
    "bBoot   = fill(NaN,(NSim,K*n))                       #vec(b), [beq1 beq2..beqn]\n",
    "for i = 1:NSim                                       #loop over simulations\n",
    "  #local t_i, vv_i, utilde, ytilde, b_i              #only needed in REPL/script\n",
    "  t_i        = rand(1:T,nBlocks,1)                   #nBlocks x 1, random starting row of blocks\n",
    "  t_i        = t_i .+ collect(0:BlockSize-1)'        #nBlocks x BlockSize, each row is a block\n",
    "  vv_i       = t_i .> T\n",
    "  t_i[vv_i]  = t_i[vv_i] .- T                        #wrap around if index > T\n",
    "  #println(t_i)                                      #uncomment to see which rows that are picked out\n",
    "  t_i        = vec(t_i')                             #column vector of the blocks\n",
    "  utilde     = u[t_i,:]\n",
    "  ytilde     = x*bLS + utilde[1:T,:]\n",
    "  b_i,       = OlsFn(ytilde,x)                       #,skips the remaining outputs\n",
    "  bBoot[i,:] = b_i\n",
    "end\n",
    "\n",
    "printstyled(\"\\nAverage bootstrap estimates and bootstrapped std\\n\",color=:blue,bold=true)\n",
    "printmat([mean(bBoot,dims=1)' std(bBoot,dims=1)'])\n",
    "\n",
    "printstyled(\"\\nbootstrapped std/OLS std\\n\",color=:blue,bold=true)\n",
    "printmat(std(bBoot,dims=1)'./StdbLS)     "
   ]
  },
  {
   "cell_type": "code",
   "execution_count": null,
   "metadata": {},
   "outputs": [],
   "source": []
  }
 ],
 "metadata": {
  "@webio": {
   "lastCommId": null,
   "lastKernelId": null
  },
  "anaconda-cloud": {},
  "kernelspec": {
   "display_name": "Julia 1.1.0",
   "language": "julia",
   "name": "julia-1.1"
  },
  "language_info": {
   "file_extension": ".jl",
   "mimetype": "application/julia",
   "name": "julia",
   "version": "1.1.0"
  }
 },
 "nbformat": 4,
 "nbformat_minor": 1
}
