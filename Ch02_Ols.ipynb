{
 "cells": [
  {
   "cell_type": "markdown",
   "metadata": {},
   "source": [
    "# Basic OLS\n",
    "\n",
    "This notebook estimates a linear regression and tests various hypotheses."
   ]
  },
  {
   "cell_type": "markdown",
   "metadata": {},
   "source": [
    "## Loading Packages"
   ]
  },
  {
   "cell_type": "code",
   "execution_count": 1,
   "metadata": {},
   "outputs": [
    {
     "data": {
      "text/plain": [
       "NWFn"
      ]
     },
     "execution_count": 1,
     "metadata": {},
     "output_type": "execute_result"
    }
   ],
   "source": [
    "using Dates, DelimitedFiles, Statistics, LinearAlgebra, Distributions\n",
    "\n",
    "include(\"jlFiles/printmat.jl\")\n",
    "include(\"jlFiles/printTable.jl\")\n",
    "include(\"jlFiles/NWFn.jl\")         #a function for Newey-West standard errors"
   ]
  },
  {
   "cell_type": "markdown",
   "metadata": {},
   "source": [
    "## Loading Data"
   ]
  },
  {
   "cell_type": "code",
   "execution_count": 2,
   "metadata": {},
   "outputs": [
    {
     "name": "stdout",
     "output_type": "stream",
     "text": [
      "Sample size:       388\n"
     ]
    }
   ],
   "source": [
    "x = readdlm(\"Data/FFmFactorsPs.csv\",',',skipstart=1)\n",
    "\n",
    "                #yearmonth, market, small minus big, high minus low\n",
    "(ym,Rme,RSMB,RHML) = (x[:,1],x[:,2]/100,x[:,3]/100,x[:,4]/100) \n",
    "x = nothing\n",
    "\n",
    "printlnPs(\"Sample size:\",size(Rme))"
   ]
  },
  {
   "cell_type": "markdown",
   "metadata": {},
   "source": [
    "## OLS Estimates and Their Distribution"
   ]
  },
  {
   "cell_type": "markdown",
   "metadata": {},
   "source": [
    "Consider the linear regression\n",
    "\n",
    "$\n",
    "y_{t}=\\beta^{\\prime}x_{t}+u_{t},\n",
    "$\n",
    "\n",
    "where $y_{t}$ is a scalar and $x_{t}$ is $k\\times1$. The OLS estimate is\n",
    "\n",
    "$\n",
    "\\hat{\\beta} = S_{xx}^{-1}S_{xy}, \\: \\text{ where } \\: \n",
    "S_{xx}      = \\sum\\nolimits_{t=1}^{T}x_{t}x_{t}^{\\prime}\n",
    "\\: \\text{ and } \\:\n",
    "S_{xy}      = \\sum\\nolimits_{t=1}^{T}x_{t}y_{t}.\n",
    "$\n",
    "\n",
    "When $x_t$ and $u_t$ are independent (Gauss-Markov assumptions...), then he distribution of the estimates is (typically)\n",
    "\n",
    "$\n",
    "(\\hat{\\beta}-\\beta_{0})\\overset{d}{\\rightarrow}N(0,S_{xx}^{-1}\\sigma^2),\n",
    "$\n",
    "\n",
    "where $\\sigma^2$ is the variance of the residual.\n",
    "\n",
    "To calculate the estimates and the covariance matrix, we define the matrices $X_{T\\times k}$ and $Y_{T\\times1}$\n",
    "by letting $x_{t}^{\\prime}$ and $y_{t}$ be the $t^{th}$ rows\n",
    "\n",
    "$\n",
    "X_{T\\times k}=\\left[\n",
    "\\begin{array}[c]{l}\n",
    "x_{1}^{\\prime}\\\\\n",
    "\\vdots\\\\\n",
    "x_{T}^{\\prime}\n",
    "\\end{array}\n",
    "\\right] \\ \\text{ and } \\ Y_{T\\times1}=\\left[\n",
    "\\begin{array}[c]{l}\n",
    "y_{1}\\\\\n",
    "\\vdots\\\\\n",
    "y_{T}\n",
    "\\end{array}\n",
    "\\right].\n",
    "$\n",
    "\n",
    "The estimates can then be calculated as \n",
    "```\n",
    "b = X\\Y\n",
    "```"
   ]
  },
  {
   "cell_type": "markdown",
   "metadata": {},
   "source": [
    "## A Function for OLS"
   ]
  },
  {
   "cell_type": "code",
   "execution_count": 3,
   "metadata": {},
   "outputs": [
    {
     "data": {
      "text/plain": [
       "OlsGMFn"
      ]
     },
     "execution_count": 3,
     "metadata": {},
     "output_type": "execute_result"
    }
   ],
   "source": [
    "\"\"\"\n",
    "    OlsGMFn(Y,X)\n",
    "\n",
    "LS of Y on X; for one dependent variable, Gauss-Markov assumptions\n",
    "\n",
    "# Usage\n",
    "(b,u,Yhat,V,R2a) = OlsGMFn(Y,X)\n",
    "\n",
    "# Input\n",
    "- `Y::Array`:     Tx1, the dependent variable\n",
    "- `X::Array`:     Txk matrix of regressors (including deterministic ones)\n",
    "\n",
    "# Output\n",
    "- `b::Array`:     kx1, regression coefficients\n",
    "- `u::Array`:     Tx1, residuals Y - yhat\n",
    "- `Yhat::Array`:  Tx1, fitted values X*b\n",
    "- `V::Array`:     kxk matrix, covariance matrix of b\n",
    "- `R2a::Number`:  scalar, R2 value\n",
    "\n",
    "\"\"\"\n",
    "function OlsGMFn(Y,X)\n",
    "    T    = size(Y,1)\n",
    "    b    = X\\Y\n",
    "    Yhat = X*b\n",
    "    u    = Y - Yhat\n",
    "    σ²   = var(u)\n",
    "    V    = inv(X'X)*σ²\n",
    "    R2a  = 1 - σ²/var(Y)\n",
    "    return b,u,Yhat,V,R2a\n",
    "end"
   ]
  },
  {
   "cell_type": "code",
   "execution_count": 4,
   "metadata": {},
   "outputs": [
    {
     "name": "stdout",
     "output_type": "stream",
     "text": [
      "\u001b[34m\u001b[1mOLS Results\u001b[22m\u001b[39m\n",
      "\n",
      "            b       std\n",
      "c       0.007     0.002\n",
      "SMB     0.217     0.073\n",
      "HML    -0.429     0.074\n",
      "\n"
     ]
    }
   ],
   "source": [
    "Y = Rme\n",
    "T = size(Y,1)\n",
    "X = [ones(T) RSMB RHML]\n",
    "\n",
    "(b,_,_,V,R2a) = OlsGMFn(Y,X)\n",
    "\n",
    "printblue(\"OLS Results\\n\")\n",
    "rowNames = [\"c\",\"SMB\",\"HML\"]\n",
    "printTable([b sqrt.(diag(V))],[\"b\",\"std\"],rowNames)"
   ]
  },
  {
   "cell_type": "markdown",
   "metadata": {},
   "source": [
    "## Testing a Hypothesis"
   ]
  },
  {
   "cell_type": "markdown",
   "metadata": {},
   "source": [
    "Since the estimator $\\hat{\\beta}_{_{k\\times1}}$ satisfies\n",
    "\n",
    "$\n",
    "\\hat{\\beta}-\\beta_{0} \\sim N(0,V_{k\\times k})  ,\n",
    "$\n",
    "\n",
    "we can easily apply various tests. To test a joint linear hypothesis of the\n",
    "form\n",
    "\n",
    "$\n",
    "\\gamma_{q\\times1}=R\\beta-a,\n",
    "$\n",
    "\n",
    "use the test\n",
    "\n",
    "$\n",
    "(R\\beta-a)^{\\prime}\\Lambda ^{-1}(R\\beta\n",
    "-a)\\overset{d}{\\rightarrow}\\chi_{q}^{2} \\: \\text{, where } \\: \\Lambda=RVR^{\\prime}.\n",
    "$"
   ]
  },
  {
   "cell_type": "code",
   "execution_count": 5,
   "metadata": {},
   "outputs": [
    {
     "name": "stdout",
     "output_type": "stream",
     "text": [
      "\u001b[34m\u001b[1mTesting Rb = a:\u001b[22m\u001b[39m\n",
      "test-statistic and 10% critical value of chi-square(2)\n",
      "    60.010     4.605\n",
      "\n"
     ]
    }
   ],
   "source": [
    "R = [0 1 0;               #testing if b(2)=0 and b(3)=0\n",
    "     0 0 1]\n",
    "a = [0;0]\n",
    "Γ = R*V*R'\n",
    "test_stat = (R*b-a)'inv(Γ)*(R*b-a)\n",
    "\n",
    "printblue(\"Testing Rb = a:\")\n",
    "println(\"test-statistic and 10% critical value of chi-square(2)\")\n",
    "printmat([test_stat quantile(Chisq(2),0.9)])"
   ]
  },
  {
   "cell_type": "markdown",
   "metadata": {},
   "source": [
    "## Distribution of OLS Estimates\n",
    "\n",
    "when the Gauss-Markov assumption do not hold. \n",
    "\n",
    "The distribution of the estimates is (typically)\n",
    "\n",
    "$\n",
    "(\\hat{\\beta}-\\beta_{0})\\overset{d}{\\rightarrow}N(0,V)\n",
    "\\: \\text{ where } \\: V=S_{xx}^{-1} S S_{xx}^{-1}\n",
    "$\n",
    "\n",
    "and where $S$ is the covariance matrix of $\\sum_{t=1}^{T}u_{t}x_{t}$.\n",
    "\n",
    "*When* the Gauss-Markov assumptions do hold, then $S$ can be simplified as $S=S_{xx}\\sigma^2$, where $\\sigma^2$ is the variance of $u_t$. Clearly, this means that $V$ can be written $V=S_{xx}^{-1}\\sigma^2$."
   ]
  },
  {
   "cell_type": "code",
   "execution_count": 6,
   "metadata": {},
   "outputs": [
    {
     "name": "stdout",
     "output_type": "stream",
     "text": [
      "\u001b[34m\u001b[1mStandard errors from different methods:\u001b[22m\u001b[39m\n",
      "            b   std_iid     std_W    std_NW\n",
      "c       0.007     0.002     0.002     0.002\n",
      "SMB     0.217     0.073     0.113     0.124\n",
      "HML    -0.429     0.074     0.097     0.108\n",
      "\n"
     ]
    }
   ],
   "source": [
    "b   = X\\Y\n",
    "u   = Y - X*b                         #residuals\n",
    "Sxx = X'X\n",
    "\n",
    "V_iid = inv(Sxx)*var(u)               #traditional covariance matrix, Gauss-Markov\n",
    "\n",
    "S_W = (X.*u)'*(X.*u)                  #White's covariance matrix \n",
    "V_W = inv(Sxx)'S_W*inv(Sxx)           #Cov(b), White\n",
    "\n",
    "S_NW  = NWFn(X.*u,1)*T                 #Newey-West covariance matrix\n",
    "V_NW  = inv(Sxx)'S_NW*inv(Sxx)         #Cov(b), Newey-West\n",
    "\n",
    "printblue(\"Standard errors from different methods:\")\n",
    "xx = [b sqrt.(diag(V_iid)) sqrt.(diag(V_W))  sqrt.(diag(V_NW))]\n",
    "printTable(xx,[\"b\",\"std_iid\",\"std_W\",\"std_NW\"],rowNames)"
   ]
  },
  {
   "cell_type": "markdown",
   "metadata": {},
   "source": [
    "## Different Ways to Calculate OLS Estimates (extra)"
   ]
  },
  {
   "cell_type": "markdown",
   "metadata": {},
   "source": [
    "Consider the linear regression\n",
    "\n",
    "$\n",
    "y_{t}=\\beta^{\\prime}x_{t}+u_{t},\n",
    "$\n",
    "\n",
    "where $y_{t}$ is a scalar and $x_{t}$ is $k\\times1$. The OLS estimate is\n",
    "\n",
    "$\n",
    "\\hat{\\beta} = S_{xx}^{-1}S_{xy}, \\: \\text{ where } \\: \n",
    "S_{xx}      = \\sum\\nolimits_{t=1}^{T}x_{t}x_{t}^{\\prime}\n",
    "\\: \\text{ and } \\:\n",
    "S_{xy}      = \\sum\\nolimits_{t=1}^{T}x_{t}y_{t}.\n",
    "$\n",
    "\n",
    "\n",
    "Instead of these sums (loops over $t$), matrix multiplication can be used to\n",
    "speed up the calculations. Create matrices $X_{T\\times k}$ and $Y_{T\\times1}$\n",
    "by letting $x_{t}^{\\prime}$ and $y_{t}$ be the $t^{th}$ rows\n",
    "\n",
    "$\n",
    "X_{T\\times k}=\\left[\n",
    "\\begin{array}[c]{l}\n",
    "x_{1}^{\\prime}\\\\\n",
    "\\vdots\\\\\n",
    "x_{T}^{\\prime}\n",
    "\\end{array}\n",
    "\\right] \\ \\text{ and } \\ Y_{T\\times1}=\\left[\n",
    "\\begin{array}[c]{l}\n",
    "y_{1}\\\\\n",
    "\\vdots\\\\\n",
    "y_{T}\n",
    "\\end{array}\n",
    "\\right].\n",
    "$\n",
    "\n",
    "We can then calculate the same matrices as\n",
    "\n",
    "$\n",
    "S_{xx}       =X^{\\prime}X \\ \\text{ and } \\: S_{xy}=X^{\\prime}Y \\: \\text{, so } \\: \n",
    "\\hat{\\beta}  =(X^{\\prime}X)^{-1}X^{\\prime}Y.\n",
    "$\n",
    "\n",
    "However, instead of inverting $S_{xx}$, we typically get much better numerical\n",
    "precision by solving the system of $T$ equations\n",
    "\n",
    "$\n",
    "X_{T\\times k}b_{k\\times1}=Y_{T\\times1}\n",
    "$\n",
    "\n",
    "for the vector $b$ that minimizes the sum of squared errors. This\n",
    "is easily done by using the command\n",
    "```\n",
    "b = X\\Y\n",
    "```"
   ]
  },
  {
   "cell_type": "code",
   "execution_count": 7,
   "metadata": {},
   "outputs": [
    {
     "name": "stdout",
     "output_type": "stream",
     "text": [
      "\u001b[34m\u001b[1mThree different ways to calculate OLS estimates:\u001b[22m\u001b[39m\n",
      "           b1        b2        b3\n",
      "c       0.007     0.007     0.007\n",
      "SMB     0.217     0.217     0.217\n",
      "HML    -0.429    -0.429    -0.429\n",
      "\n"
     ]
    }
   ],
   "source": [
    "printblue(\"Three different ways to calculate OLS estimates:\")\n",
    "\n",
    "K    = size(X,2)\n",
    "S_xx = zeros(K,K)\n",
    "S_xy = zeros(K,1)\n",
    "for t = 1:T\n",
    "    #local x_t, y_t            #only needed in REPL/scripts\n",
    "    #global S_xx, S_xy\n",
    "    x_t = X[t,:]               #a vector\n",
    "    y_t = Y[t:t,:]         \n",
    "    S_xx = S_xx + x_t*x_t'     #KxK\n",
    "    S_xy = S_xy + x_t*y_t      #Kx1\n",
    "end\n",
    "b1 = inv(S_xx)*S_xy          #OLS coeffs, version 1\n",
    "\n",
    "b2 = inv(X'X)*X'Y            #OLS coeffs, version 2\n",
    "\n",
    "b3 = X\\Y                     #OLS coeffs, version 3\n",
    "\n",
    "printTable([b1 b2 b3],[\"b1\",\"b2\",\"b3\"],rowNames)"
   ]
  },
  {
   "cell_type": "code",
   "execution_count": null,
   "metadata": {},
   "outputs": [],
   "source": []
  }
 ],
 "metadata": {
  "@webio": {
   "lastCommId": null,
   "lastKernelId": null
  },
  "anaconda-cloud": {},
  "kernelspec": {
   "display_name": "Julia 1.3.0",
   "language": "julia",
   "name": "julia-1.3"
  },
  "language_info": {
   "file_extension": ".jl",
   "mimetype": "application/julia",
   "name": "julia",
   "version": "1.3.0"
  }
 },
 "nbformat": 4,
 "nbformat_minor": 1
}
