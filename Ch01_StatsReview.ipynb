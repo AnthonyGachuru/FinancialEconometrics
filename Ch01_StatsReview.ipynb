{
 "cells": [
  {
   "cell_type": "markdown",
   "metadata": {
    "collapsed": true
   },
   "source": [
    "# Review of Statistics\n",
    "\n"
   ]
  },
  {
   "cell_type": "markdown",
   "metadata": {},
   "source": [
    "## Load Packages"
   ]
  },
  {
   "cell_type": "code",
   "execution_count": 1,
   "metadata": {},
   "outputs": [
    {
     "data": {
      "text/plain": [
       "printlnPs (generic function with 2 methods)"
      ]
     },
     "execution_count": 1,
     "metadata": {},
     "output_type": "execute_result"
    }
   ],
   "source": [
    "using Dates, DelimitedFiles, StatsBase, Distributions\n",
    "                         \n",
    "include(\"jlFiles/printmat.jl\")   #just a function for prettier matrix printing"
   ]
  },
  {
   "cell_type": "code",
   "execution_count": 2,
   "metadata": {},
   "outputs": [],
   "source": [
    "using Plots\n",
    "\n",
    "backend = \"gr\"              #\"gr\" (default), \"pyplot\" \n",
    "\n",
    "if backend == \"pyplot\"\n",
    "    pyplot(size=(600,400))\n",
    "else    \n",
    "    gr(size=(480,320))\n",
    "    default(fmt = :svg)\n",
    "end"
   ]
  },
  {
   "cell_type": "markdown",
   "metadata": {},
   "source": [
    "# Distributions"
   ]
  },
  {
   "cell_type": "markdown",
   "metadata": {},
   "source": [
    "## Probability Density Function (pdf)"
   ]
  },
  {
   "cell_type": "code",
   "execution_count": 3,
   "metadata": {},
   "outputs": [
    {
     "data": {
      "image/svg+xml": [
       "<?xml version=\"1.0\" encoding=\"utf-8\"?>\n",
       "<svg xmlns=\"http://www.w3.org/2000/svg\" xmlns:xlink=\"http://www.w3.org/1999/xlink\" width=\"480\" height=\"320\" viewBox=\"0 0 1920 1280\">\n",
       "<defs>\n",
       "  <clipPath id=\"clip0400\">\n",
       "    <rect x=\"0\" y=\"0\" width=\"2000\" height=\"2000\"/>\n",
       "  </clipPath>\n",
       "</defs>\n",
       "<defs>\n",
       "  <clipPath id=\"clip0401\">\n",
       "    <rect x=\"0\" y=\"0\" width=\"1920\" height=\"1280\"/>\n",
       "  </clipPath>\n",
       "</defs>\n",
       "<polygon clip-path=\"url(#clip0401)\" points=\"\n",
       "0,1280 1920,1280 1920,0 0,0 \n",
       "  \" fill=\"#ffffff\" fill-rule=\"evenodd\" fill-opacity=\"1\"/>\n",
       "<defs>\n",
       "  <clipPath id=\"clip0402\">\n",
       "    <rect x=\"384\" y=\"0\" width=\"1345\" height=\"1280\"/>\n",
       "  </clipPath>\n",
       "</defs>\n",
       "<polygon clip-path=\"url(#clip0401)\" points=\"\n",
       "161.394,1120.48 1841.26,1120.48 1841.26,125.984 161.394,125.984 \n",
       "  \" fill=\"#ffffff\" fill-rule=\"evenodd\" fill-opacity=\"1\"/>\n",
       "<defs>\n",
       "  <clipPath id=\"clip0403\">\n",
       "    <rect x=\"161\" y=\"125\" width=\"1681\" height=\"995\"/>\n",
       "  </clipPath>\n",
       "</defs>\n",
       "<polyline clip-path=\"url(#clip0403)\" style=\"stroke:#000000; stroke-width:2; stroke-opacity:0.1; fill:none\" points=\"\n",
       "  208.937,1120.48 208.937,125.984 \n",
       "  \"/>\n",
       "<polyline clip-path=\"url(#clip0403)\" style=\"stroke:#000000; stroke-width:2; stroke-opacity:0.1; fill:none\" points=\"\n",
       "  473.067,1120.48 473.067,125.984 \n",
       "  \"/>\n",
       "<polyline clip-path=\"url(#clip0403)\" style=\"stroke:#000000; stroke-width:2; stroke-opacity:0.1; fill:none\" points=\"\n",
       "  737.197,1120.48 737.197,125.984 \n",
       "  \"/>\n",
       "<polyline clip-path=\"url(#clip0403)\" style=\"stroke:#000000; stroke-width:2; stroke-opacity:0.1; fill:none\" points=\"\n",
       "  1001.33,1120.48 1001.33,125.984 \n",
       "  \"/>\n",
       "<polyline clip-path=\"url(#clip0403)\" style=\"stroke:#000000; stroke-width:2; stroke-opacity:0.1; fill:none\" points=\"\n",
       "  1265.46,1120.48 1265.46,125.984 \n",
       "  \"/>\n",
       "<polyline clip-path=\"url(#clip0403)\" style=\"stroke:#000000; stroke-width:2; stroke-opacity:0.1; fill:none\" points=\"\n",
       "  1529.59,1120.48 1529.59,125.984 \n",
       "  \"/>\n",
       "<polyline clip-path=\"url(#clip0403)\" style=\"stroke:#000000; stroke-width:2; stroke-opacity:0.1; fill:none\" points=\"\n",
       "  1793.72,1120.48 1793.72,125.984 \n",
       "  \"/>\n",
       "<polyline clip-path=\"url(#clip0403)\" style=\"stroke:#000000; stroke-width:2; stroke-opacity:0.1; fill:none\" points=\"\n",
       "  161.394,1120.48 1841.26,1120.48 \n",
       "  \"/>\n",
       "<polyline clip-path=\"url(#clip0403)\" style=\"stroke:#000000; stroke-width:2; stroke-opacity:0.1; fill:none\" points=\"\n",
       "  161.394,871.858 1841.26,871.858 \n",
       "  \"/>\n",
       "<polyline clip-path=\"url(#clip0403)\" style=\"stroke:#000000; stroke-width:2; stroke-opacity:0.1; fill:none\" points=\"\n",
       "  161.394,623.233 1841.26,623.233 \n",
       "  \"/>\n",
       "<polyline clip-path=\"url(#clip0403)\" style=\"stroke:#000000; stroke-width:2; stroke-opacity:0.1; fill:none\" points=\"\n",
       "  161.394,374.609 1841.26,374.609 \n",
       "  \"/>\n",
       "<polyline clip-path=\"url(#clip0403)\" style=\"stroke:#000000; stroke-width:2; stroke-opacity:0.1; fill:none\" points=\"\n",
       "  161.394,125.984 1841.26,125.984 \n",
       "  \"/>\n",
       "<polyline clip-path=\"url(#clip0401)\" style=\"stroke:#000000; stroke-width:4; stroke-opacity:1; fill:none\" points=\"\n",
       "  161.394,1120.48 1841.26,1120.48 \n",
       "  \"/>\n",
       "<polyline clip-path=\"url(#clip0401)\" style=\"stroke:#000000; stroke-width:4; stroke-opacity:1; fill:none\" points=\"\n",
       "  161.394,1120.48 161.394,125.984 \n",
       "  \"/>\n",
       "<polyline clip-path=\"url(#clip0401)\" style=\"stroke:#000000; stroke-width:4; stroke-opacity:1; fill:none\" points=\"\n",
       "  208.937,1120.48 208.937,1105.57 \n",
       "  \"/>\n",
       "<polyline clip-path=\"url(#clip0401)\" style=\"stroke:#000000; stroke-width:4; stroke-opacity:1; fill:none\" points=\"\n",
       "  473.067,1120.48 473.067,1105.57 \n",
       "  \"/>\n",
       "<polyline clip-path=\"url(#clip0401)\" style=\"stroke:#000000; stroke-width:4; stroke-opacity:1; fill:none\" points=\"\n",
       "  737.197,1120.48 737.197,1105.57 \n",
       "  \"/>\n",
       "<polyline clip-path=\"url(#clip0401)\" style=\"stroke:#000000; stroke-width:4; stroke-opacity:1; fill:none\" points=\"\n",
       "  1001.33,1120.48 1001.33,1105.57 \n",
       "  \"/>\n",
       "<polyline clip-path=\"url(#clip0401)\" style=\"stroke:#000000; stroke-width:4; stroke-opacity:1; fill:none\" points=\"\n",
       "  1265.46,1120.48 1265.46,1105.57 \n",
       "  \"/>\n",
       "<polyline clip-path=\"url(#clip0401)\" style=\"stroke:#000000; stroke-width:4; stroke-opacity:1; fill:none\" points=\"\n",
       "  1529.59,1120.48 1529.59,1105.57 \n",
       "  \"/>\n",
       "<polyline clip-path=\"url(#clip0401)\" style=\"stroke:#000000; stroke-width:4; stroke-opacity:1; fill:none\" points=\"\n",
       "  1793.72,1120.48 1793.72,1105.57 \n",
       "  \"/>\n",
       "<polyline clip-path=\"url(#clip0401)\" style=\"stroke:#000000; stroke-width:4; stroke-opacity:1; fill:none\" points=\"\n",
       "  161.394,1120.48 186.592,1120.48 \n",
       "  \"/>\n",
       "<polyline clip-path=\"url(#clip0401)\" style=\"stroke:#000000; stroke-width:4; stroke-opacity:1; fill:none\" points=\"\n",
       "  161.394,871.858 186.592,871.858 \n",
       "  \"/>\n",
       "<polyline clip-path=\"url(#clip0401)\" style=\"stroke:#000000; stroke-width:4; stroke-opacity:1; fill:none\" points=\"\n",
       "  161.394,623.233 186.592,623.233 \n",
       "  \"/>\n",
       "<polyline clip-path=\"url(#clip0401)\" style=\"stroke:#000000; stroke-width:4; stroke-opacity:1; fill:none\" points=\"\n",
       "  161.394,374.609 186.592,374.609 \n",
       "  \"/>\n",
       "<polyline clip-path=\"url(#clip0401)\" style=\"stroke:#000000; stroke-width:4; stroke-opacity:1; fill:none\" points=\"\n",
       "  161.394,125.984 186.592,125.984 \n",
       "  \"/>\n",
       "<g clip-path=\"url(#clip0401)\">\n",
       "<text style=\"fill:#000000; fill-opacity:1; font-family:Arial,Helvetica Neue,Helvetica,sans-serif; font-size:48px; text-anchor:middle;\" transform=\"rotate(0, 208.937, 1172.08)\" x=\"208.937\" y=\"1172.08\">-3</text>\n",
       "</g>\n",
       "<g clip-path=\"url(#clip0401)\">\n",
       "<text style=\"fill:#000000; fill-opacity:1; font-family:Arial,Helvetica Neue,Helvetica,sans-serif; font-size:48px; text-anchor:middle;\" transform=\"rotate(0, 473.067, 1172.08)\" x=\"473.067\" y=\"1172.08\">-2</text>\n",
       "</g>\n",
       "<g clip-path=\"url(#clip0401)\">\n",
       "<text style=\"fill:#000000; fill-opacity:1; font-family:Arial,Helvetica Neue,Helvetica,sans-serif; font-size:48px; text-anchor:middle;\" transform=\"rotate(0, 737.197, 1172.08)\" x=\"737.197\" y=\"1172.08\">-1</text>\n",
       "</g>\n",
       "<g clip-path=\"url(#clip0401)\">\n",
       "<text style=\"fill:#000000; fill-opacity:1; font-family:Arial,Helvetica Neue,Helvetica,sans-serif; font-size:48px; text-anchor:middle;\" transform=\"rotate(0, 1001.33, 1172.08)\" x=\"1001.33\" y=\"1172.08\">0</text>\n",
       "</g>\n",
       "<g clip-path=\"url(#clip0401)\">\n",
       "<text style=\"fill:#000000; fill-opacity:1; font-family:Arial,Helvetica Neue,Helvetica,sans-serif; font-size:48px; text-anchor:middle;\" transform=\"rotate(0, 1265.46, 1172.08)\" x=\"1265.46\" y=\"1172.08\">1</text>\n",
       "</g>\n",
       "<g clip-path=\"url(#clip0401)\">\n",
       "<text style=\"fill:#000000; fill-opacity:1; font-family:Arial,Helvetica Neue,Helvetica,sans-serif; font-size:48px; text-anchor:middle;\" transform=\"rotate(0, 1529.59, 1172.08)\" x=\"1529.59\" y=\"1172.08\">2</text>\n",
       "</g>\n",
       "<g clip-path=\"url(#clip0401)\">\n",
       "<text style=\"fill:#000000; fill-opacity:1; font-family:Arial,Helvetica Neue,Helvetica,sans-serif; font-size:48px; text-anchor:middle;\" transform=\"rotate(0, 1793.72, 1172.08)\" x=\"1793.72\" y=\"1172.08\">3</text>\n",
       "</g>\n",
       "<g clip-path=\"url(#clip0401)\">\n",
       "<text style=\"fill:#000000; fill-opacity:1; font-family:Arial,Helvetica Neue,Helvetica,sans-serif; font-size:48px; text-anchor:end;\" transform=\"rotate(0, 142.194, 1137.98)\" x=\"142.194\" y=\"1137.98\">0.0</text>\n",
       "</g>\n",
       "<g clip-path=\"url(#clip0401)\">\n",
       "<text style=\"fill:#000000; fill-opacity:1; font-family:Arial,Helvetica Neue,Helvetica,sans-serif; font-size:48px; text-anchor:end;\" transform=\"rotate(0, 142.194, 889.358)\" x=\"142.194\" y=\"889.358\">0.1</text>\n",
       "</g>\n",
       "<g clip-path=\"url(#clip0401)\">\n",
       "<text style=\"fill:#000000; fill-opacity:1; font-family:Arial,Helvetica Neue,Helvetica,sans-serif; font-size:48px; text-anchor:end;\" transform=\"rotate(0, 142.194, 640.733)\" x=\"142.194\" y=\"640.733\">0.2</text>\n",
       "</g>\n",
       "<g clip-path=\"url(#clip0401)\">\n",
       "<text style=\"fill:#000000; fill-opacity:1; font-family:Arial,Helvetica Neue,Helvetica,sans-serif; font-size:48px; text-anchor:end;\" transform=\"rotate(0, 142.194, 392.109)\" x=\"142.194\" y=\"392.109\">0.3</text>\n",
       "</g>\n",
       "<g clip-path=\"url(#clip0401)\">\n",
       "<text style=\"fill:#000000; fill-opacity:1; font-family:Arial,Helvetica Neue,Helvetica,sans-serif; font-size:48px; text-anchor:end;\" transform=\"rotate(0, 142.194, 143.484)\" x=\"142.194\" y=\"143.484\">0.4</text>\n",
       "</g>\n",
       "<g clip-path=\"url(#clip0401)\">\n",
       "<text style=\"fill:#000000; fill-opacity:1; font-family:Arial,Helvetica Neue,Helvetica,sans-serif; font-size:84px; text-anchor:middle;\" transform=\"rotate(0, 1001.33, 73.2)\" x=\"1001.33\" y=\"73.2\">pdf of N(0,1)</text>\n",
       "</g>\n",
       "<g clip-path=\"url(#clip0401)\">\n",
       "<text style=\"fill:#000000; fill-opacity:1; font-family:Arial,Helvetica Neue,Helvetica,sans-serif; font-size:66px; text-anchor:middle;\" transform=\"rotate(0, 1001.33, 1270.4)\" x=\"1001.33\" y=\"1270.4\">x</text>\n",
       "</g>\n",
       "<polyline clip-path=\"url(#clip0403)\" style=\"stroke:#ff0000; stroke-width:8; stroke-opacity:1; fill:none\" points=\"\n",
       "  208.937,1109.46 235.35,1105.68 261.763,1100.8 288.176,1094.57 314.589,1086.71 341.002,1076.9 367.415,1064.8 393.828,1050.05 420.241,1032.28 446.654,1011.13 \n",
       "  473.067,986.248 499.48,957.346 525.893,924.193 552.306,886.653 578.719,844.706 605.132,798.47 631.545,748.223 657.958,694.418 684.371,637.688 710.784,578.849 \n",
       "  737.197,518.884 763.61,458.929 790.023,400.238 816.436,344.143 842.849,292.004 869.262,245.162 895.675,204.872 922.088,172.259 948.501,148.254 974.914,133.561 \n",
       "  1001.33,128.614 1027.74,133.561 1054.15,148.254 1080.57,172.259 1106.98,204.872 1133.39,245.162 1159.8,292.004 1186.22,344.143 1212.63,400.238 1239.04,458.929 \n",
       "  1265.46,518.884 1291.87,578.849 1318.28,637.688 1344.7,694.418 1371.11,748.223 1397.52,798.47 1423.93,844.706 1450.35,886.653 1476.76,924.193 1503.17,957.346 \n",
       "  1529.59,986.248 1556,1011.13 1582.41,1032.28 1608.83,1050.05 1635.24,1064.8 1661.65,1076.9 1688.06,1086.71 1714.48,1094.57 1740.89,1100.8 1767.3,1105.68 \n",
       "  1793.72,1109.46 \n",
       "  \"/>\n",
       "<polygon clip-path=\"url(#clip0403)\" points=\"\n",
       "208.937,1109.46 235.35,1105.68 261.763,1100.8 288.176,1094.57 314.589,1086.71 341.002,1076.9 367.415,1064.8 393.828,1050.05 420.241,1032.28 446.654,1011.13 \n",
       "  473.067,986.248 499.48,957.346 525.893,924.193 552.306,886.653 578.719,844.706 605.132,798.47 631.545,748.223 657.958,694.418 684.371,637.688 710.784,578.849 \n",
       "  737.197,518.884 763.61,458.929 790.023,400.238 816.436,344.143 842.849,292.004 869.262,245.162 895.675,204.872 922.088,172.259 948.501,148.254 974.914,133.561 \n",
       "  1001.33,128.614 1027.74,133.561 1054.15,148.254 1080.57,172.259 1106.98,204.872 1133.39,245.162 1159.8,292.004 1186.22,344.143 1212.63,400.238 1239.04,458.929 \n",
       "  1265.46,518.884 1291.87,578.849 1318.28,637.688 1344.7,694.418 1371.11,748.223 1397.52,798.47 1423.93,844.706 1423.93,1120.48 1397.52,1120.48 1371.11,1120.48 \n",
       "  1344.7,1120.48 1318.28,1120.48 1291.87,1120.48 1265.46,1120.48 1239.04,1120.48 1212.63,1120.48 1186.22,1120.48 1159.8,1120.48 1133.39,1120.48 1106.98,1120.48 \n",
       "  1080.57,1120.48 1054.15,1120.48 1027.74,1120.48 1001.33,1120.48 974.914,1120.48 948.501,1120.48 922.088,1120.48 895.675,1120.48 869.262,1120.48 842.849,1120.48 \n",
       "  816.436,1120.48 790.023,1120.48 763.61,1120.48 737.197,1120.48 710.784,1120.48 684.371,1120.48 657.958,1120.48 631.545,1120.48 605.132,1120.48 578.719,1120.48 \n",
       "  552.306,1120.48 525.893,1120.48 499.48,1120.48 473.067,1120.48 446.654,1120.48 420.241,1120.48 393.828,1120.48 367.415,1120.48 341.002,1120.48 314.589,1120.48 \n",
       "  288.176,1120.48 261.763,1120.48 235.35,1120.48 208.937,1120.48 \n",
       "  \" fill=\"#ff0000\" fill-rule=\"evenodd\" fill-opacity=\"1\"/>\n",
       "<polyline clip-path=\"url(#clip0403)\" style=\"stroke:#ff0000; stroke-width:8; stroke-opacity:1; fill:none\" points=\"\n",
       "  208.937,1109.46 235.35,1105.68 261.763,1100.8 288.176,1094.57 314.589,1086.71 341.002,1076.9 367.415,1064.8 393.828,1050.05 420.241,1032.28 446.654,1011.13 \n",
       "  473.067,986.248 499.48,957.346 525.893,924.193 552.306,886.653 578.719,844.706 605.132,798.47 631.545,748.223 657.958,694.418 684.371,637.688 710.784,578.849 \n",
       "  737.197,518.884 763.61,458.929 790.023,400.238 816.436,344.143 842.849,292.004 869.262,245.162 895.675,204.872 922.088,172.259 948.501,148.254 974.914,133.561 \n",
       "  1001.33,128.614 1027.74,133.561 1054.15,148.254 1080.57,172.259 1106.98,204.872 1133.39,245.162 1159.8,292.004 1186.22,344.143 1212.63,400.238 1239.04,458.929 \n",
       "  1265.46,518.884 1291.87,578.849 1318.28,637.688 1344.7,694.418 1371.11,748.223 1397.52,798.47 1423.93,844.706 \n",
       "  \"/>\n",
       "<g clip-path=\"url(#clip0401)\">\n",
       "<text style=\"fill:#000000; fill-opacity:1; font-family:Arial,Helvetica Neue,Helvetica,sans-serif; font-size:48px; text-anchor:middle;\" transform=\"rotate(0, 1529.59, 490.501)\" x=\"1529.59\" y=\"490.501\">the area covers 95%</text>\n",
       "</g>\n",
       "<g clip-path=\"url(#clip0401)\">\n",
       "<text style=\"fill:#000000; fill-opacity:1; font-family:Arial,Helvetica Neue,Helvetica,sans-serif; font-size:48px; text-anchor:middle;\" transform=\"rotate(0, 1529.59, 542.341)\" x=\"1529.59\" y=\"542.341\"> of the probability mass</text>\n",
       "</g>\n",
       "</svg>\n"
      ]
     },
     "execution_count": 3,
     "metadata": {},
     "output_type": "execute_result"
    }
   ],
   "source": [
    "x  = -3:0.1:3\n",
    "xb = x[x.<=1.645]\n",
    "\n",
    "p1 = plot(x,pdf.(Normal(0,1),x),color=:red,linewidth=2,legend=nothing,ylims=(0,0.4))\n",
    "plot!(xb,pdf.(Normal(0,1),xb),color=:red,linewidth=2,legend=nothing,fill=(0,:red))\n",
    "title!(\"pdf of N(0,1)\")\n",
    "xlabel!(\"x\")\n",
    "ylabel!(\"\")\n",
    "annotate!(2,0.25,text(\"the area covers 95%\\n of the probability mass\",8))"
   ]
  },
  {
   "cell_type": "markdown",
   "metadata": {},
   "source": [
    "## Cumulative Distribution Function (cdf)\n",
    "\n",
    "and probabilities for different outcomes.\n",
    "\n",
    "Notice that Distributions package wants Normal($\\mu,\\sigma$), not Normal($\\mu,\\sigma^2$)."
   ]
  },
  {
   "cell_type": "code",
   "execution_count": 4,
   "metadata": {},
   "outputs": [
    {
     "name": "stdout",
     "output_type": "stream",
     "text": [
      "Some probabilities:\n",
      "x<=-1.645 when x is N(0,1)      0.050\n",
      "x<=0 when x is N(0,1)           0.500\n",
      "2<x<=3 when x is N(0,2)         0.062\n",
      "2<x<=3 when x is N(1,2)         0.161\n"
     ]
    }
   ],
   "source": [
    "println(\"Some probabilities:\")\n",
    "printlnPs(\"x<=-1.645 when x is N(0,1) \",cdf(Normal(0,1),-1.645))\n",
    "printlnPs(\"x<=0 when x is N(0,1)      \",cdf(Normal(0,1),0))\n",
    "printlnPs(\"2<x<=3 when x is N(0,2)    \",cdf(Normal(0,sqrt(2)),3)-cdf(Normal(0,sqrt(2)),2))\n",
    "printlnPs(\"2<x<=3 when x is N(1,2)    \",cdf(Normal(1,sqrt(2)),3)-cdf(Normal(1,sqrt(2)),2))"
   ]
  },
  {
   "cell_type": "markdown",
   "metadata": {},
   "source": [
    "## Quantiles\n",
    "\n",
    "...inverting the cdf"
   ]
  },
  {
   "cell_type": "code",
   "execution_count": 5,
   "metadata": {},
   "outputs": [
    {
     "name": "stdout",
     "output_type": "stream",
     "text": [
      "\n",
      "5th percentile of N(0,1) and 95th of Chisquare(5)\n",
      "    -1.645    11.070\n",
      "\n"
     ]
    }
   ],
   "source": [
    "N05     = quantile(Normal(0,1),0.05)            #from the Distributions package\n",
    "Chisq05 = quantile(Chisq(5),0.95)\n",
    "\n",
    "println(\"\\n\",\"5th percentile of N(0,1) and 95th of Chisquare(5)\")      #lots of statistics functions\n",
    "printmat([N05 Chisq05])"
   ]
  },
  {
   "cell_type": "markdown",
   "metadata": {},
   "source": [
    "## Confidence Bands and t-tests"
   ]
  },
  {
   "cell_type": "code",
   "execution_count": 6,
   "metadata": {},
   "outputs": [
    {
     "name": "stdout",
     "output_type": "stream",
     "text": [
      "Confidence band for N(β,σ^2) with β=0.5 and σ=0.15  [0.254 0.746]\n"
     ]
    }
   ],
   "source": [
    "β = 0.5\n",
    "σ = 0.15\n",
    "confB = [(β-1.64*σ) (β+1.64*σ)]                 #confidence band\n",
    "\n",
    "println(\"Confidence band for N(β,σ^2) with β=$β and σ=$σ  \",confB)"
   ]
  },
  {
   "cell_type": "code",
   "execution_count": 7,
   "metadata": {},
   "outputs": [
    {
     "name": "stdout",
     "output_type": "stream",
     "text": [
      "t-stats: are they beyond [-1.64,1.64]?\n",
      "[0.666667 -1.64 -3.33333]\n"
     ]
    }
   ],
   "source": [
    "tstat1 = (β - 0.4)/σ      #testing H₀: coefficient is 0.4\n",
    "tstat2 = (β - 0.746)/σ    #testing H₀: coefficient is 0.746\n",
    "tstat3 = (β - 1)/σ        #testing H₀: coefficient is 1.0\n",
    "\n",
    "println(\"t-stats: are they beyond [-1.64,1.64]?\")\n",
    "println([tstat1 tstat2 tstat3])"
   ]
  },
  {
   "cell_type": "markdown",
   "metadata": {},
   "source": [
    "## Load Data from a csv File"
   ]
  },
  {
   "cell_type": "code",
   "execution_count": 8,
   "metadata": {},
   "outputs": [
    {
     "name": "stdout",
     "output_type": "stream",
     "text": [
      "Sample period: 197901-201104\n"
     ]
    }
   ],
   "source": [
    "x = readdlm(\"Data/FFmFactorsPs.csv\",',',skipstart=1)\n",
    "\n",
    "                #yearmonth, market, small minus big, high minus low\n",
    "(ym,Rme,RSMB,RHML) = [x[:,i] for i=1:4] \n",
    "ym = round.(Int,ym)\n",
    "x = nothing                   \n",
    "\n",
    "println(\"Sample period: \",ym[1],\"-\",ym[end])"
   ]
  },
  {
   "cell_type": "markdown",
   "metadata": {},
   "source": [
    "## Means and Standard Deviations"
   ]
  },
  {
   "cell_type": "code",
   "execution_count": 9,
   "metadata": {},
   "outputs": [
    {
     "name": "stdout",
     "output_type": "stream",
     "text": [
      "               Rme       RHML\n",
      "   means:      0.602     0.330\n",
      "   std:        4.604     3.127\n"
     ]
    }
   ],
   "source": [
    "xbar = mean([Rme RHML],dims=1)    #,dims=1 to calculate average along a column\n",
    "s    = std([Rme RHML],dims=1)     #do \\sigma[Tab] to get σ\n",
    "T    = length(Rme)\n",
    "\n",
    "\n",
    "println(\"               Rme       RHML\")\n",
    "printlnPs(\"means: \",xbar)  #for more stat functions, see the package StatsBase.jl\n",
    "printlnPs(\"std:   \",s)"
   ]
  },
  {
   "cell_type": "code",
   "execution_count": 10,
   "metadata": {},
   "outputs": [
    {
     "name": "stdout",
     "output_type": "stream",
     "text": [
      "std of sample averages (assuming iid data): [0.233733 0.158725]\n"
     ]
    }
   ],
   "source": [
    "println(\"std of sample averages (assuming iid data): \",s/sqrt(T))"
   ]
  },
  {
   "cell_type": "markdown",
   "metadata": {},
   "source": [
    "## Skewness, Kurtosis and Bera-Jarque"
   ]
  },
  {
   "cell_type": "code",
   "execution_count": 11,
   "metadata": {},
   "outputs": [
    {
     "name": "stdout",
     "output_type": "stream",
     "text": [
      "Skewness, kurtosis and Bera-Jarque (and its p-value)\n",
      "    -0.806\n",
      "     5.347\n",
      "   131.128\n",
      "     0.000\n",
      "\n"
     ]
    }
   ],
   "source": [
    "xStd     = (Rme .- mean(Rme))./std(Rme)\n",
    "skewness = mean(xStd.^3)\n",
    "kurtosis = mean(xStd.^4)\n",
    "\n",
    "BJ     = (T/6)*skewness.^2 + (T/24)*(kurtosis.-3).^2  #chi2(2)\n",
    "pvalBJ = 1 .- cdf.(Chisq(2),BJ)\n",
    "\n",
    "println(\"Skewness, kurtosis and Bera-Jarque (and its p-value)\")\n",
    "printmat([skewness,kurtosis,BJ,pvalBJ])"
   ]
  },
  {
   "cell_type": "markdown",
   "metadata": {},
   "source": [
    "## Covariances and Correlations"
   ]
  },
  {
   "cell_type": "code",
   "execution_count": 12,
   "metadata": {},
   "outputs": [
    {
     "name": "stdout",
     "output_type": "stream",
     "text": [
      "\n",
      "cov([Rme RHML]): \n",
      "    21.197    -4.875\n",
      "    -4.875     9.775\n",
      "\n",
      "\n",
      "cor([Rme RHML]): \n",
      "     1.000    -0.339\n",
      "    -0.339     1.000\n",
      "\n",
      "correlation and its t-stat [-0.338655 -139.65]\n"
     ]
    }
   ],
   "source": [
    "println(\"\\n\",\"cov([Rme RHML]): \")          \n",
    "printmat(cov([Rme RHML]))\n",
    "\n",
    "println(\"\\n\",\"cor([Rme RHML]): \")          \n",
    "printmat(cor([Rme RHML]))\n",
    "\n",
    "ρ = cor(Rme,RHML)\n",
    "tstat = T*ρ/sqrt(1-ρ^2)\n",
    "\n",
    "println(\"correlation and its t-stat \",[ρ tstat])"
   ]
  },
  {
   "cell_type": "markdown",
   "metadata": {},
   "source": [
    "## Often Used Distributions"
   ]
  },
  {
   "cell_type": "code",
   "execution_count": 13,
   "metadata": {},
   "outputs": [
    {
     "data": {
      "image/svg+xml": [
       "<?xml version=\"1.0\" encoding=\"utf-8\"?>\n",
       "<svg xmlns=\"http://www.w3.org/2000/svg\" xmlns:xlink=\"http://www.w3.org/1999/xlink\" width=\"480\" height=\"320\" viewBox=\"0 0 1920 1280\">\n",
       "<defs>\n",
       "  <clipPath id=\"clip0600\">\n",
       "    <rect x=\"0\" y=\"0\" width=\"2000\" height=\"2000\"/>\n",
       "  </clipPath>\n",
       "</defs>\n",
       "<defs>\n",
       "  <clipPath id=\"clip0601\">\n",
       "    <rect x=\"0\" y=\"0\" width=\"1920\" height=\"1280\"/>\n",
       "  </clipPath>\n",
       "</defs>\n",
       "<polygon clip-path=\"url(#clip0601)\" points=\"\n",
       "0,1280 1920,1280 1920,0 0,0 \n",
       "  \" fill=\"#ffffff\" fill-rule=\"evenodd\" fill-opacity=\"1\"/>\n",
       "<defs>\n",
       "  <clipPath id=\"clip0602\">\n",
       "    <rect x=\"384\" y=\"0\" width=\"1345\" height=\"1280\"/>\n",
       "  </clipPath>\n",
       "</defs>\n",
       "<polygon clip-path=\"url(#clip0601)\" points=\"\n",
       "161.394,1120.48 1841.26,1120.48 1841.26,125.984 161.394,125.984 \n",
       "  \" fill=\"#ffffff\" fill-rule=\"evenodd\" fill-opacity=\"1\"/>\n",
       "<defs>\n",
       "  <clipPath id=\"clip0603\">\n",
       "    <rect x=\"161\" y=\"125\" width=\"1681\" height=\"995\"/>\n",
       "  </clipPath>\n",
       "</defs>\n",
       "<polyline clip-path=\"url(#clip0603)\" style=\"stroke:#000000; stroke-width:2; stroke-opacity:0.1; fill:none\" points=\"\n",
       "  208.937,1120.48 208.937,125.984 \n",
       "  \"/>\n",
       "<polyline clip-path=\"url(#clip0603)\" style=\"stroke:#000000; stroke-width:2; stroke-opacity:0.1; fill:none\" points=\"\n",
       "  473.067,1120.48 473.067,125.984 \n",
       "  \"/>\n",
       "<polyline clip-path=\"url(#clip0603)\" style=\"stroke:#000000; stroke-width:2; stroke-opacity:0.1; fill:none\" points=\"\n",
       "  737.197,1120.48 737.197,125.984 \n",
       "  \"/>\n",
       "<polyline clip-path=\"url(#clip0603)\" style=\"stroke:#000000; stroke-width:2; stroke-opacity:0.1; fill:none\" points=\"\n",
       "  1001.33,1120.48 1001.33,125.984 \n",
       "  \"/>\n",
       "<polyline clip-path=\"url(#clip0603)\" style=\"stroke:#000000; stroke-width:2; stroke-opacity:0.1; fill:none\" points=\"\n",
       "  1265.46,1120.48 1265.46,125.984 \n",
       "  \"/>\n",
       "<polyline clip-path=\"url(#clip0603)\" style=\"stroke:#000000; stroke-width:2; stroke-opacity:0.1; fill:none\" points=\"\n",
       "  1529.59,1120.48 1529.59,125.984 \n",
       "  \"/>\n",
       "<polyline clip-path=\"url(#clip0603)\" style=\"stroke:#000000; stroke-width:2; stroke-opacity:0.1; fill:none\" points=\"\n",
       "  1793.72,1120.48 1793.72,125.984 \n",
       "  \"/>\n",
       "<polyline clip-path=\"url(#clip0603)\" style=\"stroke:#000000; stroke-width:2; stroke-opacity:0.1; fill:none\" points=\"\n",
       "  161.394,1120.48 1841.26,1120.48 \n",
       "  \"/>\n",
       "<polyline clip-path=\"url(#clip0603)\" style=\"stroke:#000000; stroke-width:2; stroke-opacity:0.1; fill:none\" points=\"\n",
       "  161.394,871.858 1841.26,871.858 \n",
       "  \"/>\n",
       "<polyline clip-path=\"url(#clip0603)\" style=\"stroke:#000000; stroke-width:2; stroke-opacity:0.1; fill:none\" points=\"\n",
       "  161.394,623.233 1841.26,623.233 \n",
       "  \"/>\n",
       "<polyline clip-path=\"url(#clip0603)\" style=\"stroke:#000000; stroke-width:2; stroke-opacity:0.1; fill:none\" points=\"\n",
       "  161.394,374.609 1841.26,374.609 \n",
       "  \"/>\n",
       "<polyline clip-path=\"url(#clip0603)\" style=\"stroke:#000000; stroke-width:2; stroke-opacity:0.1; fill:none\" points=\"\n",
       "  161.394,125.984 1841.26,125.984 \n",
       "  \"/>\n",
       "<polyline clip-path=\"url(#clip0601)\" style=\"stroke:#000000; stroke-width:4; stroke-opacity:1; fill:none\" points=\"\n",
       "  161.394,1120.48 1841.26,1120.48 \n",
       "  \"/>\n",
       "<polyline clip-path=\"url(#clip0601)\" style=\"stroke:#000000; stroke-width:4; stroke-opacity:1; fill:none\" points=\"\n",
       "  161.394,1120.48 161.394,125.984 \n",
       "  \"/>\n",
       "<polyline clip-path=\"url(#clip0601)\" style=\"stroke:#000000; stroke-width:4; stroke-opacity:1; fill:none\" points=\"\n",
       "  208.937,1120.48 208.937,1105.57 \n",
       "  \"/>\n",
       "<polyline clip-path=\"url(#clip0601)\" style=\"stroke:#000000; stroke-width:4; stroke-opacity:1; fill:none\" points=\"\n",
       "  473.067,1120.48 473.067,1105.57 \n",
       "  \"/>\n",
       "<polyline clip-path=\"url(#clip0601)\" style=\"stroke:#000000; stroke-width:4; stroke-opacity:1; fill:none\" points=\"\n",
       "  737.197,1120.48 737.197,1105.57 \n",
       "  \"/>\n",
       "<polyline clip-path=\"url(#clip0601)\" style=\"stroke:#000000; stroke-width:4; stroke-opacity:1; fill:none\" points=\"\n",
       "  1001.33,1120.48 1001.33,1105.57 \n",
       "  \"/>\n",
       "<polyline clip-path=\"url(#clip0601)\" style=\"stroke:#000000; stroke-width:4; stroke-opacity:1; fill:none\" points=\"\n",
       "  1265.46,1120.48 1265.46,1105.57 \n",
       "  \"/>\n",
       "<polyline clip-path=\"url(#clip0601)\" style=\"stroke:#000000; stroke-width:4; stroke-opacity:1; fill:none\" points=\"\n",
       "  1529.59,1120.48 1529.59,1105.57 \n",
       "  \"/>\n",
       "<polyline clip-path=\"url(#clip0601)\" style=\"stroke:#000000; stroke-width:4; stroke-opacity:1; fill:none\" points=\"\n",
       "  1793.72,1120.48 1793.72,1105.57 \n",
       "  \"/>\n",
       "<polyline clip-path=\"url(#clip0601)\" style=\"stroke:#000000; stroke-width:4; stroke-opacity:1; fill:none\" points=\"\n",
       "  161.394,1120.48 186.592,1120.48 \n",
       "  \"/>\n",
       "<polyline clip-path=\"url(#clip0601)\" style=\"stroke:#000000; stroke-width:4; stroke-opacity:1; fill:none\" points=\"\n",
       "  161.394,871.858 186.592,871.858 \n",
       "  \"/>\n",
       "<polyline clip-path=\"url(#clip0601)\" style=\"stroke:#000000; stroke-width:4; stroke-opacity:1; fill:none\" points=\"\n",
       "  161.394,623.233 186.592,623.233 \n",
       "  \"/>\n",
       "<polyline clip-path=\"url(#clip0601)\" style=\"stroke:#000000; stroke-width:4; stroke-opacity:1; fill:none\" points=\"\n",
       "  161.394,374.609 186.592,374.609 \n",
       "  \"/>\n",
       "<polyline clip-path=\"url(#clip0601)\" style=\"stroke:#000000; stroke-width:4; stroke-opacity:1; fill:none\" points=\"\n",
       "  161.394,125.984 186.592,125.984 \n",
       "  \"/>\n",
       "<g clip-path=\"url(#clip0601)\">\n",
       "<text style=\"fill:#000000; fill-opacity:1; font-family:Arial,Helvetica Neue,Helvetica,sans-serif; font-size:48px; text-anchor:middle;\" transform=\"rotate(0, 208.937, 1172.08)\" x=\"208.937\" y=\"1172.08\">-3</text>\n",
       "</g>\n",
       "<g clip-path=\"url(#clip0601)\">\n",
       "<text style=\"fill:#000000; fill-opacity:1; font-family:Arial,Helvetica Neue,Helvetica,sans-serif; font-size:48px; text-anchor:middle;\" transform=\"rotate(0, 473.067, 1172.08)\" x=\"473.067\" y=\"1172.08\">-2</text>\n",
       "</g>\n",
       "<g clip-path=\"url(#clip0601)\">\n",
       "<text style=\"fill:#000000; fill-opacity:1; font-family:Arial,Helvetica Neue,Helvetica,sans-serif; font-size:48px; text-anchor:middle;\" transform=\"rotate(0, 737.197, 1172.08)\" x=\"737.197\" y=\"1172.08\">-1</text>\n",
       "</g>\n",
       "<g clip-path=\"url(#clip0601)\">\n",
       "<text style=\"fill:#000000; fill-opacity:1; font-family:Arial,Helvetica Neue,Helvetica,sans-serif; font-size:48px; text-anchor:middle;\" transform=\"rotate(0, 1001.33, 1172.08)\" x=\"1001.33\" y=\"1172.08\">0</text>\n",
       "</g>\n",
       "<g clip-path=\"url(#clip0601)\">\n",
       "<text style=\"fill:#000000; fill-opacity:1; font-family:Arial,Helvetica Neue,Helvetica,sans-serif; font-size:48px; text-anchor:middle;\" transform=\"rotate(0, 1265.46, 1172.08)\" x=\"1265.46\" y=\"1172.08\">1</text>\n",
       "</g>\n",
       "<g clip-path=\"url(#clip0601)\">\n",
       "<text style=\"fill:#000000; fill-opacity:1; font-family:Arial,Helvetica Neue,Helvetica,sans-serif; font-size:48px; text-anchor:middle;\" transform=\"rotate(0, 1529.59, 1172.08)\" x=\"1529.59\" y=\"1172.08\">2</text>\n",
       "</g>\n",
       "<g clip-path=\"url(#clip0601)\">\n",
       "<text style=\"fill:#000000; fill-opacity:1; font-family:Arial,Helvetica Neue,Helvetica,sans-serif; font-size:48px; text-anchor:middle;\" transform=\"rotate(0, 1793.72, 1172.08)\" x=\"1793.72\" y=\"1172.08\">3</text>\n",
       "</g>\n",
       "<g clip-path=\"url(#clip0601)\">\n",
       "<text style=\"fill:#000000; fill-opacity:1; font-family:Arial,Helvetica Neue,Helvetica,sans-serif; font-size:48px; text-anchor:end;\" transform=\"rotate(0, 142.194, 1137.98)\" x=\"142.194\" y=\"1137.98\">0.0</text>\n",
       "</g>\n",
       "<g clip-path=\"url(#clip0601)\">\n",
       "<text style=\"fill:#000000; fill-opacity:1; font-family:Arial,Helvetica Neue,Helvetica,sans-serif; font-size:48px; text-anchor:end;\" transform=\"rotate(0, 142.194, 889.358)\" x=\"142.194\" y=\"889.358\">0.1</text>\n",
       "</g>\n",
       "<g clip-path=\"url(#clip0601)\">\n",
       "<text style=\"fill:#000000; fill-opacity:1; font-family:Arial,Helvetica Neue,Helvetica,sans-serif; font-size:48px; text-anchor:end;\" transform=\"rotate(0, 142.194, 640.733)\" x=\"142.194\" y=\"640.733\">0.2</text>\n",
       "</g>\n",
       "<g clip-path=\"url(#clip0601)\">\n",
       "<text style=\"fill:#000000; fill-opacity:1; font-family:Arial,Helvetica Neue,Helvetica,sans-serif; font-size:48px; text-anchor:end;\" transform=\"rotate(0, 142.194, 392.109)\" x=\"142.194\" y=\"392.109\">0.3</text>\n",
       "</g>\n",
       "<g clip-path=\"url(#clip0601)\">\n",
       "<text style=\"fill:#000000; fill-opacity:1; font-family:Arial,Helvetica Neue,Helvetica,sans-serif; font-size:48px; text-anchor:end;\" transform=\"rotate(0, 142.194, 143.484)\" x=\"142.194\" y=\"143.484\">0.4</text>\n",
       "</g>\n",
       "<g clip-path=\"url(#clip0601)\">\n",
       "<text style=\"fill:#000000; fill-opacity:1; font-family:Arial,Helvetica Neue,Helvetica,sans-serif; font-size:84px; text-anchor:middle;\" transform=\"rotate(0, 1001.33, 73.2)\" x=\"1001.33\" y=\"73.2\">pdf of N(0,1) and t-50 distribution</text>\n",
       "</g>\n",
       "<g clip-path=\"url(#clip0601)\">\n",
       "<text style=\"fill:#000000; fill-opacity:1; font-family:Arial,Helvetica Neue,Helvetica,sans-serif; font-size:66px; text-anchor:middle;\" transform=\"rotate(0, 1001.33, 1270.4)\" x=\"1001.33\" y=\"1270.4\">x</text>\n",
       "</g>\n",
       "<polyline clip-path=\"url(#clip0603)\" style=\"stroke:#ff0000; stroke-width:8; stroke-opacity:1; fill:none\" points=\"\n",
       "  208.937,1109.46 235.35,1105.68 261.763,1100.8 288.176,1094.57 314.589,1086.71 341.002,1076.9 367.415,1064.8 393.828,1050.05 420.241,1032.28 446.654,1011.13 \n",
       "  473.067,986.248 499.48,957.346 525.893,924.193 552.306,886.653 578.719,844.706 605.132,798.47 631.545,748.223 657.958,694.418 684.371,637.688 710.784,578.849 \n",
       "  737.197,518.884 763.61,458.929 790.023,400.238 816.436,344.143 842.849,292.004 869.262,245.162 895.675,204.872 922.088,172.259 948.501,148.254 974.914,133.561 \n",
       "  1001.33,128.614 1027.74,133.561 1054.15,148.254 1080.57,172.259 1106.98,204.872 1133.39,245.162 1159.8,292.004 1186.22,344.143 1212.63,400.238 1239.04,458.929 \n",
       "  1265.46,518.884 1291.87,578.849 1318.28,637.688 1344.7,694.418 1371.11,748.223 1397.52,798.47 1423.93,844.706 1450.35,886.653 1476.76,924.193 1503.17,957.346 \n",
       "  1529.59,986.248 1556,1011.13 1582.41,1032.28 1608.83,1050.05 1635.24,1064.8 1661.65,1076.9 1688.06,1086.71 1714.48,1094.57 1740.89,1100.8 1767.3,1105.68 \n",
       "  1793.72,1109.46 \n",
       "  \"/>\n",
       "<polyline clip-path=\"url(#clip0603)\" style=\"stroke:#0000ff; stroke-width:8; stroke-opacity:1; fill:none\" stroke-dasharray=\"32, 20\" points=\"\n",
       "  208.937,1105.99 235.35,1101.75 261.763,1096.43 288.176,1089.79 314.589,1081.58 341.002,1071.52 367.415,1059.28 393.828,1044.53 420.241,1026.93 446.654,1006.14 \n",
       "  473.067,981.814 499.48,953.662 525.893,921.439 552.306,884.982 578.719,844.23 605.132,799.252 631.545,750.267 657.958,697.667 684.371,642.025 710.784,584.104 \n",
       "  737.197,524.85 763.61,465.374 790.023,406.926 816.436,350.854 842.849,298.558 869.262,251.426 895.675,210.777 922.088,177.798 948.501,153.482 974.914,138.581 \n",
       "  1001.33,133.561 1027.74,138.581 1054.15,153.482 1080.57,177.798 1106.98,210.777 1133.39,251.426 1159.8,298.558 1186.22,350.854 1212.63,406.926 1239.04,465.374 \n",
       "  1265.46,524.85 1291.87,584.104 1318.28,642.025 1344.7,697.667 1371.11,750.267 1397.52,799.252 1423.93,844.23 1450.35,884.982 1476.76,921.439 1503.17,953.662 \n",
       "  1529.59,981.814 1556,1006.14 1582.41,1026.93 1608.83,1044.53 1635.24,1059.28 1661.65,1071.52 1688.06,1081.58 1714.48,1089.79 1740.89,1096.43 1767.3,1101.75 \n",
       "  1793.72,1105.99 \n",
       "  \"/>\n",
       "<polygon clip-path=\"url(#clip0601)\" points=\"\n",
       "1457.94,362.144 1783.66,362.144 1783.66,180.704 1457.94,180.704 \n",
       "  \" fill=\"#ffffff\" fill-rule=\"evenodd\" fill-opacity=\"1\"/>\n",
       "<polyline clip-path=\"url(#clip0601)\" style=\"stroke:#000000; stroke-width:4; stroke-opacity:1; fill:none\" points=\"\n",
       "  1457.94,362.144 1783.66,362.144 1783.66,180.704 1457.94,180.704 1457.94,362.144 \n",
       "  \"/>\n",
       "<polyline clip-path=\"url(#clip0601)\" style=\"stroke:#ff0000; stroke-width:8; stroke-opacity:1; fill:none\" points=\"\n",
       "  1477.14,241.184 1592.34,241.184 \n",
       "  \"/>\n",
       "<g clip-path=\"url(#clip0601)\">\n",
       "<text style=\"fill:#000000; fill-opacity:1; font-family:Arial,Helvetica Neue,Helvetica,sans-serif; font-size:48px; text-anchor:start;\" transform=\"rotate(0, 1611.54, 258.684)\" x=\"1611.54\" y=\"258.684\">N(0,1)</text>\n",
       "</g>\n",
       "<polyline clip-path=\"url(#clip0601)\" style=\"stroke:#0000ff; stroke-width:8; stroke-opacity:1; fill:none\" stroke-dasharray=\"32, 20\" points=\"\n",
       "  1477.14,301.664 1592.34,301.664 \n",
       "  \"/>\n",
       "<g clip-path=\"url(#clip0601)\">\n",
       "<text style=\"fill:#000000; fill-opacity:1; font-family:Arial,Helvetica Neue,Helvetica,sans-serif; font-size:48px; text-anchor:start;\" transform=\"rotate(0, 1611.54, 319.164)\" x=\"1611.54\" y=\"319.164\">t(50)</text>\n",
       "</g>\n",
       "</svg>\n"
      ]
     },
     "execution_count": 13,
     "metadata": {},
     "output_type": "execute_result"
    }
   ],
   "source": [
    "x  = -3:0.1:3\n",
    "\n",
    "p1 = plot(x,pdf.(Normal(0,1),x),color=:red,linewidth=2,label=\"N(0,1)\",ylims=(0,0.4))\n",
    "plot!(x,pdf.(TDist(50),x),color=:blue,line=(:dash,2),label=\"t(50)\")\n",
    "title!(\"pdf of N(0,1) and t-50 distribution\")\n",
    "xlabel!(\"x\")\n",
    "ylabel!(\"\")"
   ]
  },
  {
   "cell_type": "code",
   "execution_count": 14,
   "metadata": {},
   "outputs": [
    {
     "data": {
      "image/svg+xml": [
       "<?xml version=\"1.0\" encoding=\"utf-8\"?>\n",
       "<svg xmlns=\"http://www.w3.org/2000/svg\" xmlns:xlink=\"http://www.w3.org/1999/xlink\" width=\"480\" height=\"320\" viewBox=\"0 0 1920 1280\">\n",
       "<defs>\n",
       "  <clipPath id=\"clip0800\">\n",
       "    <rect x=\"0\" y=\"0\" width=\"2000\" height=\"2000\"/>\n",
       "  </clipPath>\n",
       "</defs>\n",
       "<defs>\n",
       "  <clipPath id=\"clip0801\">\n",
       "    <rect x=\"0\" y=\"0\" width=\"1920\" height=\"1280\"/>\n",
       "  </clipPath>\n",
       "</defs>\n",
       "<polygon clip-path=\"url(#clip0801)\" points=\"\n",
       "0,1280 1920,1280 1920,0 0,0 \n",
       "  \" fill=\"#ffffff\" fill-rule=\"evenodd\" fill-opacity=\"1\"/>\n",
       "<defs>\n",
       "  <clipPath id=\"clip0802\">\n",
       "    <rect x=\"384\" y=\"0\" width=\"1345\" height=\"1280\"/>\n",
       "  </clipPath>\n",
       "</defs>\n",
       "<polygon clip-path=\"url(#clip0801)\" points=\"\n",
       "161.394,1120.48 1841.26,1120.48 1841.26,125.984 161.394,125.984 \n",
       "  \" fill=\"#ffffff\" fill-rule=\"evenodd\" fill-opacity=\"1\"/>\n",
       "<defs>\n",
       "  <clipPath id=\"clip0803\">\n",
       "    <rect x=\"161\" y=\"125\" width=\"1681\" height=\"995\"/>\n",
       "  </clipPath>\n",
       "</defs>\n",
       "<polyline clip-path=\"url(#clip0803)\" style=\"stroke:#000000; stroke-width:2; stroke-opacity:0.1; fill:none\" points=\"\n",
       "  208.924,1120.48 208.924,125.984 \n",
       "  \"/>\n",
       "<polyline clip-path=\"url(#clip0803)\" style=\"stroke:#000000; stroke-width:2; stroke-opacity:0.1; fill:none\" points=\"\n",
       "  541.861,1120.48 541.861,125.984 \n",
       "  \"/>\n",
       "<polyline clip-path=\"url(#clip0803)\" style=\"stroke:#000000; stroke-width:2; stroke-opacity:0.1; fill:none\" points=\"\n",
       "  874.798,1120.48 874.798,125.984 \n",
       "  \"/>\n",
       "<polyline clip-path=\"url(#clip0803)\" style=\"stroke:#000000; stroke-width:2; stroke-opacity:0.1; fill:none\" points=\"\n",
       "  1207.73,1120.48 1207.73,125.984 \n",
       "  \"/>\n",
       "<polyline clip-path=\"url(#clip0803)\" style=\"stroke:#000000; stroke-width:2; stroke-opacity:0.1; fill:none\" points=\"\n",
       "  1540.67,1120.48 1540.67,125.984 \n",
       "  \"/>\n",
       "<polyline clip-path=\"url(#clip0803)\" style=\"stroke:#000000; stroke-width:2; stroke-opacity:0.1; fill:none\" points=\"\n",
       "  161.394,1120.48 1841.26,1120.48 \n",
       "  \"/>\n",
       "<polyline clip-path=\"url(#clip0803)\" style=\"stroke:#000000; stroke-width:2; stroke-opacity:0.1; fill:none\" points=\"\n",
       "  161.394,871.858 1841.26,871.858 \n",
       "  \"/>\n",
       "<polyline clip-path=\"url(#clip0803)\" style=\"stroke:#000000; stroke-width:2; stroke-opacity:0.1; fill:none\" points=\"\n",
       "  161.394,623.233 1841.26,623.233 \n",
       "  \"/>\n",
       "<polyline clip-path=\"url(#clip0803)\" style=\"stroke:#000000; stroke-width:2; stroke-opacity:0.1; fill:none\" points=\"\n",
       "  161.394,374.609 1841.26,374.609 \n",
       "  \"/>\n",
       "<polyline clip-path=\"url(#clip0803)\" style=\"stroke:#000000; stroke-width:2; stroke-opacity:0.1; fill:none\" points=\"\n",
       "  161.394,125.984 1841.26,125.984 \n",
       "  \"/>\n",
       "<polyline clip-path=\"url(#clip0801)\" style=\"stroke:#000000; stroke-width:4; stroke-opacity:1; fill:none\" points=\"\n",
       "  161.394,1120.48 1841.26,1120.48 \n",
       "  \"/>\n",
       "<polyline clip-path=\"url(#clip0801)\" style=\"stroke:#000000; stroke-width:4; stroke-opacity:1; fill:none\" points=\"\n",
       "  161.394,1120.48 161.394,125.984 \n",
       "  \"/>\n",
       "<polyline clip-path=\"url(#clip0801)\" style=\"stroke:#000000; stroke-width:4; stroke-opacity:1; fill:none\" points=\"\n",
       "  208.924,1120.48 208.924,1105.57 \n",
       "  \"/>\n",
       "<polyline clip-path=\"url(#clip0801)\" style=\"stroke:#000000; stroke-width:4; stroke-opacity:1; fill:none\" points=\"\n",
       "  541.861,1120.48 541.861,1105.57 \n",
       "  \"/>\n",
       "<polyline clip-path=\"url(#clip0801)\" style=\"stroke:#000000; stroke-width:4; stroke-opacity:1; fill:none\" points=\"\n",
       "  874.798,1120.48 874.798,1105.57 \n",
       "  \"/>\n",
       "<polyline clip-path=\"url(#clip0801)\" style=\"stroke:#000000; stroke-width:4; stroke-opacity:1; fill:none\" points=\"\n",
       "  1207.73,1120.48 1207.73,1105.57 \n",
       "  \"/>\n",
       "<polyline clip-path=\"url(#clip0801)\" style=\"stroke:#000000; stroke-width:4; stroke-opacity:1; fill:none\" points=\"\n",
       "  1540.67,1120.48 1540.67,1105.57 \n",
       "  \"/>\n",
       "<polyline clip-path=\"url(#clip0801)\" style=\"stroke:#000000; stroke-width:4; stroke-opacity:1; fill:none\" points=\"\n",
       "  161.394,1120.48 186.592,1120.48 \n",
       "  \"/>\n",
       "<polyline clip-path=\"url(#clip0801)\" style=\"stroke:#000000; stroke-width:4; stroke-opacity:1; fill:none\" points=\"\n",
       "  161.394,871.858 186.592,871.858 \n",
       "  \"/>\n",
       "<polyline clip-path=\"url(#clip0801)\" style=\"stroke:#000000; stroke-width:4; stroke-opacity:1; fill:none\" points=\"\n",
       "  161.394,623.233 186.592,623.233 \n",
       "  \"/>\n",
       "<polyline clip-path=\"url(#clip0801)\" style=\"stroke:#000000; stroke-width:4; stroke-opacity:1; fill:none\" points=\"\n",
       "  161.394,374.609 186.592,374.609 \n",
       "  \"/>\n",
       "<polyline clip-path=\"url(#clip0801)\" style=\"stroke:#000000; stroke-width:4; stroke-opacity:1; fill:none\" points=\"\n",
       "  161.394,125.984 186.592,125.984 \n",
       "  \"/>\n",
       "<g clip-path=\"url(#clip0801)\">\n",
       "<text style=\"fill:#000000; fill-opacity:1; font-family:Arial,Helvetica Neue,Helvetica,sans-serif; font-size:48px; text-anchor:middle;\" transform=\"rotate(0, 208.924, 1172.08)\" x=\"208.924\" y=\"1172.08\">0.0</text>\n",
       "</g>\n",
       "<g clip-path=\"url(#clip0801)\">\n",
       "<text style=\"fill:#000000; fill-opacity:1; font-family:Arial,Helvetica Neue,Helvetica,sans-serif; font-size:48px; text-anchor:middle;\" transform=\"rotate(0, 541.861, 1172.08)\" x=\"541.861\" y=\"1172.08\">2.5</text>\n",
       "</g>\n",
       "<g clip-path=\"url(#clip0801)\">\n",
       "<text style=\"fill:#000000; fill-opacity:1; font-family:Arial,Helvetica Neue,Helvetica,sans-serif; font-size:48px; text-anchor:middle;\" transform=\"rotate(0, 874.798, 1172.08)\" x=\"874.798\" y=\"1172.08\">5.0</text>\n",
       "</g>\n",
       "<g clip-path=\"url(#clip0801)\">\n",
       "<text style=\"fill:#000000; fill-opacity:1; font-family:Arial,Helvetica Neue,Helvetica,sans-serif; font-size:48px; text-anchor:middle;\" transform=\"rotate(0, 1207.73, 1172.08)\" x=\"1207.73\" y=\"1172.08\">7.5</text>\n",
       "</g>\n",
       "<g clip-path=\"url(#clip0801)\">\n",
       "<text style=\"fill:#000000; fill-opacity:1; font-family:Arial,Helvetica Neue,Helvetica,sans-serif; font-size:48px; text-anchor:middle;\" transform=\"rotate(0, 1540.67, 1172.08)\" x=\"1540.67\" y=\"1172.08\">10.0</text>\n",
       "</g>\n",
       "<g clip-path=\"url(#clip0801)\">\n",
       "<text style=\"fill:#000000; fill-opacity:1; font-family:Arial,Helvetica Neue,Helvetica,sans-serif; font-size:48px; text-anchor:end;\" transform=\"rotate(0, 142.194, 1137.98)\" x=\"142.194\" y=\"1137.98\">0.0</text>\n",
       "</g>\n",
       "<g clip-path=\"url(#clip0801)\">\n",
       "<text style=\"fill:#000000; fill-opacity:1; font-family:Arial,Helvetica Neue,Helvetica,sans-serif; font-size:48px; text-anchor:end;\" transform=\"rotate(0, 142.194, 889.358)\" x=\"142.194\" y=\"889.358\">0.1</text>\n",
       "</g>\n",
       "<g clip-path=\"url(#clip0801)\">\n",
       "<text style=\"fill:#000000; fill-opacity:1; font-family:Arial,Helvetica Neue,Helvetica,sans-serif; font-size:48px; text-anchor:end;\" transform=\"rotate(0, 142.194, 640.733)\" x=\"142.194\" y=\"640.733\">0.2</text>\n",
       "</g>\n",
       "<g clip-path=\"url(#clip0801)\">\n",
       "<text style=\"fill:#000000; fill-opacity:1; font-family:Arial,Helvetica Neue,Helvetica,sans-serif; font-size:48px; text-anchor:end;\" transform=\"rotate(0, 142.194, 392.109)\" x=\"142.194\" y=\"392.109\">0.3</text>\n",
       "</g>\n",
       "<g clip-path=\"url(#clip0801)\">\n",
       "<text style=\"fill:#000000; fill-opacity:1; font-family:Arial,Helvetica Neue,Helvetica,sans-serif; font-size:48px; text-anchor:end;\" transform=\"rotate(0, 142.194, 143.484)\" x=\"142.194\" y=\"143.484\">0.4</text>\n",
       "</g>\n",
       "<g clip-path=\"url(#clip0801)\">\n",
       "<text style=\"fill:#000000; fill-opacity:1; font-family:Arial,Helvetica Neue,Helvetica,sans-serif; font-size:84px; text-anchor:middle;\" transform=\"rotate(0, 1001.33, 73.2)\" x=\"1001.33\" y=\"73.2\">pdf of chi-square distributions</text>\n",
       "</g>\n",
       "<g clip-path=\"url(#clip0801)\">\n",
       "<text style=\"fill:#000000; fill-opacity:1; font-family:Arial,Helvetica Neue,Helvetica,sans-serif; font-size:66px; text-anchor:middle;\" transform=\"rotate(0, 1001.33, 1270.4)\" x=\"1001.33\" y=\"1270.4\">x</text>\n",
       "</g>\n",
       "<polyline clip-path=\"url(#clip0803)\" style=\"stroke:#ff0000; stroke-width:8; stroke-opacity:1; fill:none\" points=\"\n",
       "  208.937,-122.578 222.255,-61.9534 235.572,-4.28531 248.89,50.5703 262.207,102.751 275.525,152.386 288.842,199.601 302.16,244.512 315.477,287.234 328.795,327.872 \n",
       "  342.112,366.528 355.43,403.299 368.747,438.276 382.065,471.548 395.382,503.197 408.699,533.302 422.017,561.939 435.334,589.18 448.652,615.092 461.969,639.74 \n",
       "  475.287,663.186 488.604,685.489 501.922,706.704 515.239,726.884 528.557,746.08 541.874,764.34 555.192,781.709 568.509,798.231 581.827,813.948 595.144,828.897 \n",
       "  608.462,843.118 621.779,856.645 635.096,869.513 648.414,881.753 661.731,893.396 675.049,904.471 688.366,915.006 701.684,925.027 715.001,934.56 728.319,943.627 \n",
       "  741.636,952.253 754.954,960.457 768.271,968.262 781.589,975.686 794.906,982.748 808.224,989.465 821.541,995.855 834.859,1001.93 848.176,1007.71 861.493,1013.21 \n",
       "  874.811,1018.45 888.128,1023.42 901.446,1028.16 914.763,1032.66 928.081,1036.94 941.398,1041.02 954.716,1044.89 968.033,1048.58 981.351,1052.09 994.668,1055.42 \n",
       "  1007.99,1058.59 1021.3,1061.61 1034.62,1064.48 1047.94,1067.21 1061.26,1069.81 1074.57,1072.28 1087.89,1074.63 1101.21,1076.87 1114.53,1079 1127.84,1081.02 \n",
       "  1141.16,1082.95 1154.48,1084.78 1167.8,1086.52 1181.11,1088.17 1194.43,1089.75 1207.75,1091.25 1221.07,1092.67 1234.38,1094.03 1247.7,1095.32 1261.02,1096.55 \n",
       "  1274.34,1097.72 1287.65,1098.83 1300.97,1099.88 1314.29,1100.89 1327.6,1101.84 1340.92,1102.75 1354.24,1103.62 1367.56,1104.44 1380.87,1105.22 1394.19,1105.97 \n",
       "  1407.51,1106.67 1420.83,1107.35 1434.14,1107.99 1447.46,1108.6 1460.78,1109.18 1474.1,1109.73 1487.41,1110.25 1500.73,1110.75 1514.05,1111.23 1527.37,1111.68 \n",
       "  1540.68,1112.11 1554,1112.52 1567.32,1112.9 1580.64,1113.27 1593.95,1113.63 1607.27,1113.96 1620.59,1114.28 1633.91,1114.58 1647.22,1114.87 1660.54,1115.14 \n",
       "  1673.86,1115.4 1687.18,1115.65 1700.49,1115.89 1713.81,1116.11 1727.13,1116.32 1740.45,1116.53 1753.76,1116.72 1767.08,1116.9 1780.4,1117.08 1793.72,1117.24 \n",
       "  \n",
       "  \"/>\n",
       "<polyline clip-path=\"url(#clip0803)\" style=\"stroke:#0000ff; stroke-width:8; stroke-opacity:1; fill:none\" stroke-dasharray=\"32, 20\" points=\"\n",
       "  208.937,1120.48 222.255,1110.52 235.572,1093.71 248.89,1073.7 262.207,1051.98 275.525,1029.42 288.842,1006.63 302.16,984.009 315.477,961.88 328.795,940.465 \n",
       "  342.112,919.93 355.43,900.394 368.747,881.943 382.065,864.633 395.382,848.498 408.699,833.556 422.017,819.808 435.334,807.246 448.652,795.851 461.969,785.597 \n",
       "  475.287,776.454 488.604,768.386 501.922,761.353 515.239,755.315 528.557,750.227 541.874,746.045 555.192,742.725 568.509,740.22 581.827,738.486 595.144,737.478 \n",
       "  608.462,737.152 621.779,737.465 635.096,738.375 648.414,739.841 661.731,741.824 675.049,744.285 688.366,747.187 701.684,750.496 715.001,754.176 728.319,758.197 \n",
       "  741.636,762.528 754.954,767.137 768.271,771.999 781.589,777.086 794.906,782.373 808.224,787.837 821.541,793.455 834.859,799.205 848.176,805.069 861.493,811.028 \n",
       "  874.811,817.063 888.128,823.16 901.446,829.302 914.763,835.475 928.081,841.666 941.398,847.863 954.716,854.054 968.033,860.23 981.351,866.379 994.668,872.494 \n",
       "  1007.99,878.566 1021.3,884.588 1034.62,890.552 1047.94,896.453 1061.26,902.286 1074.57,908.044 1087.89,913.723 1101.21,919.32 1114.53,924.831 1127.84,930.253 \n",
       "  1141.16,935.583 1154.48,940.818 1167.8,945.957 1181.11,950.998 1194.43,955.94 1207.75,960.782 1221.07,965.522 1234.38,970.161 1247.7,974.698 1261.02,979.132 \n",
       "  1274.34,983.465 1287.65,987.696 1300.97,991.826 1314.29,995.855 1327.6,999.784 1340.92,1003.61 1354.24,1007.35 1367.56,1010.98 1380.87,1014.52 1394.19,1017.97 \n",
       "  1407.51,1021.32 1420.83,1024.58 1434.14,1027.75 1447.46,1030.83 1460.78,1033.82 1474.1,1036.73 1487.41,1039.55 1500.73,1042.29 1514.05,1044.95 1527.37,1047.53 \n",
       "  1540.68,1050.04 1554,1052.47 1567.32,1054.82 1580.64,1057.1 1593.95,1059.31 1607.27,1061.45 1620.59,1063.53 1633.91,1065.54 1647.22,1067.48 1660.54,1069.37 \n",
       "  1673.86,1071.19 1687.18,1072.95 1700.49,1074.66 1713.81,1076.31 1727.13,1077.9 1740.45,1079.45 1753.76,1080.94 1767.08,1082.38 1780.4,1083.77 1793.72,1085.12 \n",
       "  \n",
       "  \"/>\n",
       "<polygon clip-path=\"url(#clip0801)\" points=\"\n",
       "1296.07,362.144 1783.66,362.144 1783.66,180.704 1296.07,180.704 \n",
       "  \" fill=\"#ffffff\" fill-rule=\"evenodd\" fill-opacity=\"1\"/>\n",
       "<polyline clip-path=\"url(#clip0801)\" style=\"stroke:#000000; stroke-width:4; stroke-opacity:1; fill:none\" points=\"\n",
       "  1296.07,362.144 1783.66,362.144 1783.66,180.704 1296.07,180.704 1296.07,362.144 \n",
       "  \"/>\n",
       "<polyline clip-path=\"url(#clip0801)\" style=\"stroke:#ff0000; stroke-width:8; stroke-opacity:1; fill:none\" points=\"\n",
       "  1315.27,241.184 1430.47,241.184 \n",
       "  \"/>\n",
       "<g clip-path=\"url(#clip0801)\">\n",
       "<text style=\"fill:#000000; fill-opacity:1; font-family:Arial,Helvetica Neue,Helvetica,sans-serif; font-size:48px; text-anchor:start;\" transform=\"rotate(0, 1449.67, 258.684)\" x=\"1449.67\" y=\"258.684\">chi-square(2)</text>\n",
       "</g>\n",
       "<polyline clip-path=\"url(#clip0801)\" style=\"stroke:#0000ff; stroke-width:8; stroke-opacity:1; fill:none\" stroke-dasharray=\"32, 20\" points=\"\n",
       "  1315.27,301.664 1430.47,301.664 \n",
       "  \"/>\n",
       "<g clip-path=\"url(#clip0801)\">\n",
       "<text style=\"fill:#000000; fill-opacity:1; font-family:Arial,Helvetica Neue,Helvetica,sans-serif; font-size:48px; text-anchor:start;\" transform=\"rotate(0, 1449.67, 319.164)\" x=\"1449.67\" y=\"319.164\">chi-square(5)</text>\n",
       "</g>\n",
       "</svg>\n"
      ]
     },
     "execution_count": 14,
     "metadata": {},
     "output_type": "execute_result"
    }
   ],
   "source": [
    "x  = 0.0001:0.1:12\n",
    "\n",
    "p1 = plot(x,pdf.(Chisq(2),x),color=:red,linewidth=2,label=\"chi-square(2)\",ylims=(0,0.4))\n",
    "plot!(x,pdf.(Chisq(5),x),color=:blue,line=(:dash,2),label=\"chi-square(5)\")\n",
    "title!(\"pdf of chi-square distributions\")\n",
    "xlabel!(\"x\")\n",
    "ylabel!(\"\")"
   ]
  },
  {
   "cell_type": "code",
   "execution_count": null,
   "metadata": {},
   "outputs": [],
   "source": []
  }
 ],
 "metadata": {
  "anaconda-cloud": {},
  "kernelspec": {
   "display_name": "Julia 1.1.0",
   "language": "julia",
   "name": "julia-1.1"
  },
  "language_info": {
   "file_extension": ".jl",
   "mimetype": "application/julia",
   "name": "julia",
   "version": "1.1.0"
  }
 },
 "nbformat": 4,
 "nbformat_minor": 1
}
