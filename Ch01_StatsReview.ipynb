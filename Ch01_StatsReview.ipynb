{
 "cells": [
  {
   "cell_type": "markdown",
   "metadata": {
    "collapsed": true
   },
   "source": [
    "# Review of Statistics\n",
    "\n",
    "This notebook shows some basic statistics needed for a course in financial econometrics.\n",
    "\n",
    "It uses the Statistics (built in) and StatsBase package (https://github.com/JuliaStats/StatsBase.jl) for descriptive statistics (averages, autocorrelations, etc) and the Distributions package (https://github.com/JuliaStats/Distributions.jl) for statistical distributions (pdf, cdf, etc)."
   ]
  },
  {
   "cell_type": "markdown",
   "metadata": {},
   "source": [
    "## Load Packages"
   ]
  },
  {
   "cell_type": "code",
   "execution_count": 1,
   "metadata": {},
   "outputs": [
    {
     "data": {
      "text/plain": [
       "printblue (generic function with 1 method)"
      ]
     },
     "execution_count": 1,
     "metadata": {},
     "output_type": "execute_result"
    }
   ],
   "source": [
    "using Dates, Statistics, DelimitedFiles, StatsBase, Distributions\n",
    "                         \n",
    "include(\"jlFiles/printmat.jl\")   #just a function for prettier matrix printing\n",
    "\n",
    "printblue(txt) = printstyled(string(txt,\"\\n\"),color=:blue,bold=true)"
   ]
  },
  {
   "cell_type": "code",
   "execution_count": 2,
   "metadata": {},
   "outputs": [],
   "source": [
    "using Plots\n",
    "\n",
    "#pyplot(size=(600,400))           #use pyplot() or gr()\n",
    "gr(size=(480,320))\n",
    "default(fmt = :svg)"
   ]
  },
  {
   "cell_type": "markdown",
   "metadata": {},
   "source": [
    "# Distributions"
   ]
  },
  {
   "cell_type": "markdown",
   "metadata": {},
   "source": [
    "## Probability Density Function (pdf)\n",
    "\n",
    "The cells below calculate and plot some pdfs. The Distributions package has many more distributions."
   ]
  },
  {
   "cell_type": "code",
   "execution_count": 3,
   "metadata": {},
   "outputs": [
    {
     "data": {
      "image/svg+xml": [
       "<?xml version=\"1.0\" encoding=\"utf-8\"?>\n",
       "<svg xmlns=\"http://www.w3.org/2000/svg\" xmlns:xlink=\"http://www.w3.org/1999/xlink\" width=\"480\" height=\"320\" viewBox=\"0 0 1920 1280\">\n",
       "<defs>\n",
       "  <clipPath id=\"clip0400\">\n",
       "    <rect x=\"0\" y=\"0\" width=\"1920\" height=\"1280\"/>\n",
       "  </clipPath>\n",
       "</defs>\n",
       "<polygon clip-path=\"url(#clip0400)\" points=\"\n",
       "0,1280 1920,1280 1920,0 0,0 \n",
       "  \" fill=\"#ffffff\" fill-rule=\"evenodd\" fill-opacity=\"1\"/>\n",
       "<defs>\n",
       "  <clipPath id=\"clip0401\">\n",
       "    <rect x=\"384\" y=\"0\" width=\"1345\" height=\"1280\"/>\n",
       "  </clipPath>\n",
       "</defs>\n",
       "<polygon clip-path=\"url(#clip0400)\" points=\"\n",
       "161.394,1120.48 1841.26,1120.48 1841.26,125.984 161.394,125.984 \n",
       "  \" fill=\"#ffffff\" fill-rule=\"evenodd\" fill-opacity=\"1\"/>\n",
       "<defs>\n",
       "  <clipPath id=\"clip0402\">\n",
       "    <rect x=\"161\" y=\"125\" width=\"1681\" height=\"995\"/>\n",
       "  </clipPath>\n",
       "</defs>\n",
       "<polyline clip-path=\"url(#clip0402)\" style=\"stroke:#000000; stroke-width:2; stroke-opacity:0.1; fill:none\" points=\"\n",
       "  208.937,1120.48 208.937,125.984 \n",
       "  \"/>\n",
       "<polyline clip-path=\"url(#clip0402)\" style=\"stroke:#000000; stroke-width:2; stroke-opacity:0.1; fill:none\" points=\"\n",
       "  473.067,1120.48 473.067,125.984 \n",
       "  \"/>\n",
       "<polyline clip-path=\"url(#clip0402)\" style=\"stroke:#000000; stroke-width:2; stroke-opacity:0.1; fill:none\" points=\"\n",
       "  737.197,1120.48 737.197,125.984 \n",
       "  \"/>\n",
       "<polyline clip-path=\"url(#clip0402)\" style=\"stroke:#000000; stroke-width:2; stroke-opacity:0.1; fill:none\" points=\"\n",
       "  1001.33,1120.48 1001.33,125.984 \n",
       "  \"/>\n",
       "<polyline clip-path=\"url(#clip0402)\" style=\"stroke:#000000; stroke-width:2; stroke-opacity:0.1; fill:none\" points=\"\n",
       "  1265.46,1120.48 1265.46,125.984 \n",
       "  \"/>\n",
       "<polyline clip-path=\"url(#clip0402)\" style=\"stroke:#000000; stroke-width:2; stroke-opacity:0.1; fill:none\" points=\"\n",
       "  1529.59,1120.48 1529.59,125.984 \n",
       "  \"/>\n",
       "<polyline clip-path=\"url(#clip0402)\" style=\"stroke:#000000; stroke-width:2; stroke-opacity:0.1; fill:none\" points=\"\n",
       "  1793.72,1120.48 1793.72,125.984 \n",
       "  \"/>\n",
       "<polyline clip-path=\"url(#clip0402)\" style=\"stroke:#000000; stroke-width:2; stroke-opacity:0.1; fill:none\" points=\"\n",
       "  161.394,1120.48 1841.26,1120.48 \n",
       "  \"/>\n",
       "<polyline clip-path=\"url(#clip0402)\" style=\"stroke:#000000; stroke-width:2; stroke-opacity:0.1; fill:none\" points=\"\n",
       "  161.394,871.858 1841.26,871.858 \n",
       "  \"/>\n",
       "<polyline clip-path=\"url(#clip0402)\" style=\"stroke:#000000; stroke-width:2; stroke-opacity:0.1; fill:none\" points=\"\n",
       "  161.394,623.233 1841.26,623.233 \n",
       "  \"/>\n",
       "<polyline clip-path=\"url(#clip0402)\" style=\"stroke:#000000; stroke-width:2; stroke-opacity:0.1; fill:none\" points=\"\n",
       "  161.394,374.609 1841.26,374.609 \n",
       "  \"/>\n",
       "<polyline clip-path=\"url(#clip0402)\" style=\"stroke:#000000; stroke-width:2; stroke-opacity:0.1; fill:none\" points=\"\n",
       "  161.394,125.984 1841.26,125.984 \n",
       "  \"/>\n",
       "<polyline clip-path=\"url(#clip0400)\" style=\"stroke:#000000; stroke-width:4; stroke-opacity:1; fill:none\" points=\"\n",
       "  161.394,1120.48 1841.26,1120.48 \n",
       "  \"/>\n",
       "<polyline clip-path=\"url(#clip0400)\" style=\"stroke:#000000; stroke-width:4; stroke-opacity:1; fill:none\" points=\"\n",
       "  161.394,1120.48 161.394,125.984 \n",
       "  \"/>\n",
       "<polyline clip-path=\"url(#clip0400)\" style=\"stroke:#000000; stroke-width:4; stroke-opacity:1; fill:none\" points=\"\n",
       "  208.937,1120.48 208.937,1105.57 \n",
       "  \"/>\n",
       "<polyline clip-path=\"url(#clip0400)\" style=\"stroke:#000000; stroke-width:4; stroke-opacity:1; fill:none\" points=\"\n",
       "  473.067,1120.48 473.067,1105.57 \n",
       "  \"/>\n",
       "<polyline clip-path=\"url(#clip0400)\" style=\"stroke:#000000; stroke-width:4; stroke-opacity:1; fill:none\" points=\"\n",
       "  737.197,1120.48 737.197,1105.57 \n",
       "  \"/>\n",
       "<polyline clip-path=\"url(#clip0400)\" style=\"stroke:#000000; stroke-width:4; stroke-opacity:1; fill:none\" points=\"\n",
       "  1001.33,1120.48 1001.33,1105.57 \n",
       "  \"/>\n",
       "<polyline clip-path=\"url(#clip0400)\" style=\"stroke:#000000; stroke-width:4; stroke-opacity:1; fill:none\" points=\"\n",
       "  1265.46,1120.48 1265.46,1105.57 \n",
       "  \"/>\n",
       "<polyline clip-path=\"url(#clip0400)\" style=\"stroke:#000000; stroke-width:4; stroke-opacity:1; fill:none\" points=\"\n",
       "  1529.59,1120.48 1529.59,1105.57 \n",
       "  \"/>\n",
       "<polyline clip-path=\"url(#clip0400)\" style=\"stroke:#000000; stroke-width:4; stroke-opacity:1; fill:none\" points=\"\n",
       "  1793.72,1120.48 1793.72,1105.57 \n",
       "  \"/>\n",
       "<polyline clip-path=\"url(#clip0400)\" style=\"stroke:#000000; stroke-width:4; stroke-opacity:1; fill:none\" points=\"\n",
       "  161.394,1120.48 186.592,1120.48 \n",
       "  \"/>\n",
       "<polyline clip-path=\"url(#clip0400)\" style=\"stroke:#000000; stroke-width:4; stroke-opacity:1; fill:none\" points=\"\n",
       "  161.394,871.858 186.592,871.858 \n",
       "  \"/>\n",
       "<polyline clip-path=\"url(#clip0400)\" style=\"stroke:#000000; stroke-width:4; stroke-opacity:1; fill:none\" points=\"\n",
       "  161.394,623.233 186.592,623.233 \n",
       "  \"/>\n",
       "<polyline clip-path=\"url(#clip0400)\" style=\"stroke:#000000; stroke-width:4; stroke-opacity:1; fill:none\" points=\"\n",
       "  161.394,374.609 186.592,374.609 \n",
       "  \"/>\n",
       "<polyline clip-path=\"url(#clip0400)\" style=\"stroke:#000000; stroke-width:4; stroke-opacity:1; fill:none\" points=\"\n",
       "  161.394,125.984 186.592,125.984 \n",
       "  \"/>\n",
       "<g clip-path=\"url(#clip0400)\">\n",
       "<text style=\"fill:#000000; fill-opacity:1; font-family:Arial,Helvetica Neue,Helvetica,sans-serif; font-size:48px; text-anchor:middle;\" transform=\"rotate(0, 208.937, 1172.08)\" x=\"208.937\" y=\"1172.08\">-3</text>\n",
       "</g>\n",
       "<g clip-path=\"url(#clip0400)\">\n",
       "<text style=\"fill:#000000; fill-opacity:1; font-family:Arial,Helvetica Neue,Helvetica,sans-serif; font-size:48px; text-anchor:middle;\" transform=\"rotate(0, 473.067, 1172.08)\" x=\"473.067\" y=\"1172.08\">-2</text>\n",
       "</g>\n",
       "<g clip-path=\"url(#clip0400)\">\n",
       "<text style=\"fill:#000000; fill-opacity:1; font-family:Arial,Helvetica Neue,Helvetica,sans-serif; font-size:48px; text-anchor:middle;\" transform=\"rotate(0, 737.197, 1172.08)\" x=\"737.197\" y=\"1172.08\">-1</text>\n",
       "</g>\n",
       "<g clip-path=\"url(#clip0400)\">\n",
       "<text style=\"fill:#000000; fill-opacity:1; font-family:Arial,Helvetica Neue,Helvetica,sans-serif; font-size:48px; text-anchor:middle;\" transform=\"rotate(0, 1001.33, 1172.08)\" x=\"1001.33\" y=\"1172.08\">0</text>\n",
       "</g>\n",
       "<g clip-path=\"url(#clip0400)\">\n",
       "<text style=\"fill:#000000; fill-opacity:1; font-family:Arial,Helvetica Neue,Helvetica,sans-serif; font-size:48px; text-anchor:middle;\" transform=\"rotate(0, 1265.46, 1172.08)\" x=\"1265.46\" y=\"1172.08\">1</text>\n",
       "</g>\n",
       "<g clip-path=\"url(#clip0400)\">\n",
       "<text style=\"fill:#000000; fill-opacity:1; font-family:Arial,Helvetica Neue,Helvetica,sans-serif; font-size:48px; text-anchor:middle;\" transform=\"rotate(0, 1529.59, 1172.08)\" x=\"1529.59\" y=\"1172.08\">2</text>\n",
       "</g>\n",
       "<g clip-path=\"url(#clip0400)\">\n",
       "<text style=\"fill:#000000; fill-opacity:1; font-family:Arial,Helvetica Neue,Helvetica,sans-serif; font-size:48px; text-anchor:middle;\" transform=\"rotate(0, 1793.72, 1172.08)\" x=\"1793.72\" y=\"1172.08\">3</text>\n",
       "</g>\n",
       "<g clip-path=\"url(#clip0400)\">\n",
       "<text style=\"fill:#000000; fill-opacity:1; font-family:Arial,Helvetica Neue,Helvetica,sans-serif; font-size:48px; text-anchor:end;\" transform=\"rotate(0, 142.194, 1137.98)\" x=\"142.194\" y=\"1137.98\">0.0</text>\n",
       "</g>\n",
       "<g clip-path=\"url(#clip0400)\">\n",
       "<text style=\"fill:#000000; fill-opacity:1; font-family:Arial,Helvetica Neue,Helvetica,sans-serif; font-size:48px; text-anchor:end;\" transform=\"rotate(0, 142.194, 889.358)\" x=\"142.194\" y=\"889.358\">0.1</text>\n",
       "</g>\n",
       "<g clip-path=\"url(#clip0400)\">\n",
       "<text style=\"fill:#000000; fill-opacity:1; font-family:Arial,Helvetica Neue,Helvetica,sans-serif; font-size:48px; text-anchor:end;\" transform=\"rotate(0, 142.194, 640.733)\" x=\"142.194\" y=\"640.733\">0.2</text>\n",
       "</g>\n",
       "<g clip-path=\"url(#clip0400)\">\n",
       "<text style=\"fill:#000000; fill-opacity:1; font-family:Arial,Helvetica Neue,Helvetica,sans-serif; font-size:48px; text-anchor:end;\" transform=\"rotate(0, 142.194, 392.109)\" x=\"142.194\" y=\"392.109\">0.3</text>\n",
       "</g>\n",
       "<g clip-path=\"url(#clip0400)\">\n",
       "<text style=\"fill:#000000; fill-opacity:1; font-family:Arial,Helvetica Neue,Helvetica,sans-serif; font-size:48px; text-anchor:end;\" transform=\"rotate(0, 142.194, 143.484)\" x=\"142.194\" y=\"143.484\">0.4</text>\n",
       "</g>\n",
       "<g clip-path=\"url(#clip0400)\">\n",
       "<text style=\"fill:#000000; fill-opacity:1; font-family:Arial,Helvetica Neue,Helvetica,sans-serif; font-size:84px; text-anchor:middle;\" transform=\"rotate(0, 1001.33, 73.2)\" x=\"1001.33\" y=\"73.2\">pdf of N(0,1)</text>\n",
       "</g>\n",
       "<g clip-path=\"url(#clip0400)\">\n",
       "<text style=\"fill:#000000; fill-opacity:1; font-family:Arial,Helvetica Neue,Helvetica,sans-serif; font-size:66px; text-anchor:middle;\" transform=\"rotate(0, 1001.33, 1270.4)\" x=\"1001.33\" y=\"1270.4\">x</text>\n",
       "</g>\n",
       "<polyline clip-path=\"url(#clip0402)\" style=\"stroke:#ff0000; stroke-width:8; stroke-opacity:1; fill:none\" points=\"\n",
       "  208.937,1109.46 235.35,1105.68 261.763,1100.8 288.176,1094.57 314.589,1086.71 341.002,1076.9 367.415,1064.8 393.828,1050.05 420.241,1032.28 446.654,1011.13 \n",
       "  473.067,986.248 499.48,957.346 525.893,924.193 552.306,886.653 578.719,844.706 605.132,798.47 631.545,748.223 657.958,694.418 684.371,637.688 710.784,578.849 \n",
       "  737.197,518.884 763.61,458.929 790.023,400.238 816.436,344.143 842.849,292.004 869.262,245.162 895.675,204.872 922.088,172.259 948.501,148.254 974.914,133.561 \n",
       "  1001.33,128.614 1027.74,133.561 1054.15,148.254 1080.57,172.259 1106.98,204.872 1133.39,245.162 1159.8,292.004 1186.22,344.143 1212.63,400.238 1239.04,458.929 \n",
       "  1265.46,518.884 1291.87,578.849 1318.28,637.688 1344.7,694.418 1371.11,748.223 1397.52,798.47 1423.93,844.706 1450.35,886.653 1476.76,924.193 1503.17,957.346 \n",
       "  1529.59,986.248 1556,1011.13 1582.41,1032.28 1608.83,1050.05 1635.24,1064.8 1661.65,1076.9 1688.06,1086.71 1714.48,1094.57 1740.89,1100.8 1767.3,1105.68 \n",
       "  1793.72,1109.46 \n",
       "  \"/>\n",
       "<polygon clip-path=\"url(#clip0402)\" points=\"\n",
       "208.937,1109.46 235.35,1105.68 261.763,1100.8 288.176,1094.57 314.589,1086.71 341.002,1076.9 367.415,1064.8 393.828,1050.05 420.241,1032.28 446.654,1011.13 \n",
       "  473.067,986.248 499.48,957.346 525.893,924.193 552.306,886.653 578.719,844.706 605.132,798.47 631.545,748.223 657.958,694.418 684.371,637.688 710.784,578.849 \n",
       "  737.197,518.884 763.61,458.929 790.023,400.238 816.436,344.143 842.849,292.004 869.262,245.162 895.675,204.872 922.088,172.259 948.501,148.254 974.914,133.561 \n",
       "  1001.33,128.614 1027.74,133.561 1054.15,148.254 1080.57,172.259 1106.98,204.872 1133.39,245.162 1159.8,292.004 1186.22,344.143 1212.63,400.238 1239.04,458.929 \n",
       "  1265.46,518.884 1291.87,578.849 1318.28,637.688 1344.7,694.418 1371.11,748.223 1397.52,798.47 1423.93,844.706 1423.93,1120.48 1397.52,1120.48 1371.11,1120.48 \n",
       "  1344.7,1120.48 1318.28,1120.48 1291.87,1120.48 1265.46,1120.48 1239.04,1120.48 1212.63,1120.48 1186.22,1120.48 1159.8,1120.48 1133.39,1120.48 1106.98,1120.48 \n",
       "  1080.57,1120.48 1054.15,1120.48 1027.74,1120.48 1001.33,1120.48 974.914,1120.48 948.501,1120.48 922.088,1120.48 895.675,1120.48 869.262,1120.48 842.849,1120.48 \n",
       "  816.436,1120.48 790.023,1120.48 763.61,1120.48 737.197,1120.48 710.784,1120.48 684.371,1120.48 657.958,1120.48 631.545,1120.48 605.132,1120.48 578.719,1120.48 \n",
       "  552.306,1120.48 525.893,1120.48 499.48,1120.48 473.067,1120.48 446.654,1120.48 420.241,1120.48 393.828,1120.48 367.415,1120.48 341.002,1120.48 314.589,1120.48 \n",
       "  288.176,1120.48 261.763,1120.48 235.35,1120.48 208.937,1120.48 \n",
       "  \" fill=\"#ff0000\" fill-rule=\"evenodd\" fill-opacity=\"1\"/>\n",
       "<polyline clip-path=\"url(#clip0402)\" style=\"stroke:#ff0000; stroke-width:8; stroke-opacity:1; fill:none\" points=\"\n",
       "  208.937,1109.46 235.35,1105.68 261.763,1100.8 288.176,1094.57 314.589,1086.71 341.002,1076.9 367.415,1064.8 393.828,1050.05 420.241,1032.28 446.654,1011.13 \n",
       "  473.067,986.248 499.48,957.346 525.893,924.193 552.306,886.653 578.719,844.706 605.132,798.47 631.545,748.223 657.958,694.418 684.371,637.688 710.784,578.849 \n",
       "  737.197,518.884 763.61,458.929 790.023,400.238 816.436,344.143 842.849,292.004 869.262,245.162 895.675,204.872 922.088,172.259 948.501,148.254 974.914,133.561 \n",
       "  1001.33,128.614 1027.74,133.561 1054.15,148.254 1080.57,172.259 1106.98,204.872 1133.39,245.162 1159.8,292.004 1186.22,344.143 1212.63,400.238 1239.04,458.929 \n",
       "  1265.46,518.884 1291.87,578.849 1318.28,637.688 1344.7,694.418 1371.11,748.223 1397.52,798.47 1423.93,844.706 \n",
       "  \"/>\n",
       "<g clip-path=\"url(#clip0400)\">\n",
       "<text style=\"fill:#000000; fill-opacity:1; font-family:Arial,Helvetica Neue,Helvetica,sans-serif; font-size:48px; text-anchor:start;\" transform=\"rotate(0, 1291.87, 366.189)\" x=\"1291.87\" y=\"366.189\">the area covers 95%</text>\n",
       "</g>\n",
       "<g clip-path=\"url(#clip0400)\">\n",
       "<text style=\"fill:#000000; fill-opacity:1; font-family:Arial,Helvetica Neue,Helvetica,sans-serif; font-size:48px; text-anchor:start;\" transform=\"rotate(0, 1291.87, 418.029)\" x=\"1291.87\" y=\"418.029\"> of the probability mass</text>\n",
       "</g>\n",
       "</svg>\n"
      ]
     },
     "execution_count": 3,
     "metadata": {},
     "output_type": "execute_result"
    }
   ],
   "source": [
    "x  = -3:0.1:3\n",
    "xb = x[x.<=1.645]\n",
    "\n",
    "pdfx  = pdf.(Normal(0,1),x)       #calculate the pdf of a N(0,1) variable\n",
    "pdfxb = pdf.(Normal(0,1),xb)\n",
    "\n",
    "p1 = plot(x,pdfx,color=:red,linewidth=2,legend=nothing,ylims=(0,0.4))  #plot pdf\n",
    "plot!(xb,pdfxb,color=:red,linewidth=2,legend=nothing,fill=(0,:red))    #plot area under pdf\n",
    "title!(\"pdf of N(0,1)\")\n",
    "xlabel!(\"x\")\n",
    "annotate!(1.1,0.3,text(\"the area covers 95%\\n of the probability mass\",:left,8))"
   ]
  },
  {
   "cell_type": "code",
   "execution_count": 4,
   "metadata": {},
   "outputs": [
    {
     "data": {
      "image/svg+xml": [
       "<?xml version=\"1.0\" encoding=\"utf-8\"?>\n",
       "<svg xmlns=\"http://www.w3.org/2000/svg\" xmlns:xlink=\"http://www.w3.org/1999/xlink\" width=\"480\" height=\"320\" viewBox=\"0 0 1920 1280\">\n",
       "<defs>\n",
       "  <clipPath id=\"clip0800\">\n",
       "    <rect x=\"0\" y=\"0\" width=\"1920\" height=\"1280\"/>\n",
       "  </clipPath>\n",
       "</defs>\n",
       "<polygon clip-path=\"url(#clip0800)\" points=\"\n",
       "0,1280 1920,1280 1920,0 0,0 \n",
       "  \" fill=\"#ffffff\" fill-rule=\"evenodd\" fill-opacity=\"1\"/>\n",
       "<defs>\n",
       "  <clipPath id=\"clip0801\">\n",
       "    <rect x=\"384\" y=\"0\" width=\"1345\" height=\"1280\"/>\n",
       "  </clipPath>\n",
       "</defs>\n",
       "<polygon clip-path=\"url(#clip0800)\" points=\"\n",
       "161.394,1120.48 1841.26,1120.48 1841.26,125.984 161.394,125.984 \n",
       "  \" fill=\"#ffffff\" fill-rule=\"evenodd\" fill-opacity=\"1\"/>\n",
       "<defs>\n",
       "  <clipPath id=\"clip0802\">\n",
       "    <rect x=\"161\" y=\"125\" width=\"1681\" height=\"995\"/>\n",
       "  </clipPath>\n",
       "</defs>\n",
       "<polyline clip-path=\"url(#clip0802)\" style=\"stroke:#000000; stroke-width:2; stroke-opacity:0.1; fill:none\" points=\"\n",
       "  208.924,1120.48 208.924,125.984 \n",
       "  \"/>\n",
       "<polyline clip-path=\"url(#clip0802)\" style=\"stroke:#000000; stroke-width:2; stroke-opacity:0.1; fill:none\" points=\"\n",
       "  541.861,1120.48 541.861,125.984 \n",
       "  \"/>\n",
       "<polyline clip-path=\"url(#clip0802)\" style=\"stroke:#000000; stroke-width:2; stroke-opacity:0.1; fill:none\" points=\"\n",
       "  874.798,1120.48 874.798,125.984 \n",
       "  \"/>\n",
       "<polyline clip-path=\"url(#clip0802)\" style=\"stroke:#000000; stroke-width:2; stroke-opacity:0.1; fill:none\" points=\"\n",
       "  1207.73,1120.48 1207.73,125.984 \n",
       "  \"/>\n",
       "<polyline clip-path=\"url(#clip0802)\" style=\"stroke:#000000; stroke-width:2; stroke-opacity:0.1; fill:none\" points=\"\n",
       "  1540.67,1120.48 1540.67,125.984 \n",
       "  \"/>\n",
       "<polyline clip-path=\"url(#clip0802)\" style=\"stroke:#000000; stroke-width:2; stroke-opacity:0.1; fill:none\" points=\"\n",
       "  161.394,1092.34 1841.26,1092.34 \n",
       "  \"/>\n",
       "<polyline clip-path=\"url(#clip0802)\" style=\"stroke:#000000; stroke-width:2; stroke-opacity:0.1; fill:none\" points=\"\n",
       "  161.394,904.686 1841.26,904.686 \n",
       "  \"/>\n",
       "<polyline clip-path=\"url(#clip0802)\" style=\"stroke:#000000; stroke-width:2; stroke-opacity:0.1; fill:none\" points=\"\n",
       "  161.394,717.035 1841.26,717.035 \n",
       "  \"/>\n",
       "<polyline clip-path=\"url(#clip0802)\" style=\"stroke:#000000; stroke-width:2; stroke-opacity:0.1; fill:none\" points=\"\n",
       "  161.394,529.385 1841.26,529.385 \n",
       "  \"/>\n",
       "<polyline clip-path=\"url(#clip0802)\" style=\"stroke:#000000; stroke-width:2; stroke-opacity:0.1; fill:none\" points=\"\n",
       "  161.394,341.734 1841.26,341.734 \n",
       "  \"/>\n",
       "<polyline clip-path=\"url(#clip0802)\" style=\"stroke:#000000; stroke-width:2; stroke-opacity:0.1; fill:none\" points=\"\n",
       "  161.394,154.084 1841.26,154.084 \n",
       "  \"/>\n",
       "<polyline clip-path=\"url(#clip0800)\" style=\"stroke:#000000; stroke-width:4; stroke-opacity:1; fill:none\" points=\"\n",
       "  161.394,1120.48 1841.26,1120.48 \n",
       "  \"/>\n",
       "<polyline clip-path=\"url(#clip0800)\" style=\"stroke:#000000; stroke-width:4; stroke-opacity:1; fill:none\" points=\"\n",
       "  161.394,1120.48 161.394,125.984 \n",
       "  \"/>\n",
       "<polyline clip-path=\"url(#clip0800)\" style=\"stroke:#000000; stroke-width:4; stroke-opacity:1; fill:none\" points=\"\n",
       "  208.924,1120.48 208.924,1105.57 \n",
       "  \"/>\n",
       "<polyline clip-path=\"url(#clip0800)\" style=\"stroke:#000000; stroke-width:4; stroke-opacity:1; fill:none\" points=\"\n",
       "  541.861,1120.48 541.861,1105.57 \n",
       "  \"/>\n",
       "<polyline clip-path=\"url(#clip0800)\" style=\"stroke:#000000; stroke-width:4; stroke-opacity:1; fill:none\" points=\"\n",
       "  874.798,1120.48 874.798,1105.57 \n",
       "  \"/>\n",
       "<polyline clip-path=\"url(#clip0800)\" style=\"stroke:#000000; stroke-width:4; stroke-opacity:1; fill:none\" points=\"\n",
       "  1207.73,1120.48 1207.73,1105.57 \n",
       "  \"/>\n",
       "<polyline clip-path=\"url(#clip0800)\" style=\"stroke:#000000; stroke-width:4; stroke-opacity:1; fill:none\" points=\"\n",
       "  1540.67,1120.48 1540.67,1105.57 \n",
       "  \"/>\n",
       "<polyline clip-path=\"url(#clip0800)\" style=\"stroke:#000000; stroke-width:4; stroke-opacity:1; fill:none\" points=\"\n",
       "  161.394,1092.34 186.592,1092.34 \n",
       "  \"/>\n",
       "<polyline clip-path=\"url(#clip0800)\" style=\"stroke:#000000; stroke-width:4; stroke-opacity:1; fill:none\" points=\"\n",
       "  161.394,904.686 186.592,904.686 \n",
       "  \"/>\n",
       "<polyline clip-path=\"url(#clip0800)\" style=\"stroke:#000000; stroke-width:4; stroke-opacity:1; fill:none\" points=\"\n",
       "  161.394,717.035 186.592,717.035 \n",
       "  \"/>\n",
       "<polyline clip-path=\"url(#clip0800)\" style=\"stroke:#000000; stroke-width:4; stroke-opacity:1; fill:none\" points=\"\n",
       "  161.394,529.385 186.592,529.385 \n",
       "  \"/>\n",
       "<polyline clip-path=\"url(#clip0800)\" style=\"stroke:#000000; stroke-width:4; stroke-opacity:1; fill:none\" points=\"\n",
       "  161.394,341.734 186.592,341.734 \n",
       "  \"/>\n",
       "<polyline clip-path=\"url(#clip0800)\" style=\"stroke:#000000; stroke-width:4; stroke-opacity:1; fill:none\" points=\"\n",
       "  161.394,154.084 186.592,154.084 \n",
       "  \"/>\n",
       "<g clip-path=\"url(#clip0800)\">\n",
       "<text style=\"fill:#000000; fill-opacity:1; font-family:Arial,Helvetica Neue,Helvetica,sans-serif; font-size:48px; text-anchor:middle;\" transform=\"rotate(0, 208.924, 1172.08)\" x=\"208.924\" y=\"1172.08\">0.0</text>\n",
       "</g>\n",
       "<g clip-path=\"url(#clip0800)\">\n",
       "<text style=\"fill:#000000; fill-opacity:1; font-family:Arial,Helvetica Neue,Helvetica,sans-serif; font-size:48px; text-anchor:middle;\" transform=\"rotate(0, 541.861, 1172.08)\" x=\"541.861\" y=\"1172.08\">2.5</text>\n",
       "</g>\n",
       "<g clip-path=\"url(#clip0800)\">\n",
       "<text style=\"fill:#000000; fill-opacity:1; font-family:Arial,Helvetica Neue,Helvetica,sans-serif; font-size:48px; text-anchor:middle;\" transform=\"rotate(0, 874.798, 1172.08)\" x=\"874.798\" y=\"1172.08\">5.0</text>\n",
       "</g>\n",
       "<g clip-path=\"url(#clip0800)\">\n",
       "<text style=\"fill:#000000; fill-opacity:1; font-family:Arial,Helvetica Neue,Helvetica,sans-serif; font-size:48px; text-anchor:middle;\" transform=\"rotate(0, 1207.73, 1172.08)\" x=\"1207.73\" y=\"1172.08\">7.5</text>\n",
       "</g>\n",
       "<g clip-path=\"url(#clip0800)\">\n",
       "<text style=\"fill:#000000; fill-opacity:1; font-family:Arial,Helvetica Neue,Helvetica,sans-serif; font-size:48px; text-anchor:middle;\" transform=\"rotate(0, 1540.67, 1172.08)\" x=\"1540.67\" y=\"1172.08\">10.0</text>\n",
       "</g>\n",
       "<g clip-path=\"url(#clip0800)\">\n",
       "<text style=\"fill:#000000; fill-opacity:1; font-family:Arial,Helvetica Neue,Helvetica,sans-serif; font-size:48px; text-anchor:end;\" transform=\"rotate(0, 142.194, 1109.84)\" x=\"142.194\" y=\"1109.84\">0.0</text>\n",
       "</g>\n",
       "<g clip-path=\"url(#clip0800)\">\n",
       "<text style=\"fill:#000000; fill-opacity:1; font-family:Arial,Helvetica Neue,Helvetica,sans-serif; font-size:48px; text-anchor:end;\" transform=\"rotate(0, 142.194, 922.186)\" x=\"142.194\" y=\"922.186\">0.1</text>\n",
       "</g>\n",
       "<g clip-path=\"url(#clip0800)\">\n",
       "<text style=\"fill:#000000; fill-opacity:1; font-family:Arial,Helvetica Neue,Helvetica,sans-serif; font-size:48px; text-anchor:end;\" transform=\"rotate(0, 142.194, 734.535)\" x=\"142.194\" y=\"734.535\">0.2</text>\n",
       "</g>\n",
       "<g clip-path=\"url(#clip0800)\">\n",
       "<text style=\"fill:#000000; fill-opacity:1; font-family:Arial,Helvetica Neue,Helvetica,sans-serif; font-size:48px; text-anchor:end;\" transform=\"rotate(0, 142.194, 546.885)\" x=\"142.194\" y=\"546.885\">0.3</text>\n",
       "</g>\n",
       "<g clip-path=\"url(#clip0800)\">\n",
       "<text style=\"fill:#000000; fill-opacity:1; font-family:Arial,Helvetica Neue,Helvetica,sans-serif; font-size:48px; text-anchor:end;\" transform=\"rotate(0, 142.194, 359.234)\" x=\"142.194\" y=\"359.234\">0.4</text>\n",
       "</g>\n",
       "<g clip-path=\"url(#clip0800)\">\n",
       "<text style=\"fill:#000000; fill-opacity:1; font-family:Arial,Helvetica Neue,Helvetica,sans-serif; font-size:48px; text-anchor:end;\" transform=\"rotate(0, 142.194, 171.584)\" x=\"142.194\" y=\"171.584\">0.5</text>\n",
       "</g>\n",
       "<g clip-path=\"url(#clip0800)\">\n",
       "<text style=\"fill:#000000; fill-opacity:1; font-family:Arial,Helvetica Neue,Helvetica,sans-serif; font-size:84px; text-anchor:middle;\" transform=\"rotate(0, 1001.33, 73.2)\" x=\"1001.33\" y=\"73.2\">pdf of Chisq(n) variables</text>\n",
       "</g>\n",
       "<g clip-path=\"url(#clip0800)\">\n",
       "<text style=\"fill:#000000; fill-opacity:1; font-family:Arial,Helvetica Neue,Helvetica,sans-serif; font-size:66px; text-anchor:middle;\" transform=\"rotate(0, 1001.33, 1270.4)\" x=\"1001.33\" y=\"1270.4\">x</text>\n",
       "</g>\n",
       "<polyline clip-path=\"url(#clip0802)\" style=\"stroke:#ff0000; stroke-width:4; stroke-opacity:1; fill:none\" points=\"\n",
       "  208.937,154.13 222.255,199.887 235.572,243.413 248.89,284.815 262.207,324.198 275.525,361.661 288.842,397.296 302.16,431.194 315.477,463.438 328.795,494.11 \n",
       "  342.112,523.286 355.43,551.039 368.747,577.438 382.065,602.55 395.382,626.437 408.699,649.159 422.017,670.773 435.334,691.333 448.652,710.89 461.969,729.494 \n",
       "  475.287,747.19 488.604,764.023 501.922,780.035 515.239,795.266 528.557,809.754 541.874,823.536 555.192,836.646 568.509,849.116 581.827,860.978 595.144,872.261 \n",
       "  608.462,882.995 621.779,893.204 635.096,902.916 648.414,912.154 661.731,920.942 675.049,929.301 688.366,937.252 701.684,944.816 715.001,952.01 728.319,958.854 \n",
       "  741.636,965.364 754.954,971.557 768.271,977.447 781.589,983.051 794.906,988.38 808.224,993.45 821.541,998.273 834.859,1002.86 848.176,1007.22 861.493,1011.38 \n",
       "  874.811,1015.32 888.128,1019.08 901.446,1022.65 914.763,1026.05 928.081,1029.28 941.398,1032.36 954.716,1035.28 968.033,1038.07 981.351,1040.71 994.668,1043.23 \n",
       "  1007.99,1045.63 1021.3,1047.9 1034.62,1050.07 1047.94,1052.13 1061.26,1054.09 1074.57,1055.96 1087.89,1057.73 1101.21,1059.42 1114.53,1061.03 1127.84,1062.55 \n",
       "  1141.16,1064.01 1154.48,1065.39 1167.8,1066.7 1181.11,1067.95 1194.43,1069.14 1207.75,1070.27 1221.07,1071.35 1234.38,1072.37 1247.7,1073.35 1261.02,1074.27 \n",
       "  1274.34,1075.15 1287.65,1075.99 1300.97,1076.79 1314.29,1077.55 1327.6,1078.27 1340.92,1078.95 1354.24,1079.61 1367.56,1080.23 1380.87,1080.82 1394.19,1081.38 \n",
       "  1407.51,1081.91 1420.83,1082.42 1434.14,1082.91 1447.46,1083.37 1460.78,1083.8 1474.1,1084.22 1487.41,1084.62 1500.73,1084.99 1514.05,1085.35 1527.37,1085.69 \n",
       "  1540.68,1086.02 1554,1086.32 1567.32,1086.62 1580.64,1086.9 1593.95,1087.16 1607.27,1087.41 1620.59,1087.65 1633.91,1087.88 1647.22,1088.1 1660.54,1088.31 \n",
       "  1673.86,1088.5 1687.18,1088.69 1700.49,1088.87 1713.81,1089.04 1727.13,1089.2 1740.45,1089.35 1753.76,1089.5 1767.08,1089.63 1780.4,1089.77 1793.72,1089.89 \n",
       "  \n",
       "  \"/>\n",
       "<polyline clip-path=\"url(#clip0802)\" style=\"stroke:#0000ff; stroke-width:8; stroke-opacity:1; fill:none\" stroke-dasharray=\"32, 20\" points=\"\n",
       "  208.937,1092.34 222.255,1084.82 235.572,1072.13 248.89,1057.03 262.207,1040.63 275.525,1023.61 288.842,1006.4 302.16,989.333 315.477,972.631 328.795,956.468 \n",
       "  342.112,940.968 355.43,926.224 368.747,912.298 382.065,899.233 395.382,887.055 408.699,875.778 422.017,865.401 435.334,855.92 448.652,847.319 461.969,839.58 \n",
       "  475.287,832.68 488.604,826.59 501.922,821.282 515.239,816.724 528.557,812.884 541.874,809.728 555.192,807.222 568.509,805.332 581.827,804.023 595.144,803.262 \n",
       "  608.462,803.016 621.779,803.253 635.096,803.939 648.414,805.046 661.731,806.542 675.049,808.399 688.366,810.59 701.684,813.087 715.001,815.865 728.319,818.9 \n",
       "  741.636,822.168 754.954,825.648 768.271,829.317 781.589,833.156 794.906,837.147 808.224,841.271 821.541,845.511 834.859,849.851 848.176,854.277 861.493,858.774 \n",
       "  874.811,863.33 888.128,867.931 901.446,872.566 914.763,877.226 928.081,881.898 941.398,886.576 954.716,891.249 968.033,895.909 981.351,900.551 994.668,905.166 \n",
       "  1007.99,909.749 1021.3,914.294 1034.62,918.796 1047.94,923.249 1061.26,927.651 1074.57,931.997 1087.89,936.284 1101.21,940.508 1114.53,944.668 1127.84,948.76 \n",
       "  1141.16,952.783 1154.48,956.734 1167.8,960.613 1181.11,964.418 1194.43,968.147 1207.75,971.802 1221.07,975.379 1234.38,978.881 1247.7,982.305 1261.02,985.652 \n",
       "  1274.34,988.922 1287.65,992.115 1300.97,995.232 1314.29,998.273 1327.6,1001.24 1340.92,1004.13 1354.24,1006.95 1367.56,1009.69 1380.87,1012.36 1394.19,1014.96 \n",
       "  1407.51,1017.49 1420.83,1019.95 1434.14,1022.34 1447.46,1024.67 1460.78,1026.93 1474.1,1029.12 1487.41,1031.25 1500.73,1033.32 1514.05,1035.33 1527.37,1037.28 \n",
       "  1540.68,1039.17 1554,1041 1567.32,1042.78 1580.64,1044.5 1593.95,1046.17 1607.27,1047.79 1620.59,1049.35 1633.91,1050.87 1647.22,1052.34 1660.54,1053.76 \n",
       "  1673.86,1055.13 1687.18,1056.46 1700.49,1057.75 1713.81,1059 1727.13,1060.2 1740.45,1061.36 1753.76,1062.49 1767.08,1063.58 1780.4,1064.63 1793.72,1065.64 \n",
       "  \n",
       "  \"/>\n",
       "<polygon clip-path=\"url(#clip0800)\" points=\"\n",
       "1409.81,362.144 1783.66,362.144 1783.66,180.704 1409.81,180.704 \n",
       "  \" fill=\"#ffffff\" fill-rule=\"evenodd\" fill-opacity=\"1\"/>\n",
       "<polyline clip-path=\"url(#clip0800)\" style=\"stroke:#000000; stroke-width:4; stroke-opacity:1; fill:none\" points=\"\n",
       "  1409.81,362.144 1783.66,362.144 1783.66,180.704 1409.81,180.704 1409.81,362.144 \n",
       "  \"/>\n",
       "<polyline clip-path=\"url(#clip0800)\" style=\"stroke:#ff0000; stroke-width:4; stroke-opacity:1; fill:none\" points=\"\n",
       "  1429.01,241.184 1544.21,241.184 \n",
       "  \"/>\n",
       "<g clip-path=\"url(#clip0800)\">\n",
       "<text style=\"fill:#000000; fill-opacity:1; font-family:Arial,Helvetica Neue,Helvetica,sans-serif; font-size:48px; text-anchor:start;\" transform=\"rotate(0, 1563.41, 258.684)\" x=\"1563.41\" y=\"258.684\">Chisq(2)</text>\n",
       "</g>\n",
       "<polyline clip-path=\"url(#clip0800)\" style=\"stroke:#0000ff; stroke-width:8; stroke-opacity:1; fill:none\" stroke-dasharray=\"32, 20\" points=\"\n",
       "  1429.01,301.664 1544.21,301.664 \n",
       "  \"/>\n",
       "<g clip-path=\"url(#clip0800)\">\n",
       "<text style=\"fill:#000000; fill-opacity:1; font-family:Arial,Helvetica Neue,Helvetica,sans-serif; font-size:48px; text-anchor:start;\" transform=\"rotate(0, 1563.41, 319.164)\" x=\"1563.41\" y=\"319.164\">Chisq(5)</text>\n",
       "</g>\n",
       "</svg>\n"
      ]
     },
     "execution_count": 4,
     "metadata": {},
     "output_type": "execute_result"
    }
   ],
   "source": [
    "x  = 0.0001:0.1:12\n",
    "\n",
    "pdf2  = pdf.(Chisq(2),x)    \n",
    "pdf5 =  pdf.(Chisq(5),x)\n",
    "\n",
    "p1 = plot(x,pdf2,color=:red,label=\"Chisq(2)\")  \n",
    "plot!(x,pdf5,color=:blue,line=(:dash,2),label=\"Chisq(5)\") \n",
    "title!(\"pdf of Chisq(n) variables\")\n",
    "xlabel!(\"x\")"
   ]
  },
  {
   "cell_type": "code",
   "execution_count": 5,
   "metadata": {},
   "outputs": [
    {
     "data": {
      "image/svg+xml": [
       "<?xml version=\"1.0\" encoding=\"utf-8\"?>\n",
       "<svg xmlns=\"http://www.w3.org/2000/svg\" xmlns:xlink=\"http://www.w3.org/1999/xlink\" width=\"480\" height=\"320\" viewBox=\"0 0 1920 1280\">\n",
       "<defs>\n",
       "  <clipPath id=\"clip1200\">\n",
       "    <rect x=\"0\" y=\"0\" width=\"1920\" height=\"1280\"/>\n",
       "  </clipPath>\n",
       "</defs>\n",
       "<polygon clip-path=\"url(#clip1200)\" points=\"\n",
       "0,1280 1920,1280 1920,0 0,0 \n",
       "  \" fill=\"#ffffff\" fill-rule=\"evenodd\" fill-opacity=\"1\"/>\n",
       "<defs>\n",
       "  <clipPath id=\"clip1201\">\n",
       "    <rect x=\"384\" y=\"0\" width=\"1345\" height=\"1280\"/>\n",
       "  </clipPath>\n",
       "</defs>\n",
       "<polygon clip-path=\"url(#clip1200)\" points=\"\n",
       "161.394,1120.48 1841.26,1120.48 1841.26,125.984 161.394,125.984 \n",
       "  \" fill=\"#ffffff\" fill-rule=\"evenodd\" fill-opacity=\"1\"/>\n",
       "<defs>\n",
       "  <clipPath id=\"clip1202\">\n",
       "    <rect x=\"161\" y=\"125\" width=\"1681\" height=\"995\"/>\n",
       "  </clipPath>\n",
       "</defs>\n",
       "<polyline clip-path=\"url(#clip1202)\" style=\"stroke:#000000; stroke-width:2; stroke-opacity:0.1; fill:none\" points=\"\n",
       "  208.937,1120.48 208.937,125.984 \n",
       "  \"/>\n",
       "<polyline clip-path=\"url(#clip1202)\" style=\"stroke:#000000; stroke-width:2; stroke-opacity:0.1; fill:none\" points=\"\n",
       "  473.067,1120.48 473.067,125.984 \n",
       "  \"/>\n",
       "<polyline clip-path=\"url(#clip1202)\" style=\"stroke:#000000; stroke-width:2; stroke-opacity:0.1; fill:none\" points=\"\n",
       "  737.197,1120.48 737.197,125.984 \n",
       "  \"/>\n",
       "<polyline clip-path=\"url(#clip1202)\" style=\"stroke:#000000; stroke-width:2; stroke-opacity:0.1; fill:none\" points=\"\n",
       "  1001.33,1120.48 1001.33,125.984 \n",
       "  \"/>\n",
       "<polyline clip-path=\"url(#clip1202)\" style=\"stroke:#000000; stroke-width:2; stroke-opacity:0.1; fill:none\" points=\"\n",
       "  1265.46,1120.48 1265.46,125.984 \n",
       "  \"/>\n",
       "<polyline clip-path=\"url(#clip1202)\" style=\"stroke:#000000; stroke-width:2; stroke-opacity:0.1; fill:none\" points=\"\n",
       "  1529.59,1120.48 1529.59,125.984 \n",
       "  \"/>\n",
       "<polyline clip-path=\"url(#clip1202)\" style=\"stroke:#000000; stroke-width:2; stroke-opacity:0.1; fill:none\" points=\"\n",
       "  1793.72,1120.48 1793.72,125.984 \n",
       "  \"/>\n",
       "<polyline clip-path=\"url(#clip1202)\" style=\"stroke:#000000; stroke-width:2; stroke-opacity:0.1; fill:none\" points=\"\n",
       "  161.394,1120.48 1841.26,1120.48 \n",
       "  \"/>\n",
       "<polyline clip-path=\"url(#clip1202)\" style=\"stroke:#000000; stroke-width:2; stroke-opacity:0.1; fill:none\" points=\"\n",
       "  161.394,871.858 1841.26,871.858 \n",
       "  \"/>\n",
       "<polyline clip-path=\"url(#clip1202)\" style=\"stroke:#000000; stroke-width:2; stroke-opacity:0.1; fill:none\" points=\"\n",
       "  161.394,623.233 1841.26,623.233 \n",
       "  \"/>\n",
       "<polyline clip-path=\"url(#clip1202)\" style=\"stroke:#000000; stroke-width:2; stroke-opacity:0.1; fill:none\" points=\"\n",
       "  161.394,374.609 1841.26,374.609 \n",
       "  \"/>\n",
       "<polyline clip-path=\"url(#clip1202)\" style=\"stroke:#000000; stroke-width:2; stroke-opacity:0.1; fill:none\" points=\"\n",
       "  161.394,125.984 1841.26,125.984 \n",
       "  \"/>\n",
       "<polyline clip-path=\"url(#clip1200)\" style=\"stroke:#000000; stroke-width:4; stroke-opacity:1; fill:none\" points=\"\n",
       "  161.394,1120.48 1841.26,1120.48 \n",
       "  \"/>\n",
       "<polyline clip-path=\"url(#clip1200)\" style=\"stroke:#000000; stroke-width:4; stroke-opacity:1; fill:none\" points=\"\n",
       "  161.394,1120.48 161.394,125.984 \n",
       "  \"/>\n",
       "<polyline clip-path=\"url(#clip1200)\" style=\"stroke:#000000; stroke-width:4; stroke-opacity:1; fill:none\" points=\"\n",
       "  208.937,1120.48 208.937,1105.57 \n",
       "  \"/>\n",
       "<polyline clip-path=\"url(#clip1200)\" style=\"stroke:#000000; stroke-width:4; stroke-opacity:1; fill:none\" points=\"\n",
       "  473.067,1120.48 473.067,1105.57 \n",
       "  \"/>\n",
       "<polyline clip-path=\"url(#clip1200)\" style=\"stroke:#000000; stroke-width:4; stroke-opacity:1; fill:none\" points=\"\n",
       "  737.197,1120.48 737.197,1105.57 \n",
       "  \"/>\n",
       "<polyline clip-path=\"url(#clip1200)\" style=\"stroke:#000000; stroke-width:4; stroke-opacity:1; fill:none\" points=\"\n",
       "  1001.33,1120.48 1001.33,1105.57 \n",
       "  \"/>\n",
       "<polyline clip-path=\"url(#clip1200)\" style=\"stroke:#000000; stroke-width:4; stroke-opacity:1; fill:none\" points=\"\n",
       "  1265.46,1120.48 1265.46,1105.57 \n",
       "  \"/>\n",
       "<polyline clip-path=\"url(#clip1200)\" style=\"stroke:#000000; stroke-width:4; stroke-opacity:1; fill:none\" points=\"\n",
       "  1529.59,1120.48 1529.59,1105.57 \n",
       "  \"/>\n",
       "<polyline clip-path=\"url(#clip1200)\" style=\"stroke:#000000; stroke-width:4; stroke-opacity:1; fill:none\" points=\"\n",
       "  1793.72,1120.48 1793.72,1105.57 \n",
       "  \"/>\n",
       "<polyline clip-path=\"url(#clip1200)\" style=\"stroke:#000000; stroke-width:4; stroke-opacity:1; fill:none\" points=\"\n",
       "  161.394,1120.48 186.592,1120.48 \n",
       "  \"/>\n",
       "<polyline clip-path=\"url(#clip1200)\" style=\"stroke:#000000; stroke-width:4; stroke-opacity:1; fill:none\" points=\"\n",
       "  161.394,871.858 186.592,871.858 \n",
       "  \"/>\n",
       "<polyline clip-path=\"url(#clip1200)\" style=\"stroke:#000000; stroke-width:4; stroke-opacity:1; fill:none\" points=\"\n",
       "  161.394,623.233 186.592,623.233 \n",
       "  \"/>\n",
       "<polyline clip-path=\"url(#clip1200)\" style=\"stroke:#000000; stroke-width:4; stroke-opacity:1; fill:none\" points=\"\n",
       "  161.394,374.609 186.592,374.609 \n",
       "  \"/>\n",
       "<polyline clip-path=\"url(#clip1200)\" style=\"stroke:#000000; stroke-width:4; stroke-opacity:1; fill:none\" points=\"\n",
       "  161.394,125.984 186.592,125.984 \n",
       "  \"/>\n",
       "<g clip-path=\"url(#clip1200)\">\n",
       "<text style=\"fill:#000000; fill-opacity:1; font-family:Arial,Helvetica Neue,Helvetica,sans-serif; font-size:48px; text-anchor:middle;\" transform=\"rotate(0, 208.937, 1172.08)\" x=\"208.937\" y=\"1172.08\">-3</text>\n",
       "</g>\n",
       "<g clip-path=\"url(#clip1200)\">\n",
       "<text style=\"fill:#000000; fill-opacity:1; font-family:Arial,Helvetica Neue,Helvetica,sans-serif; font-size:48px; text-anchor:middle;\" transform=\"rotate(0, 473.067, 1172.08)\" x=\"473.067\" y=\"1172.08\">-2</text>\n",
       "</g>\n",
       "<g clip-path=\"url(#clip1200)\">\n",
       "<text style=\"fill:#000000; fill-opacity:1; font-family:Arial,Helvetica Neue,Helvetica,sans-serif; font-size:48px; text-anchor:middle;\" transform=\"rotate(0, 737.197, 1172.08)\" x=\"737.197\" y=\"1172.08\">-1</text>\n",
       "</g>\n",
       "<g clip-path=\"url(#clip1200)\">\n",
       "<text style=\"fill:#000000; fill-opacity:1; font-family:Arial,Helvetica Neue,Helvetica,sans-serif; font-size:48px; text-anchor:middle;\" transform=\"rotate(0, 1001.33, 1172.08)\" x=\"1001.33\" y=\"1172.08\">0</text>\n",
       "</g>\n",
       "<g clip-path=\"url(#clip1200)\">\n",
       "<text style=\"fill:#000000; fill-opacity:1; font-family:Arial,Helvetica Neue,Helvetica,sans-serif; font-size:48px; text-anchor:middle;\" transform=\"rotate(0, 1265.46, 1172.08)\" x=\"1265.46\" y=\"1172.08\">1</text>\n",
       "</g>\n",
       "<g clip-path=\"url(#clip1200)\">\n",
       "<text style=\"fill:#000000; fill-opacity:1; font-family:Arial,Helvetica Neue,Helvetica,sans-serif; font-size:48px; text-anchor:middle;\" transform=\"rotate(0, 1529.59, 1172.08)\" x=\"1529.59\" y=\"1172.08\">2</text>\n",
       "</g>\n",
       "<g clip-path=\"url(#clip1200)\">\n",
       "<text style=\"fill:#000000; fill-opacity:1; font-family:Arial,Helvetica Neue,Helvetica,sans-serif; font-size:48px; text-anchor:middle;\" transform=\"rotate(0, 1793.72, 1172.08)\" x=\"1793.72\" y=\"1172.08\">3</text>\n",
       "</g>\n",
       "<g clip-path=\"url(#clip1200)\">\n",
       "<text style=\"fill:#000000; fill-opacity:1; font-family:Arial,Helvetica Neue,Helvetica,sans-serif; font-size:48px; text-anchor:end;\" transform=\"rotate(0, 142.194, 1137.98)\" x=\"142.194\" y=\"1137.98\">0.0</text>\n",
       "</g>\n",
       "<g clip-path=\"url(#clip1200)\">\n",
       "<text style=\"fill:#000000; fill-opacity:1; font-family:Arial,Helvetica Neue,Helvetica,sans-serif; font-size:48px; text-anchor:end;\" transform=\"rotate(0, 142.194, 889.358)\" x=\"142.194\" y=\"889.358\">0.1</text>\n",
       "</g>\n",
       "<g clip-path=\"url(#clip1200)\">\n",
       "<text style=\"fill:#000000; fill-opacity:1; font-family:Arial,Helvetica Neue,Helvetica,sans-serif; font-size:48px; text-anchor:end;\" transform=\"rotate(0, 142.194, 640.733)\" x=\"142.194\" y=\"640.733\">0.2</text>\n",
       "</g>\n",
       "<g clip-path=\"url(#clip1200)\">\n",
       "<text style=\"fill:#000000; fill-opacity:1; font-family:Arial,Helvetica Neue,Helvetica,sans-serif; font-size:48px; text-anchor:end;\" transform=\"rotate(0, 142.194, 392.109)\" x=\"142.194\" y=\"392.109\">0.3</text>\n",
       "</g>\n",
       "<g clip-path=\"url(#clip1200)\">\n",
       "<text style=\"fill:#000000; fill-opacity:1; font-family:Arial,Helvetica Neue,Helvetica,sans-serif; font-size:48px; text-anchor:end;\" transform=\"rotate(0, 142.194, 143.484)\" x=\"142.194\" y=\"143.484\">0.4</text>\n",
       "</g>\n",
       "<g clip-path=\"url(#clip1200)\">\n",
       "<text style=\"fill:#000000; fill-opacity:1; font-family:Arial,Helvetica Neue,Helvetica,sans-serif; font-size:84px; text-anchor:middle;\" transform=\"rotate(0, 1001.33, 73.2)\" x=\"1001.33\" y=\"73.2\">pdf of N(0,1) and t-50 distribution</text>\n",
       "</g>\n",
       "<g clip-path=\"url(#clip1200)\">\n",
       "<text style=\"fill:#000000; fill-opacity:1; font-family:Arial,Helvetica Neue,Helvetica,sans-serif; font-size:66px; text-anchor:middle;\" transform=\"rotate(0, 1001.33, 1270.4)\" x=\"1001.33\" y=\"1270.4\">x</text>\n",
       "</g>\n",
       "<polyline clip-path=\"url(#clip1202)\" style=\"stroke:#ff0000; stroke-width:8; stroke-opacity:1; fill:none\" points=\"\n",
       "  208.937,1109.46 235.35,1105.68 261.763,1100.8 288.176,1094.57 314.589,1086.71 341.002,1076.9 367.415,1064.8 393.828,1050.05 420.241,1032.28 446.654,1011.13 \n",
       "  473.067,986.248 499.48,957.346 525.893,924.193 552.306,886.653 578.719,844.706 605.132,798.47 631.545,748.223 657.958,694.418 684.371,637.688 710.784,578.849 \n",
       "  737.197,518.884 763.61,458.929 790.023,400.238 816.436,344.143 842.849,292.004 869.262,245.162 895.675,204.872 922.088,172.259 948.501,148.254 974.914,133.561 \n",
       "  1001.33,128.614 1027.74,133.561 1054.15,148.254 1080.57,172.259 1106.98,204.872 1133.39,245.162 1159.8,292.004 1186.22,344.143 1212.63,400.238 1239.04,458.929 \n",
       "  1265.46,518.884 1291.87,578.849 1318.28,637.688 1344.7,694.418 1371.11,748.223 1397.52,798.47 1423.93,844.706 1450.35,886.653 1476.76,924.193 1503.17,957.346 \n",
       "  1529.59,986.248 1556,1011.13 1582.41,1032.28 1608.83,1050.05 1635.24,1064.8 1661.65,1076.9 1688.06,1086.71 1714.48,1094.57 1740.89,1100.8 1767.3,1105.68 \n",
       "  1793.72,1109.46 \n",
       "  \"/>\n",
       "<polyline clip-path=\"url(#clip1202)\" style=\"stroke:#0000ff; stroke-width:8; stroke-opacity:1; fill:none\" stroke-dasharray=\"32, 20\" points=\"\n",
       "  208.937,1105.99 235.35,1101.75 261.763,1096.43 288.176,1089.79 314.589,1081.58 341.002,1071.52 367.415,1059.28 393.828,1044.53 420.241,1026.93 446.654,1006.14 \n",
       "  473.067,981.814 499.48,953.662 525.893,921.439 552.306,884.982 578.719,844.23 605.132,799.252 631.545,750.267 657.958,697.667 684.371,642.025 710.784,584.104 \n",
       "  737.197,524.85 763.61,465.374 790.023,406.926 816.436,350.854 842.849,298.558 869.262,251.426 895.675,210.777 922.088,177.798 948.501,153.482 974.914,138.581 \n",
       "  1001.33,133.561 1027.74,138.581 1054.15,153.482 1080.57,177.798 1106.98,210.777 1133.39,251.426 1159.8,298.558 1186.22,350.854 1212.63,406.926 1239.04,465.374 \n",
       "  1265.46,524.85 1291.87,584.104 1318.28,642.025 1344.7,697.667 1371.11,750.267 1397.52,799.252 1423.93,844.23 1450.35,884.982 1476.76,921.439 1503.17,953.662 \n",
       "  1529.59,981.814 1556,1006.14 1582.41,1026.93 1608.83,1044.53 1635.24,1059.28 1661.65,1071.52 1688.06,1081.58 1714.48,1089.79 1740.89,1096.43 1767.3,1101.75 \n",
       "  1793.72,1105.99 \n",
       "  \"/>\n",
       "<polygon clip-path=\"url(#clip1200)\" points=\"\n",
       "1457.94,362.144 1783.66,362.144 1783.66,180.704 1457.94,180.704 \n",
       "  \" fill=\"#ffffff\" fill-rule=\"evenodd\" fill-opacity=\"1\"/>\n",
       "<polyline clip-path=\"url(#clip1200)\" style=\"stroke:#000000; stroke-width:4; stroke-opacity:1; fill:none\" points=\"\n",
       "  1457.94,362.144 1783.66,362.144 1783.66,180.704 1457.94,180.704 1457.94,362.144 \n",
       "  \"/>\n",
       "<polyline clip-path=\"url(#clip1200)\" style=\"stroke:#ff0000; stroke-width:8; stroke-opacity:1; fill:none\" points=\"\n",
       "  1477.14,241.184 1592.34,241.184 \n",
       "  \"/>\n",
       "<g clip-path=\"url(#clip1200)\">\n",
       "<text style=\"fill:#000000; fill-opacity:1; font-family:Arial,Helvetica Neue,Helvetica,sans-serif; font-size:48px; text-anchor:start;\" transform=\"rotate(0, 1611.54, 258.684)\" x=\"1611.54\" y=\"258.684\">N(0,1)</text>\n",
       "</g>\n",
       "<polyline clip-path=\"url(#clip1200)\" style=\"stroke:#0000ff; stroke-width:8; stroke-opacity:1; fill:none\" stroke-dasharray=\"32, 20\" points=\"\n",
       "  1477.14,301.664 1592.34,301.664 \n",
       "  \"/>\n",
       "<g clip-path=\"url(#clip1200)\">\n",
       "<text style=\"fill:#000000; fill-opacity:1; font-family:Arial,Helvetica Neue,Helvetica,sans-serif; font-size:48px; text-anchor:start;\" transform=\"rotate(0, 1611.54, 319.164)\" x=\"1611.54\" y=\"319.164\">t(50)</text>\n",
       "</g>\n",
       "</svg>\n"
      ]
     },
     "execution_count": 5,
     "metadata": {},
     "output_type": "execute_result"
    }
   ],
   "source": [
    "x  = -3:0.1:3\n",
    "\n",
    "p1 = plot(x,pdf.(Normal(0,1),x),color=:red,linewidth=2,label=\"N(0,1)\",ylims=(0,0.4))\n",
    "plot!(x,pdf.(TDist(50),x),color=:blue,line=(:dash,2),label=\"t(50)\")\n",
    "title!(\"pdf of N(0,1) and t-50 distribution\")\n",
    "xlabel!(\"x\")\n",
    "ylabel!(\"\")"
   ]
  },
  {
   "cell_type": "markdown",
   "metadata": {},
   "source": [
    "## Cumulative Distribution Function (cdf)\n",
    "\n",
    "and probabilities for different outcomes.\n",
    "\n",
    "Notice that Distributions package wants Normal($\\mu,\\sigma$), not Normal($\\mu,\\sigma^2$)."
   ]
  },
  {
   "cell_type": "code",
   "execution_count": 6,
   "metadata": {},
   "outputs": [
    {
     "name": "stdout",
     "output_type": "stream",
     "text": [
      "\u001b[34m\u001b[1mProbability of:\u001b[22m\u001b[39m\n",
      "\n",
      "x<=-1.645 when x is N(0,1)      0.050\n",
      "x<=0 when x is N(0,1)           0.500\n",
      "2<x<=3 when x is N(0,2)         0.062\n",
      "2<x<=3 when x is N(1,2)         0.161\n",
      "\n",
      "x>4.61 when x is Chisq(2)       0.900\n",
      "x>9.24 when x is Chisq(5)       0.900\n"
     ]
    }
   ],
   "source": [
    "printblue(\"Probability of:\\n\")\n",
    "printlnPs(\"x<=-1.645 when x is N(0,1) \",cdf(Normal(0,1),-1.645))\n",
    "printlnPs(\"x<=0 when x is N(0,1)      \",cdf(Normal(0,1),0))\n",
    "printlnPs(\"2<x<=3 when x is N(0,2)    \",cdf(Normal(0,sqrt(2)),3)-cdf(Normal(0,sqrt(2)),2))\n",
    "printlnPs(\"2<x<=3 when x is N(1,2)    \",cdf(Normal(1,sqrt(2)),3)-cdf(Normal(1,sqrt(2)),2))\n",
    "\n",
    "printlnPs(\"\\nx>4.61 when x is Chisq(2)  \",cdf(Chisq(2),4.61))\n",
    "printlnPs(\"x>9.24 when x is Chisq(5)  \",cdf(Chisq(5),9.24))"
   ]
  },
  {
   "cell_type": "markdown",
   "metadata": {},
   "source": [
    "## Quantiles\n",
    "\n",
    "...inverting the cdf"
   ]
  },
  {
   "cell_type": "code",
   "execution_count": 7,
   "metadata": {},
   "outputs": [
    {
     "name": "stdout",
     "output_type": "stream",
     "text": [
      "\n",
      "\u001b[34m\u001b[1m10th percentiles:\u001b[22m\u001b[39m\n",
      "of a N(0,1)          -1.282\n",
      "of a Chisquare(5)     9.236\n"
     ]
    }
   ],
   "source": [
    "N05     = quantile(Normal(0,1),0.1)            #from the Distributions package\n",
    "Chisq05 = quantile(Chisq(5),0.9)\n",
    "\n",
    "printblue(\"\\n10th percentiles:\")\n",
    "printlnPs(\"of a N(0,1)      \",N05)\n",
    "printlnPs(\"of a Chisquare(5)\",Chisq05)"
   ]
  },
  {
   "cell_type": "markdown",
   "metadata": {},
   "source": [
    "## Confidence Bands and t-tests"
   ]
  },
  {
   "cell_type": "code",
   "execution_count": 8,
   "metadata": {},
   "outputs": [
    {
     "name": "stdout",
     "output_type": "stream",
     "text": [
      "90% confidence band for N(β,σ^2) with β=0.5 and σ=0.15:  [0.254 0.746]\n"
     ]
    }
   ],
   "source": [
    "β = 0.5                                         #an estimate (a random variable)\n",
    "σ = 0.15                                        #std of the estimate   \n",
    "confB = [(β-1.64*σ) (β+1.64*σ)]                 #confidence band of the estimate\n",
    "\n",
    "println(\"90% confidence band for N(β,σ^2) with β=$β and σ=$σ:  \",confB)"
   ]
  },
  {
   "cell_type": "code",
   "execution_count": 9,
   "metadata": {},
   "outputs": [
    {
     "name": "stdout",
     "output_type": "stream",
     "text": [
      "t-stats: are they beyond [-1.64,1.64]?\n",
      "     0.667    -1.640    -3.333\n",
      "\n"
     ]
    }
   ],
   "source": [
    "tstat1 = (β - 0.4)/σ      #testing H₀: coefficient is 0.4\n",
    "tstat2 = (β - 0.746)/σ    #testing H₀: coefficient is 0.746\n",
    "tstat3 = (β - 1)/σ        #testing H₀: coefficient is 1.0\n",
    "\n",
    "println(\"t-stats: are they beyond [-1.64,1.64]?\")\n",
    "printmat([tstat1 tstat2 tstat3])"
   ]
  },
  {
   "cell_type": "markdown",
   "metadata": {},
   "source": [
    "## Load Data from a csv File"
   ]
  },
  {
   "cell_type": "code",
   "execution_count": 10,
   "metadata": {},
   "outputs": [
    {
     "name": "stdout",
     "output_type": "stream",
     "text": [
      "Sample period: 197901-201104\n"
     ]
    }
   ],
   "source": [
    "x = readdlm(\"Data/FFmFactorsPs.csv\",',',skipstart=1)\n",
    "\n",
    "                #yearmonth, market, small minus big, high minus low\n",
    "(ym,Rme,RSMB,RHML) = [x[:,i] for i=1:4] \n",
    "ym = round.(Int,ym)      \n",
    "\n",
    "println(\"Sample period: \",ym[1],\"-\",ym[end])"
   ]
  },
  {
   "cell_type": "markdown",
   "metadata": {},
   "source": [
    "## Means and Standard Deviations"
   ]
  },
  {
   "cell_type": "code",
   "execution_count": 11,
   "metadata": {},
   "outputs": [
    {
     "name": "stdout",
     "output_type": "stream",
     "text": [
      "               Rme       RHML\n",
      "   means:      0.602     0.330\n",
      "   std:        4.604     3.127\n"
     ]
    }
   ],
   "source": [
    "xbar = mean([Rme RHML],dims=1)    #,dims=1 to calculate average along a column\n",
    "s    = std([Rme RHML],dims=1)     #do \\sigma[Tab] to get σ\n",
    "T    = length(Rme)\n",
    "\n",
    "\n",
    "println(\"               Rme       RHML\")\n",
    "printlnPs(\"means: \",xbar)  #for more stat functions, see the package StatsBase.jl\n",
    "printlnPs(\"std:   \",s)"
   ]
  },
  {
   "cell_type": "code",
   "execution_count": 12,
   "metadata": {},
   "outputs": [
    {
     "name": "stdout",
     "output_type": "stream",
     "text": [
      "std of sample averages (assuming iid data): \n",
      "     0.234     0.159\n",
      "\n"
     ]
    }
   ],
   "source": [
    "println(\"std of sample averages (assuming iid data): \")\n",
    "printmat(s/sqrt(T))"
   ]
  },
  {
   "cell_type": "markdown",
   "metadata": {},
   "source": [
    "## Skewness, Kurtosis and Bera-Jarque"
   ]
  },
  {
   "cell_type": "code",
   "execution_count": 13,
   "metadata": {},
   "outputs": [
    {
     "name": "stdout",
     "output_type": "stream",
     "text": [
      "Skewness, kurtosis and Bera-Jarque\n",
      "    -0.806\n",
      "     5.347\n",
      "   131.128\n",
      "\n"
     ]
    }
   ],
   "source": [
    "xStd     = (Rme .- mean(Rme))./std(Rme)\n",
    "skewness = mean(xStd.^3)\n",
    "kurtosis = mean(xStd.^4)\n",
    "\n",
    "BJ     = (T/6)*skewness.^2 + (T/24)*(kurtosis.-3).^2  #Chisq(2)\n",
    "pvalBJ = 1 .- cdf.(Chisq(2),BJ)\n",
    "\n",
    "println(\"Skewness, kurtosis and Bera-Jarque\")\n",
    "printmat([skewness,kurtosis,BJ])"
   ]
  },
  {
   "cell_type": "markdown",
   "metadata": {},
   "source": [
    "## Covariances and Correlations"
   ]
  },
  {
   "cell_type": "code",
   "execution_count": 14,
   "metadata": {},
   "outputs": [
    {
     "name": "stdout",
     "output_type": "stream",
     "text": [
      "\n",
      "cov([Rme RHML]): \n",
      "    21.197    -4.875\n",
      "    -4.875     9.775\n",
      "\n",
      "\n",
      "cor([Rme RHML]): \n",
      "     1.000    -0.339\n",
      "    -0.339     1.000\n",
      "\n",
      "correlation and its t-stat:    -0.339  -139.650\n"
     ]
    }
   ],
   "source": [
    "println(\"\\ncov([Rme RHML]): \")          \n",
    "printmat(cov([Rme RHML]))\n",
    "\n",
    "println(\"\\ncor([Rme RHML]): \")          \n",
    "printmat(cor([Rme RHML]))\n",
    "\n",
    "ρ = cor(Rme,RHML)\n",
    "tstat = T*ρ/sqrt(1-ρ^2)\n",
    "\n",
    "printlnPs(\"correlation and its t-stat:\",ρ,tstat)"
   ]
  },
  {
   "cell_type": "code",
   "execution_count": null,
   "metadata": {},
   "outputs": [],
   "source": []
  }
 ],
 "metadata": {
  "@webio": {
   "lastCommId": null,
   "lastKernelId": null
  },
  "anaconda-cloud": {},
  "kernelspec": {
   "display_name": "Julia 1.1.0",
   "language": "julia",
   "name": "julia-1.1"
  },
  "language_info": {
   "file_extension": ".jl",
   "mimetype": "application/julia",
   "name": "julia",
   "version": "1.1.0"
  }
 },
 "nbformat": 4,
 "nbformat_minor": 1
}
