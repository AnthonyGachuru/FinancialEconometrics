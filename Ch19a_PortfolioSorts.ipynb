{
 "cells": [
  {
   "cell_type": "markdown",
   "metadata": {},
   "source": [
    "# Load Packages"
   ]
  },
  {
   "cell_type": "code",
   "execution_count": 1,
   "metadata": {},
   "outputs": [
    {
     "data": {
      "text/plain": [
       "printlnPs (generic function with 2 methods)"
      ]
     },
     "execution_count": 1,
     "metadata": {},
     "output_type": "execute_result"
    }
   ],
   "source": [
    "using Dates, DelimitedFiles, Statistics\n",
    "\n",
    "include(\"jlFiles/printmat.jl\")"
   ]
  },
  {
   "cell_type": "markdown",
   "metadata": {},
   "source": [
    "## Load Data\n",
    "\n",
    "The data set contains daily data for \"dates\", the equity market return, riskfree rate and the the returns of the 25 Fama-French portfolios. All returns are in percent."
   ]
  },
  {
   "cell_type": "code",
   "execution_count": 2,
   "metadata": {},
   "outputs": [
    {
     "name": "stdout",
     "output_type": "stream",
     "text": [
      "\n",
      "The first few rows of dN, Rm and Rf\n",
      "1979-01-02     0.615     0.035\n",
      "1979-01-03     1.155     0.035\n",
      "1979-01-04     0.975     0.035\n",
      "1979-01-05     0.685     0.035\n",
      "\n",
      "size of dN, Rm, Rf, R\n",
      "(9837,)\n",
      "(9837,)\n",
      "(9837,)\n",
      "(9837, 25)\n",
      "\n"
     ]
    }
   ],
   "source": [
    "x   = readdlm(\"Data/MomentumSR.csv\",',')\n",
    "dN  = Date.(x[:,1],\"yyyy-mm-dd\")                  #Julia dates \n",
    "y   = convert(Array{Float64},x[:,2:end])   \n",
    "\n",
    "(Rm,Rf,R) = (y[:,1],y[:,2],y[:,3:end])\n",
    "\n",
    "println(\"\\nThe first few rows of dN, Rm and Rf\")\n",
    "printmat([dN[1:4] Rm[1:4] Rf[1:4]])\n",
    "\n",
    "println(\"size of dN, Rm, Rf, R\")\n",
    "println(size(dN),\"\\n\",size(Rm),\"\\n\",size(Rf),\"\\n\",size(R))\n",
    "\n",
    "(T,n) = size(R)                      #number of periods and assets\n",
    "\n",
    "println()"
   ]
  },
  {
   "cell_type": "markdown",
   "metadata": {},
   "source": [
    "## Implementing the Portfolio Sorts\n",
    "\n",
    "1.  Sort  $R_{t-1}$  across the 25 assets.\n",
    "2. (In the evening of) period  $t-1$, construct the `Hi` portfolio by buying 1/5 of each of the 5 best assets based on the sort in point 1. Similarly, construct the `Lo` portfolio by buying 1/5 of each of the 5 worst assets. Collect these portfolio weights in the vectors $wHi_{t}$ and $wLo_{t}$.\n",
    "3. In period  $t$ , the return on a portfolio is $R_{p,t}=w_{t}'R_{t}$.\n",
    "4. Repeat for all periods"
   ]
  },
  {
   "cell_type": "code",
   "execution_count": 3,
   "metadata": {},
   "outputs": [
    {
     "name": "stdout",
     "output_type": "stream",
     "text": [
      "\n"
     ]
    }
   ],
   "source": [
    "(RHi,RLo) = (fill(NaN,T),fill(NaN,T))              \n",
    "for t = 2:T         #loop over periods, save portfolio returns\n",
    "    local sort1, wHi, wLo\n",
    "    sort1                  = sortperm(R[t-1,:])  #sort1[1] is index of worst asset         \n",
    "    (wHi,wLo)              = (zeros(n),zeros(n))\n",
    "    wHi[sort1[end-4:end]] .= 1/5\n",
    "    wLo[sort1[1:5]]       .= 1/5\n",
    "    RHi[t]                 = wHi'R[t,:]\n",
    "    RLo[t]                 = wLo'R[t,:]\n",
    "end\n",
    "ReHi = RHi[2:end] - Rf[2:end]       #cut out t=1, excess returns\n",
    "ReLo = RLo[2:end] - Rf[2:end]\n",
    "println()"
   ]
  },
  {
   "cell_type": "markdown",
   "metadata": {},
   "source": [
    "Calculate the mean (excess) return, its standard deviation and the Sharpe ratio. Annualize by assuming 250 trading days per year. Compare with the excess return on passively holding an equity market index."
   ]
  },
  {
   "cell_type": "code",
   "execution_count": 4,
   "metadata": {},
   "outputs": [
    {
     "name": "stdout",
     "output_type": "stream",
     "text": [
      "mean, std and SR of Hi and Lo     17.772     1.638    17.540    18.632     1.013     0.088\n",
      "mean, std and SR of market        8.307    16.770     0.495\n"
     ]
    }
   ],
   "source": [
    "μ = mean([ReHi ReLo],dims=1)\n",
    "σ = std([ReHi ReLo],dims=1)\n",
    "printlnPs(\"mean, std and SR of Hi and Lo \",μ*250,σ*sqrt(250),μ./σ*sqrt(250))\n",
    "\n",
    "Rme = Rm - Rf\n",
    "μm  = mean(Rme[2:end])\n",
    "σm  = std(Rme[2:end])\n",
    "printlnPs(\"mean, std and SR of market   \",μm*250,σm*sqrt(250),μm/σm*sqrt(250))"
   ]
  },
  {
   "cell_type": "code",
   "execution_count": null,
   "metadata": {},
   "outputs": [],
   "source": []
  }
 ],
 "metadata": {
  "anaconda-cloud": {},
  "kernelspec": {
   "display_name": "Julia 1.1.0",
   "language": "julia",
   "name": "julia-1.1"
  },
  "language_info": {
   "file_extension": ".jl",
   "mimetype": "application/julia",
   "name": "julia",
   "version": "1.1.0"
  }
 },
 "nbformat": 4,
 "nbformat_minor": 1
}
