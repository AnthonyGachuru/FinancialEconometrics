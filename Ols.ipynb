{
 "cells": [
  {
   "cell_type": "markdown",
   "metadata": {},
   "source": [
    "# Basic OLS\n"
   ]
  },
  {
   "cell_type": "markdown",
   "metadata": {},
   "source": [
    "## Loading Packages"
   ]
  },
  {
   "cell_type": "code",
   "execution_count": 1,
   "metadata": {},
   "outputs": [
    {
     "data": {
      "text/plain": [
       "NWFn"
      ]
     },
     "execution_count": 1,
     "metadata": {},
     "output_type": "execute_result"
    }
   ],
   "source": [
    "using Dates, DelimitedFiles, Statistics, LinearAlgebra, Distributions\n",
    "\n",
    "include(\"jlFiles/printmat.jl\")\n",
    "include(\"jlFiles/NWFn.jl\")"
   ]
  },
  {
   "cell_type": "markdown",
   "metadata": {},
   "source": [
    "## Loading Data"
   ]
  },
  {
   "cell_type": "code",
   "execution_count": 2,
   "metadata": {},
   "outputs": [
    {
     "name": "stdout",
     "output_type": "stream",
     "text": [
      "(388,)\n"
     ]
    }
   ],
   "source": [
    "x = readdlm(\"Data/FFmFactorsPs.csv\",',',skipstart=1)\n",
    "\n",
    "                #yearmonth, market, small minus big, high minus low\n",
    "(ym,Rme,RSMB,RHML) = (x[:,1],x[:,2]/100,x[:,3]/100,x[:,4]/100) \n",
    "x = nothing                   \n",
    "\n",
    "println(size(Rme))"
   ]
  },
  {
   "cell_type": "markdown",
   "metadata": {},
   "source": [
    "## Point Estimates"
   ]
  },
  {
   "cell_type": "markdown",
   "metadata": {},
   "source": [
    "Consider the linear regression\n",
    "\n",
    "$\n",
    "y_{t}=\\beta^{\\prime}x_{t}+u_{t},\n",
    "$\n",
    "\n",
    "where $y_{t}$ is a scalar and $x_{t}$ is $k\\times1$. The OLS estimate is\n",
    "\n",
    "$\n",
    "\\hat{\\beta} = S_{xx}^{-1}S_{xy}, \\: \\text{ where } \\: \n",
    "S_{xx}      = \\frac{1}{T}\\sum\\nolimits_{t=1}^{T}x_{t}x_{t}^{\\prime}\n",
    "\\: \\text{ and } \\:\n",
    "S_{xy}      = \\frac{1}{T}\\sum\\nolimits_{t=1}^{T}x_{t}y_{t}.\n",
    "$\n",
    "\n",
    "(The $1/T$ terms clearly cancel.)\n",
    "\n",
    "Instead of these sums (loops over $t$), matrix multiplication can be used to\n",
    "speed up the calculations. Create matrices $X_{T\\times k}$ and $Y_{T\\times1}$\n",
    "by letting $x_{t}^{\\prime}$ and $y_{t}$ be the $t^{th}$ rows\n",
    "\n",
    "$\n",
    "X_{T\\times k}=\\left[\n",
    "\\begin{array}[c]{l}\n",
    "x_{1}^{\\prime}\\\\\n",
    "\\vdots\\\\\n",
    "x_{T}^{\\prime}\n",
    "\\end{array}\n",
    "\\right] \\ \\text{ and } \\ Y_{T\\times1}=\\left[\n",
    "\\begin{array}[c]{l}\n",
    "y_{1}\\\\\n",
    "\\vdots\\\\\n",
    "y_{T}\n",
    "\\end{array}\n",
    "\\right].\n",
    "$\n",
    "\n",
    "We can then calculate the same matrices as\n",
    "\n",
    "$\n",
    "S_{xx}       =X^{\\prime}X/T \\ \\text{ and } \\: S_{xy}=X^{\\prime}Y/T \\: \\text{, so } \\: \n",
    "\\hat{\\beta}  =(X^{\\prime}X)^{-1}X^{\\prime}Y.\n",
    "$\n",
    "\n",
    "However, instead of inverting $S_{xx}$, we typically get much better numerical\n",
    "precision by solving the system of $T$ equations\n",
    "\n",
    "$\n",
    "X_{T\\times k}b_{k\\times1}=Y_{T\\times1}\n",
    "$\n",
    "\n",
    "for the vector $b$ that minimizes the sum of squared errors. This\n",
    "is easily done by using the command\n",
    "```\n",
    "b = X\\Y\n",
    "```"
   ]
  },
  {
   "cell_type": "code",
   "execution_count": 3,
   "metadata": {},
   "outputs": [
    {
     "name": "stdout",
     "output_type": "stream",
     "text": [
      "Three different ways to calculate OLS estimates\n",
      "\n",
      "      b1       b2        b3\n",
      "     0.007     0.007     0.007\n",
      "     0.217     0.217     0.217\n",
      "    -0.429    -0.429    -0.429\n",
      "\n"
     ]
    }
   ],
   "source": [
    "println(\"Three different ways to calculate OLS estimates\")\n",
    "\n",
    "Y = Rme\n",
    "T = size(Y,1)\n",
    "X = [ones(T) RSMB RHML]\n",
    "\n",
    "K    = size(X,2)\n",
    "S_xx = zeros(K,K)\n",
    "S_xy = zeros(K,1)\n",
    "for t = 1:T\n",
    "    local x_t, y_t\n",
    "    global S_xx, S_xy\n",
    "    x_t = X[t,:]               #a vector\n",
    "    y_t = Y[t:t,:]             \n",
    "    S_xx = S_xx + x_t*x_t'/T   #KxK\n",
    "    S_xy = S_xy + x_t*y_t/T    #Kx1\n",
    "end\n",
    "b1 = inv(S_xx)*S_xy          #OLS coeffs, version 1\n",
    "\n",
    "b2 = inv(X'X)*X'Y            #OLS coeffs, version 2\n",
    "\n",
    "b3 = X\\Y                     #OLS coeffs, version 3\n",
    "\n",
    "println(\"\\n      b1       b2        b3\")\n",
    "printmat([b1 b2 b3])"
   ]
  },
  {
   "cell_type": "markdown",
   "metadata": {},
   "source": [
    "## Distribution of OLS Estimates"
   ]
  },
  {
   "cell_type": "markdown",
   "metadata": {},
   "source": [
    "The distribution of the estimates is (typically)\n",
    "\n",
    "$\n",
    "(\\hat{\\beta}-\\beta_{0})\\overset{d}{\\rightarrow}N(0,V)\n",
    "\\: \\text{ where } \\: V=S_{xx}^{-1} S S_{xx}^{-1}/T\n",
    "$\n",
    "\n",
    "where $S$ is the covariance matrix of $\\sqrt{T}\\bar{g}$, where $\\bar{g}$\n",
    "is the sample average of\n",
    "\n",
    "$\n",
    "g_{t}=x_t u_t,\n",
    "$\n",
    "\n",
    "and $S_{xx}$ is defined as \n",
    "\n",
    "$\n",
    "S_{xx}=-\\sum_{t=1}^{T}x_{t}x_{t}^{\\prime}/T.\n",
    "$\n",
    "\n",
    "When $x_t$ and $u_t$ are independent (Gauss-Markov assumptions...), then $S$ can be simplified as $S=S_{xx}\\sigma^2$, where $\\sigma^2$ is the variance of $u_t$. Clearly, this means that $V$ can be written $V=S_{xx}^{-1}\\sigma^2/T$."
   ]
  },
  {
   "cell_type": "code",
   "execution_count": 4,
   "metadata": {},
   "outputs": [
    {
     "name": "stdout",
     "output_type": "stream",
     "text": [
      "\n",
      "     b       std_iid  std_NW\n",
      "     0.007     0.002     0.002\n",
      "     0.217     0.073     0.124\n",
      "    -0.429     0.074     0.108\n",
      "\n"
     ]
    }
   ],
   "source": [
    "b   = X\\Y\n",
    "u   = Y - X*b              #residuals\n",
    "g   = X.*u                 #TxK\n",
    "Sxx = X'X/T\n",
    "\n",
    "V_iid = inv(Sxx)*var(u)/T\n",
    "\n",
    "S     = NWFn(g,1)               #Newey-West covariance matrix\n",
    "V_NW  = inv(Sxx)'S*inv(Sxx)/T   #Cov(b)\n",
    "\n",
    "println(\"\\n     b       std_iid  std_NW\")\n",
    "printmat([b3 sqrt.(diag(V_iid))   sqrt.(diag(V_NW))])"
   ]
  },
  {
   "cell_type": "markdown",
   "metadata": {},
   "source": [
    "## A Function for OLS"
   ]
  },
  {
   "cell_type": "code",
   "execution_count": 5,
   "metadata": {},
   "outputs": [
    {
     "data": {
      "text/plain": [
       "OlsFn"
      ]
     },
     "execution_count": 5,
     "metadata": {},
     "output_type": "execute_result"
    }
   ],
   "source": [
    "\"\"\"\n",
    "    OlsFn(y,x,m=1)\n",
    "\n",
    "LS of y on x; for one dependent variable\n",
    "\n",
    "# Usage\n",
    "(b,res,yhat,V,R2a) = OlsFn(y,x,m)\n",
    "\n",
    "# Input\n",
    "- `y::Array`:     Tx1, the dependent variable\n",
    "- `x::Array`:     Txk matrix of regressors (including deterministic ones)\n",
    "- `m::Int`:       scalar, bandwidth in Newey-West  \n",
    "\n",
    "# Output\n",
    "- `b::Array`:     kx1, regression coefficients\n",
    "- `u::Array`:     Tx1, residuals y - yhat\n",
    "- `yhat::Array`:  Tx1, fitted values x*b\n",
    "- `V::Array`:     kxk matrix, covariance matrix of b\n",
    "- `R2a::Number`:  scalar, R2 value\n",
    "\n",
    "\"\"\"\n",
    "function OlsFn(y,x,m=0)\n",
    "    T    = size(y,1)\n",
    "    b    = x\\y\n",
    "    yhat = x*b\n",
    "    u    = y - yhat\n",
    "    g    = x.*u   \n",
    "    S0   = NWFn(g,m)            #Newey-West covariance matrix\n",
    "    Sxx  = x'x/T\n",
    "    V    = inv(Sxx)'S0*inv(Sxx)/T  \n",
    "    R2a  = 1 - var(u)/var(y)\n",
    "    return b,u,yhat,V,R2a\n",
    "end"
   ]
  },
  {
   "cell_type": "code",
   "execution_count": 6,
   "metadata": {},
   "outputs": [
    {
     "name": "stdout",
     "output_type": "stream",
     "text": [
      "\n",
      " with NW standard errors\n",
      "     0.007     0.002\n",
      "     0.217     0.124\n",
      "    -0.429     0.108\n",
      "\n"
     ]
    }
   ],
   "source": [
    "(b4,_,_,V,R2a) = OlsFn(Y,X,1)\n",
    "println(\"\\n with NW standard errors\")\n",
    "printmat([b4 sqrt.(diag(V))])"
   ]
  },
  {
   "cell_type": "markdown",
   "metadata": {},
   "source": [
    "## Testing a Hypothesis"
   ]
  },
  {
   "cell_type": "markdown",
   "metadata": {},
   "source": [
    "Since the estimator $\\hat{\\beta}_{_{k\\times1}}$ satisfies\n",
    "\n",
    "$\n",
    "\\hat{\\beta}-\\beta_{0} \\sim N(0,V_{k\\times k})  ,\n",
    "$\n",
    "\n",
    "we can easily apply various tests. To test a joint linear hypothesis of the\n",
    "form\n",
    "\n",
    "$\n",
    "\\gamma_{q\\times1}=R\\beta-a,\n",
    "$\n",
    "\n",
    "use the test\n",
    "\n",
    "$\n",
    "(R\\beta-a)^{\\prime}\\Lambda ^{-1}(R\\beta\n",
    "-a)\\overset{d}{\\rightarrow}\\chi_{q}^{2} \\: \\text{, where } \\: \\Lambda=RVR^{\\prime}.\n",
    "$"
   ]
  },
  {
   "cell_type": "code",
   "execution_count": 7,
   "metadata": {},
   "outputs": [
    {
     "name": "stdout",
     "output_type": "stream",
     "text": [
      "\n",
      "test-statictic and 10% critical value of chi-square(2)\n",
      "    26.059     4.605\n",
      "\n"
     ]
    }
   ],
   "source": [
    "R = [0 1 0;               #testing if b(2)=0 and b(3)=0\n",
    "     0 0 1]\n",
    "a = [0;0]\n",
    "Γ = R*V*R'\n",
    "test_stat = (R*b-a)'inv(Γ)*(R*b-a)\n",
    "println(\"\\ntest-statictic and 10% critical value of chi-square(2)\")\n",
    "printmat([test_stat quantile(Chisq(2),0.9)])"
   ]
  },
  {
   "cell_type": "code",
   "execution_count": null,
   "metadata": {},
   "outputs": [],
   "source": []
  }
 ],
 "metadata": {
  "anaconda-cloud": {},
  "kernelspec": {
   "display_name": "Julia 1.0.3",
   "language": "julia",
   "name": "julia-1.0"
  },
  "language_info": {
   "file_extension": ".jl",
   "mimetype": "application/julia",
   "name": "julia",
   "version": "1.0.3"
  }
 },
 "nbformat": 4,
 "nbformat_minor": 1
}
