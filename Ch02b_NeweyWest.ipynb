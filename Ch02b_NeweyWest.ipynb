{
 "cells": [
  {
   "cell_type": "markdown",
   "metadata": {},
   "source": [
    "# The Newey-West Covariance Matrix\n",
    "\n",
    "The Newey-West (NW) covariance matrix of estimated regression coefficients is designed to handle both heteroskedasticity (similar to White's covariance matrix), but also autocorrelation. \n",
    "\n",
    "This notebook illustrates how it works."
   ]
  },
  {
   "cell_type": "markdown",
   "metadata": {},
   "source": [
    "## Load Packages"
   ]
  },
  {
   "cell_type": "code",
   "execution_count": 1,
   "metadata": {},
   "outputs": [
    {
     "data": {
      "text/plain": [
       "printyellow (generic function with 1 method)"
      ]
     },
     "execution_count": 1,
     "metadata": {},
     "output_type": "execute_result"
    }
   ],
   "source": [
    "using Dates, DelimitedFiles, Statistics, LinearAlgebra\n",
    "\n",
    "include(\"jlFiles/printmat.jl\")"
   ]
  },
  {
   "cell_type": "markdown",
   "metadata": {},
   "source": [
    "## Load Data"
   ]
  },
  {
   "cell_type": "code",
   "execution_count": 2,
   "metadata": {},
   "outputs": [
    {
     "data": {
      "text/plain": [
       "(570, 2)"
      ]
     },
     "execution_count": 2,
     "metadata": {},
     "output_type": "execute_result"
    }
   ],
   "source": [
    "x   = readdlm(\"Data/USCMRatesPs.csv\",',',skipstart=1)\n",
    "y   = convert(Array{Float64},x[:,3:end])   #interest rates, 3m to 10y, skip FFR\n",
    "y   = y[:,[1,7]]                           #3m and 10y interest rates  \n",
    "\n",
    "(T,n) = size(y)"
   ]
  },
  {
   "cell_type": "markdown",
   "metadata": {
    "collapsed": true
   },
   "source": [
    "# Newey-West\n",
    "\n",
    "Let $g_t$ be a vector of data series.\n",
    "\n",
    "To calculate the Newey-West covariance matrix, we first need the\n",
    "autocovariance matrices $\\Omega_{s}=\\text{Cov}(g_{t},g_{t-s})  $, \n",
    "which is estimated as \n",
    "$ \n",
    "\\sum_{t=s+1}^{T} (g_{t}-\\bar{g})(g_{t-s}-\\bar{g})^{\\prime}/T.\n",
    "$\n",
    "\n",
    "Then we form a linear\n",
    "combination (with tent-shaped weights) of those autocovariance matrices (from\n",
    "lag $-m$ to $m$), or equivalently\n",
    "\n",
    "$\n",
    "\\text{Cov}(\\sqrt{T}\\bar{g})  = \n",
    "\\Omega_{0} + \\sum_{s=1}^{m}( 1-\\frac{s}{m+1})  \n",
    "(\\Omega_{s}+\\Omega_{s}^{\\prime}).\n",
    "$\n",
    "\n",
    "Notice that this is the covariance matrix of $\\frac{1}{\\sqrt{T}}\\sum_{t=1}^T g_t.$ \n",
    "\n",
    "Instead,if you want covariance matrix of $\\frac{1}{T}\\sum_{t=1}^T g_t$, then *divide* the result by $T$. \n",
    "However, if you want the covariance matrix of $\\sum_{t=1}^T g_t$, then *multiply* the result by $T$.\n",
    "\n",
    "The cells below illustrate this by estimating the std of a sample average in different ways.\n",
    "\n",
    "Instead, if we instead need $\\text{Cov}(\\sqrt{T}\\bar{g})$"
   ]
  },
  {
   "cell_type": "code",
   "execution_count": 3,
   "metadata": {
    "scrolled": true
   },
   "outputs": [
    {
     "data": {
      "text/plain": [
       "NWFn"
      ]
     },
     "execution_count": 3,
     "metadata": {},
     "output_type": "execute_result"
    }
   ],
   "source": [
    "\"\"\"\n",
    "    NWFn(g0,m=0)\n",
    "\n",
    "Calculates covariance matrix of sqrt(T)*sample average.\n",
    "\n",
    "# Usage\n",
    "S = NWFn(g0,m)\n",
    "\n",
    "# Input\n",
    "- `g0::Array`: Txq array of q moment conditions\n",
    "- `m:int`: scalar, number of lags to use\n",
    "\n",
    "# Output\n",
    "- `S::Array`: qxq covariance matrix of sqrt(T)*sample average\n",
    "\n",
    "\"\"\"\n",
    "function NWFn(g0,m=0)\n",
    "\n",
    "  T = size(g0,1)                    #g0 is Txq\n",
    "  m = min(m,T-1)                    #number of lags\n",
    "\n",
    "  g = g0 .- mean(g0,dims=1)         #normalizing to Eg=0\n",
    "  \n",
    "  S = g'g/T                         #(qxT)*(Txq)\n",
    "  for s = 1:m\n",
    "    Gamma_s = g[s+1:T,:]'g[1:T-s,:]/T   #same as Sum[g(t)*g(t-s)',t=s+1,T]\n",
    "    S       = S  +  ( 1 - s/(m+1) ) * (Gamma_s + Gamma_s')\n",
    "  end\n",
    "\n",
    "  return S\n",
    "\n",
    "end"
   ]
  },
  {
   "cell_type": "markdown",
   "metadata": {},
   "source": [
    "To illustrate the importance of accounting for the autocorrelations, the next cell simulates two time series with very different persistence and then calculates the traditional (assuming iid) and NW standard deviations for the sample average."
   ]
  },
  {
   "cell_type": "code",
   "execution_count": 4,
   "metadata": {},
   "outputs": [
    {
     "name": "stdout",
     "output_type": "stream",
     "text": [
      "Covariance matrix of average y according to an iid assumption:\n",
      "     0.020     0.016\n",
      "     0.016     0.015\n",
      "\n",
      "...and according NW\n",
      "     0.118     0.097\n",
      "     0.097     0.091\n",
      "\n"
     ]
    }
   ],
   "source": [
    "Cov_iid = cov(y)/T\n",
    "Cov_NW  = NWFn(y,5)/T\n",
    "\n",
    "println(\"Covariance matrix of average y according to an iid assumption:\")\n",
    "printmat(Cov_iid)\n",
    "\n",
    "println(\"...and according NW\")\n",
    "printmat(Cov_NW)"
   ]
  },
  {
   "cell_type": "code",
   "execution_count": null,
   "metadata": {},
   "outputs": [],
   "source": []
  }
 ],
 "metadata": {
  "@webio": {
   "lastCommId": null,
   "lastKernelId": null
  },
  "anaconda-cloud": {},
  "kernelspec": {
   "display_name": "Julia 1.1.1",
   "language": "julia",
   "name": "julia-1.1"
  },
  "language_info": {
   "file_extension": ".jl",
   "mimetype": "application/julia",
   "name": "julia",
   "version": "1.1.1"
  }
 },
 "nbformat": 4,
 "nbformat_minor": 1
}
