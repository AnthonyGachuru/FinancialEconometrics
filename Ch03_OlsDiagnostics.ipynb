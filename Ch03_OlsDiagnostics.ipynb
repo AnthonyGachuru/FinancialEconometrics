{
 "cells": [
  {
   "cell_type": "markdown",
   "metadata": {},
   "source": [
    "# OLS Diagnostics\n",
    "\n",
    "\n",
    "This notebook tests (a) the fit of a regression model; (b) properties of the residuals."
   ]
  },
  {
   "cell_type": "markdown",
   "metadata": {},
   "source": [
    "## Loading Packages"
   ]
  },
  {
   "cell_type": "code",
   "execution_count": 1,
   "metadata": {},
   "outputs": [
    {
     "data": {
      "text/plain": [
       "OlsFn"
      ]
     },
     "execution_count": 1,
     "metadata": {},
     "output_type": "execute_result"
    }
   ],
   "source": [
    "using Dates, DelimitedFiles, Statistics, LinearAlgebra, StatsBase, Distributions\n",
    "\n",
    "include(\"jlFiles/printmat.jl\")\n",
    "include(\"jlFiles/printTable.jl\")\n",
    "include(\"jlFiles/NWFn.jl\")\n",
    "include(\"jlFiles/OlsFn.jl\")"
   ]
  },
  {
   "cell_type": "markdown",
   "metadata": {},
   "source": [
    "## Loading Data"
   ]
  },
  {
   "cell_type": "code",
   "execution_count": 2,
   "metadata": {},
   "outputs": [
    {
     "name": "stdout",
     "output_type": "stream",
     "text": [
      "(388,)\n"
     ]
    }
   ],
   "source": [
    "x = readdlm(\"Data/FFmFactorsPs.csv\",',',skipstart=1)\n",
    "\n",
    "                #yearmonth, market, small minus big, high minus low\n",
    "(ym,Rme,RSMB,RHML) = (x[:,1],x[:,2]/100,x[:,3]/100,x[:,4]/100) \n",
    "x = nothing\n",
    "println(size(Rme))\n",
    "\n",
    "Y = Rme\n",
    "T = size(Y,1)\n",
    "X = [ones(T) RSMB RHML];"
   ]
  },
  {
   "cell_type": "code",
   "execution_count": 3,
   "metadata": {},
   "outputs": [
    {
     "name": "stdout",
     "output_type": "stream",
     "text": [
      "\u001b[34m\u001b[1mOLS with NW standard errors\u001b[22m\u001b[39m\n",
      "         coef       std\n",
      "c       0.007     0.002\n",
      "SMB     0.217     0.124\n",
      "HML    -0.429     0.108\n",
      "\n"
     ]
    }
   ],
   "source": [
    "(b,u,_,V,R2a) = OlsFn(Y,X,1)\n",
    "Stdb = sqrt.(diag(V))\n",
    "\n",
    "printblue(\"OLS with NW standard errors\")\n",
    "rowNames = [\"c\",\"SMB\",\"HML\"]\n",
    "printTable([b Stdb],[\"coef\",\"std\"],rowNames)"
   ]
  },
  {
   "cell_type": "markdown",
   "metadata": {},
   "source": [
    "## Regression Diagnostics: Testing All Slope Coefficients\n",
    "\n",
    "The function in the next cell tests all slope coefficients (or equivalently, the $R^2$) of a regression."
   ]
  },
  {
   "cell_type": "code",
   "execution_count": 4,
   "metadata": {},
   "outputs": [
    {
     "data": {
      "text/plain": [
       "OlsR2TestFn"
      ]
     },
     "execution_count": 4,
     "metadata": {},
     "output_type": "execute_result"
    }
   ],
   "source": [
    "\"\"\"\n",
    "    OlsR2TestFn(R2a,T,k)\n",
    "\n",
    "\"\"\"\n",
    "function OlsR2TestFn(R2a,T,k)\n",
    "\n",
    "  RegrStat = T*R2a/(1-R2a)\n",
    "  pval     = 1 - cdf(Chisq(k-1),RegrStat)\n",
    "  Regr     = [RegrStat pval (k-1)]\n",
    "\n",
    "  return Regr\n",
    "\n",
    "end"
   ]
  },
  {
   "cell_type": "code",
   "execution_count": 5,
   "metadata": {},
   "outputs": [
    {
     "name": "stdout",
     "output_type": "stream",
     "text": [
      "\u001b[34m\u001b[1mTest of all slopes = 0:\u001b[22m\u001b[39m\n",
      "      stat     p-val        df\n",
      "    60.165     0.000     2.000\n",
      "\n"
     ]
    }
   ],
   "source": [
    "Regr = OlsR2TestFn(R2a,T,size(X,2))\n",
    "\n",
    "printblue(\"Test of all slopes = 0:\")\n",
    "printTable(Regr,[\"stat\",\"p-val\",\"df\"],[\"\"])"
   ]
  },
  {
   "cell_type": "markdown",
   "metadata": {},
   "source": [
    "## Regression Diagnostics: Autocorrelation of the Residuals\n",
    "\n",
    "The function in the next cell estimates autocorrelations, calculates the DW and Box-Pierce statistics."
   ]
  },
  {
   "cell_type": "code",
   "execution_count": 6,
   "metadata": {},
   "outputs": [
    {
     "data": {
      "text/plain": [
       "OlsAutoCorrFn"
      ]
     },
     "execution_count": 6,
     "metadata": {},
     "output_type": "execute_result"
    }
   ],
   "source": [
    "\"\"\"\n",
    "    OlsAutoCorrFn(u,m=1)\n",
    "\n",
    "Test the autocorrelation of OLS residuals\n",
    "\n",
    "# Input:\n",
    "- `u::Array`:   Tx1, residuals\n",
    "- `m::Int`:     scalar, number of lags in autocorrelation and Box-Pierce test\n",
    "\n",
    "# Output\n",
    "- `AutoCorr::Array`:    mx2, autocorrelation and p-value\n",
    "- `DW::Number`:         scalar, DW statistic\n",
    "- `BoxPierce::Array`:   1x2, Box-Pierce statistic and p-value\n",
    "\n",
    "# Requires\n",
    "- StatsBase, Distributions\n",
    "\n",
    "\"\"\"\n",
    "function OlsAutoCorrFn(u,m=1)\n",
    "\n",
    "  T = size(u,1)\n",
    "\n",
    "  Stdu = std(u)\n",
    "  rho  = autocor(u,1:m)\n",
    "                                     #use map to get around bug in cdf.()\n",
    "  pval      = 2*(1.0 .- cdf.(Normal(0,1),sqrt(T)*abs.(rho)))\n",
    "  AutoCorr  = [rho pval]\n",
    "\n",
    "  BPStat    = T*sum(rho.^2)\n",
    "  pval      = 1 - cdf(Chisq(m),BPStat)\n",
    "  BoxPierce = [BPStat pval]\n",
    "\n",
    "  dwStat    = mean(diff(u).^2)/Stdu^2\n",
    "\n",
    "  return AutoCorr,dwStat,BoxPierce\n",
    "\n",
    "end"
   ]
  },
  {
   "cell_type": "code",
   "execution_count": 7,
   "metadata": {},
   "outputs": [
    {
     "name": "stdout",
     "output_type": "stream",
     "text": [
      "\u001b[34m\u001b[1mTesting autocorrelation of residuals\u001b[22m\u001b[39m\n",
      "\n",
      "Autocorrelations (lag 1 to 3):\n",
      "lag  autocorr    t-stat\n",
      "1     0.074     0.142\n",
      "2    -0.037     0.464\n",
      "3     0.019     0.706\n",
      "\n",
      "       DW:     1.849\n",
      "\n",
      "BoxPierce (3 lags): \n",
      "      stat     p-val\n",
      "     2.831     0.418\n",
      "\n"
     ]
    }
   ],
   "source": [
    "L = 3     #number of autocorrs to test\n",
    "\n",
    "(ρt,DW,BoxPierce) = OlsAutoCorrFn(u,L)\n",
    "\n",
    "printblue(\"Testing autocorrelation of residuals\\n\")\n",
    "\n",
    "println(\"Autocorrelations (lag 1 to $L):\")\n",
    "printTable(ρt,[\"autocorr\",\"t-stat\"],string.(1:L),cell00=\"lag\")\n",
    "\n",
    "printlnPs(\"DW:\",DW)\n",
    "\n",
    "println(\"\\nBoxPierce ($L lags): \")\n",
    "printTable(BoxPierce,[\"stat\",\"p-val\"],[\"\"])"
   ]
  },
  {
   "cell_type": "markdown",
   "metadata": {},
   "source": [
    "## Regression Diagnostics: Heteroskedasticity\n",
    "\n",
    "The function in the next cell performs White's test for heteroskedasticity."
   ]
  },
  {
   "cell_type": "code",
   "execution_count": 8,
   "metadata": {},
   "outputs": [
    {
     "data": {
      "text/plain": [
       "OlsWhitesTestFn"
      ]
     },
     "execution_count": 8,
     "metadata": {},
     "output_type": "execute_result"
    }
   ],
   "source": [
    "\"\"\"\n",
    "    OlsWhitesTestFn(u,x)\n",
    "\n",
    "# Input:\n",
    "- `u::Array`:   Tx1, residuals\n",
    "- `x::Array`:   Txk, regressors\n",
    "\n",
    "\"\"\"\n",
    "function OlsWhitesTestFn(u,x)\n",
    "\n",
    "  (T,k) = (size(x,1),size(x,2))\n",
    "\n",
    "  psi = zeros(T,round(Int,k*(k+1)/2))   #matrix of cross products of x\n",
    "  vv = 0\n",
    "  for i = 1:k, j = i:k\n",
    "      vv        = vv + 1  \n",
    "      psi[:,vv] = x[:,i].*x[:,j]\n",
    "  end\n",
    "\n",
    "  (_,_,_,_,R2a) = OlsFn(u.^2,psi)       #White's test for heteroskedasticity\n",
    "\n",
    "  WhiteStat = T*R2a/(1-R2a)\n",
    "  pval      = 1 - cdf(Chisq(size(psi,2)-1),WhiteStat)\n",
    "  White     = [WhiteStat pval (size(psi,2)-1)]\n",
    "\n",
    "  return White\n",
    "\n",
    "end"
   ]
  },
  {
   "cell_type": "code",
   "execution_count": 9,
   "metadata": {},
   "outputs": [
    {
     "name": "stdout",
     "output_type": "stream",
     "text": [
      "\u001b[34m\u001b[1mWhite's test, heteroskedasticity is not correlated with regressors:\u001b[22m\u001b[39m\n",
      "      stat     p-val        df\n",
      "    77.278     0.000     5.000\n",
      "\n"
     ]
    }
   ],
   "source": [
    "White = OlsWhitesTestFn(u,X)\n",
    "\n",
    "printblue(\"White's test, heteroskedasticity is not correlated with regressors:\")\n",
    "printTable(White,[\"stat\",\"p-val\",\"df\"],[\"\"])"
   ]
  },
  {
   "cell_type": "code",
   "execution_count": null,
   "metadata": {},
   "outputs": [],
   "source": []
  }
 ],
 "metadata": {
  "@webio": {
   "lastCommId": null,
   "lastKernelId": null
  },
  "anaconda-cloud": {},
  "kernelspec": {
   "display_name": "Julia 1.3.0",
   "language": "julia",
   "name": "julia-1.3"
  },
  "language_info": {
   "file_extension": ".jl",
   "mimetype": "application/julia",
   "name": "julia",
   "version": "1.3.0"
  }
 },
 "nbformat": 4,
 "nbformat_minor": 1
}
